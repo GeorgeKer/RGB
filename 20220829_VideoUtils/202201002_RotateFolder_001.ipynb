{
 "cells": [
  {
   "cell_type": "code",
   "execution_count": 12,
   "metadata": {},
   "outputs": [],
   "source": [
    "import easygui\n",
    "from  moviepy.editor import *\n",
    "import os\n",
    "import icecream as ic\n",
    "from moviepy.config import change_settings\n",
    "import datetime\n",
    "# change_settings({\"FFMPEG_BINARY\": \"ffmpeg\"})"
   ]
  },
  {
   "cell_type": "code",
   "execution_count": 2,
   "metadata": {},
   "outputs": [
    {
     "name": "stdout",
     "output_type": "stream",
     "text": [
      "/mnt/Double_Dragon/Videography/Archive/20221002/P1130140_rot90.MP4\n"
     ]
    }
   ],
   "source": [
    "# directory = easygui.diropenbox(msg='Choose Folder with Video Files to Rotage90', default='/mnt/Double_Dragon')\n",
    "init_vid = easygui.fileopenbox(msg='Choose Video FIle to open:', default='/mnt/Double_Dragon/Videography/')\n",
    "\n",
    "print(os.path.realpath(init_vid))"
   ]
  },
  {
   "cell_type": "code",
   "execution_count": 3,
   "metadata": {},
   "outputs": [],
   "source": [
    "# lst_video_filePaths = []\n",
    "# for dirpath, dirnames, filenames in os.walk(directory):\n",
    "#     for f in filenames:\n",
    "#         fname, extension = os.path.splitext(f)\n",
    "#         if extension == '.MP4' or extension == '.MTS':          # Video file extensions to choose\n",
    "#             full_fname = os.path.join(dirpath, f)\n",
    "#             lst_video_filePaths.append(full_fname)\n",
    "#             print (full_fname)\n",
    "\n",
    "# for _ in lst_video_filePaths:\n",
    "#     clip = VideoFileClip(_)\n",
    "# \n",
    "# def rename_clip_to_rot90 (filename):\n",
    "#     return filename.replace('.MP4', '_rot90.MP4')\n",
    "\n",
    "# def write_clip (clip) :\n",
    "#     clip.write_videofile(rename_clip_to_rot90(clip.filename), \n",
    "#                                             preset='veryslow', \n",
    "#                                             audio_fps=48000,\n",
    "#                                             # audio_codec='libfdk_aac',\n",
    "#                                             codec='mpeg4',\n",
    "#                                             bitrate='50000k',\n",
    "#                                             threads=7)\n",
    "#     return\n",
    "#     clip = clip.rotate(-90)\n",
    "#     write_clip(clip)\n",
    "#     print(str(lst_video_filePaths.index(_) + 1)  + '\\t'+str(len(lst_video_filePaths)) + '\\t' + clip.filename)"
   ]
  },
  {
   "cell_type": "code",
   "execution_count": 4,
   "metadata": {},
   "outputs": [],
   "source": []
  },
  {
   "cell_type": "code",
   "execution_count": 11,
   "metadata": {},
   "outputs": [
    {
     "ename": "OSError",
     "evalue": "MoviePy error: the file /mnt/Double_Dragon/Videography/Archive/20221002/P1130140_rot90_rot90.MP4 could not be found!\nPlease check that you entered the correct path.",
     "output_type": "error",
     "traceback": [
      "\u001b[0;31m---------------------------------------------------------------------------\u001b[0m",
      "\u001b[0;31mOSError\u001b[0m                                   Traceback (most recent call last)",
      "\u001b[0;32m<ipython-input-11-a8ac1b8c9fdc>\u001b[0m in \u001b[0;36m<module>\u001b[0;34m\u001b[0m\n\u001b[1;32m     12\u001b[0m     \u001b[0;32mreturn\u001b[0m \u001b[0mfilename\u001b[0m\u001b[0;34m.\u001b[0m\u001b[0mreplace\u001b[0m\u001b[0;34m(\u001b[0m\u001b[0;34m'.MP4'\u001b[0m\u001b[0;34m,\u001b[0m \u001b[0;34m'_rot90.MP4'\u001b[0m\u001b[0;34m)\u001b[0m\u001b[0;34m\u001b[0m\u001b[0;34m\u001b[0m\u001b[0m\n\u001b[1;32m     13\u001b[0m \u001b[0;34m\u001b[0m\u001b[0m\n\u001b[0;32m---> 14\u001b[0;31m \u001b[0mmyclip\u001b[0m \u001b[0;34m=\u001b[0m \u001b[0mVideoFileClip\u001b[0m\u001b[0;34m(\u001b[0m\u001b[0mrename_clip_AddTimestamp\u001b[0m\u001b[0;34m(\u001b[0m\u001b[0mmyclip\u001b[0m\u001b[0;34m.\u001b[0m\u001b[0mfilename\u001b[0m\u001b[0;34m)\u001b[0m\u001b[0;34m)\u001b[0m\u001b[0;34m.\u001b[0m\u001b[0mfx\u001b[0m\u001b[0;34m(\u001b[0m\u001b[0mvfx\u001b[0m\u001b[0;34m.\u001b[0m\u001b[0mcolorx\u001b[0m\u001b[0;34m,\u001b[0m \u001b[0;36m1.2\u001b[0m\u001b[0;34m)\u001b[0m\u001b[0;34m\u001b[0m\u001b[0;34m\u001b[0m\u001b[0m\n\u001b[0m\u001b[1;32m     15\u001b[0m \u001b[0mwrite_clip\u001b[0m\u001b[0;34m(\u001b[0m\u001b[0mmyclip\u001b[0m\u001b[0;34m)\u001b[0m\u001b[0;34m\u001b[0m\u001b[0;34m\u001b[0m\u001b[0m\n",
      "\u001b[0;32m~/anaconda3/envs/AV_20210619/lib/python3.8/site-packages/moviepy/video/io/VideoFileClip.py\u001b[0m in \u001b[0;36m__init__\u001b[0;34m(self, filename, has_mask, audio, audio_buffersize, target_resolution, resize_algorithm, audio_fps, audio_nbytes, verbose, fps_source)\u001b[0m\n\u001b[1;32m     86\u001b[0m         \u001b[0;31m# Make a reader\u001b[0m\u001b[0;34m\u001b[0m\u001b[0;34m\u001b[0m\u001b[0;34m\u001b[0m\u001b[0m\n\u001b[1;32m     87\u001b[0m         \u001b[0mpix_fmt\u001b[0m \u001b[0;34m=\u001b[0m \u001b[0;34m\"rgba\"\u001b[0m \u001b[0;32mif\u001b[0m \u001b[0mhas_mask\u001b[0m \u001b[0;32melse\u001b[0m \u001b[0;34m\"rgb24\"\u001b[0m\u001b[0;34m\u001b[0m\u001b[0;34m\u001b[0m\u001b[0m\n\u001b[0;32m---> 88\u001b[0;31m         self.reader = FFMPEG_VideoReader(filename, pix_fmt=pix_fmt,\n\u001b[0m\u001b[1;32m     89\u001b[0m                                          \u001b[0mtarget_resolution\u001b[0m\u001b[0;34m=\u001b[0m\u001b[0mtarget_resolution\u001b[0m\u001b[0;34m,\u001b[0m\u001b[0;34m\u001b[0m\u001b[0;34m\u001b[0m\u001b[0m\n\u001b[1;32m     90\u001b[0m                                          \u001b[0mresize_algo\u001b[0m\u001b[0;34m=\u001b[0m\u001b[0mresize_algorithm\u001b[0m\u001b[0;34m,\u001b[0m\u001b[0;34m\u001b[0m\u001b[0;34m\u001b[0m\u001b[0m\n",
      "\u001b[0;32m~/anaconda3/envs/AV_20210619/lib/python3.8/site-packages/moviepy/video/io/ffmpeg_reader.py\u001b[0m in \u001b[0;36m__init__\u001b[0;34m(self, filename, print_infos, bufsize, pix_fmt, check_duration, target_resolution, resize_algo, fps_source)\u001b[0m\n\u001b[1;32m     33\u001b[0m         \u001b[0mself\u001b[0m\u001b[0;34m.\u001b[0m\u001b[0mfilename\u001b[0m \u001b[0;34m=\u001b[0m \u001b[0mfilename\u001b[0m\u001b[0;34m\u001b[0m\u001b[0;34m\u001b[0m\u001b[0m\n\u001b[1;32m     34\u001b[0m         \u001b[0mself\u001b[0m\u001b[0;34m.\u001b[0m\u001b[0mproc\u001b[0m \u001b[0;34m=\u001b[0m \u001b[0;32mNone\u001b[0m\u001b[0;34m\u001b[0m\u001b[0;34m\u001b[0m\u001b[0m\n\u001b[0;32m---> 35\u001b[0;31m         infos = ffmpeg_parse_infos(filename, print_infos, check_duration,\n\u001b[0m\u001b[1;32m     36\u001b[0m                                    fps_source)\n\u001b[1;32m     37\u001b[0m         \u001b[0mself\u001b[0m\u001b[0;34m.\u001b[0m\u001b[0mfps\u001b[0m \u001b[0;34m=\u001b[0m \u001b[0minfos\u001b[0m\u001b[0;34m[\u001b[0m\u001b[0;34m'video_fps'\u001b[0m\u001b[0;34m]\u001b[0m\u001b[0;34m\u001b[0m\u001b[0;34m\u001b[0m\u001b[0m\n",
      "\u001b[0;32m~/anaconda3/envs/AV_20210619/lib/python3.8/site-packages/moviepy/video/io/ffmpeg_reader.py\u001b[0m in \u001b[0;36mffmpeg_parse_infos\u001b[0;34m(filename, print_infos, check_duration, fps_source)\u001b[0m\n\u001b[1;32m    268\u001b[0m     \u001b[0mlines\u001b[0m \u001b[0;34m=\u001b[0m \u001b[0minfos\u001b[0m\u001b[0;34m.\u001b[0m\u001b[0msplitlines\u001b[0m\u001b[0;34m(\u001b[0m\u001b[0;34m)\u001b[0m\u001b[0;34m\u001b[0m\u001b[0;34m\u001b[0m\u001b[0m\n\u001b[1;32m    269\u001b[0m     \u001b[0;32mif\u001b[0m \u001b[0;34m\"No such file or directory\"\u001b[0m \u001b[0;32min\u001b[0m \u001b[0mlines\u001b[0m\u001b[0;34m[\u001b[0m\u001b[0;34m-\u001b[0m\u001b[0;36m1\u001b[0m\u001b[0;34m]\u001b[0m\u001b[0;34m:\u001b[0m\u001b[0;34m\u001b[0m\u001b[0;34m\u001b[0m\u001b[0m\n\u001b[0;32m--> 270\u001b[0;31m         raise IOError((\"MoviePy error: the file %s could not be found!\\n\"\n\u001b[0m\u001b[1;32m    271\u001b[0m                       \u001b[0;34m\"Please check that you entered the correct \"\u001b[0m\u001b[0;34m\u001b[0m\u001b[0;34m\u001b[0m\u001b[0m\n\u001b[1;32m    272\u001b[0m                       \"path.\")%filename)\n",
      "\u001b[0;31mOSError\u001b[0m: MoviePy error: the file /mnt/Double_Dragon/Videography/Archive/20221002/P1130140_rot90_rot90.MP4 could not be found!\nPlease check that you entered the correct path."
     ]
    }
   ],
   "source": [
    "def write_clip (clip) :\n",
    "    clip.write_videofile(clip, \n",
    "                                            preset='veryslow', \n",
    "                                            audio_fps=48000,\n",
    "                                            # audio_codec='libfdk_aac',\n",
    "                                            codec='mpeg4',\n",
    "                                            bitrate='50000k',\n",
    "                                            threads=7)\n",
    "    return\n",
    "\n",
    "def rename_clip_AddTimestamp (filename):\n",
    "    \n",
    "    return filename.replace('.MP4', '_.MP4')\n",
    "\n",
    "myclip = VideoFileClip(rename_clip_AddTimestamp(myclip.filename)).fx(vfx.colorx, 1.2)\n",
    "write_clip(myclip)"
   ]
  },
  {
   "cell_type": "code",
   "execution_count": null,
   "metadata": {},
   "outputs": [],
   "source": []
  }
 ],
 "metadata": {
  "kernelspec": {
   "display_name": "Python 3.8.10 ('AV_20210619')",
   "language": "python",
   "name": "python3"
  },
  "language_info": {
   "codemirror_mode": {
    "name": "ipython",
    "version": 3
   },
   "file_extension": ".py",
   "mimetype": "text/x-python",
   "name": "python",
   "nbconvert_exporter": "python",
   "pygments_lexer": "ipython3",
   "version": "3.8.10"
  },
  "orig_nbformat": 4,
  "vscode": {
   "interpreter": {
    "hash": "d58c107ef9c844447595edfcbea94b436b4ec96a01c38f5998ee33f2beea4a5e"
   }
  }
 },
 "nbformat": 4,
 "nbformat_minor": 2
}
