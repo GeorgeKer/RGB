{
 "cells": [
  {
   "cell_type": "code",
   "execution_count": 10,
   "metadata": {},
   "outputs": [],
   "source": [
    "import easygui\n",
    "import moviepy\n",
    "import os\n",
    "import icecream"
   ]
  },
  {
   "cell_type": "code",
   "execution_count": 4,
   "metadata": {},
   "outputs": [],
   "source": [
    "directory = easygui.diropenbox(msg='Choose Folder with Video Files to Rotage90', default='/')"
   ]
  },
  {
   "cell_type": "code",
   "execution_count": 8,
   "metadata": {},
   "outputs": [],
   "source": [
    "lst_video_filePaths = []\n",
    "for dirpath, dirnames, filenames in os.walk(directory):\n",
    "    for f in filenames:\n",
    "        fname, extension = os.path.splitext(f)\n",
    "        if extension == '.MP4' or extension == '.MTS':          # Video file extensions to choose\n",
    "            full_fname = os.path.join(dirpath, f)\n",
    "            lst_video_filePaths.append(full_fname)"
   ]
  },
  {
   "cell_type": "code",
   "execution_count": 12,
   "metadata": {},
   "outputs": [
    {
     "name": "stdout",
     "output_type": "stream",
     "text": [
      "['/mnt/Double_Dragon/Videography/Archive/20220829/P1050005.MP4', '/mnt/Double_Dragon/Videography/Archive/20220829/P1050006.MP4', '/mnt/Double_Dragon/Videography/Archive/20220829/P1050008.MP4', '/mnt/Double_Dragon/Videography/Archive/20220829/P1050009.MP4', '/mnt/Double_Dragon/Videography/Archive/20220829/P1050011.MP4', '/mnt/Double_Dragon/Videography/Archive/20220829/P1050013.MP4', '/mnt/Double_Dragon/Videography/Archive/20220829/P1050015.MP4', '/mnt/Double_Dragon/Videography/Archive/20220829/P1050016.MP4', '/mnt/Double_Dragon/Videography/Archive/20220829/P1050017.MP4', '/mnt/Double_Dragon/Videography/Archive/20220829/P1050018.MP4', '/mnt/Double_Dragon/Videography/Archive/20220829/P1050019.MP4', '/mnt/Double_Dragon/Videography/Archive/20220829/P1050021.MP4', '/mnt/Double_Dragon/Videography/Archive/20220829/P1050022.MP4', '/mnt/Double_Dragon/Videography/Archive/20220829/P1050023.MP4', '/mnt/Double_Dragon/Videography/Archive/20220829/P1050024.MP4', '/mnt/Double_Dragon/Videography/Archive/20220829/P1050026.MP4', '/mnt/Double_Dragon/Videography/Archive/20220829/P1050027.MP4', '/mnt/Double_Dragon/Videography/Archive/20220829/P1050029.MP4', '/mnt/Double_Dragon/Videography/Archive/20220829/P1050030.MP4', '/mnt/Double_Dragon/Videography/Archive/20220829/P1050031.MP4', '/mnt/Double_Dragon/Videography/Archive/20220829/P1050033.MP4', '/mnt/Double_Dragon/Videography/Archive/20220829/P1050034.MP4', '/mnt/Double_Dragon/Videography/Archive/20220829/P1050035.MP4', '/mnt/Double_Dragon/Videography/Archive/20220829/P1050036.MP4', '/mnt/Double_Dragon/Videography/Archive/20220829/P1050038.MP4', '/mnt/Double_Dragon/Videography/Archive/20220829/P1050039.MP4', '/mnt/Double_Dragon/Videography/Archive/20220829/P1050040.MP4', '/mnt/Double_Dragon/Videography/Archive/20220829/P1050041.MP4', '/mnt/Double_Dragon/Videography/Archive/20220829/P1050042.MP4', '/mnt/Double_Dragon/Videography/Archive/20220829/P1050007.MP4', '/mnt/Double_Dragon/Videography/Archive/20220829/P1050025.MP4', '/mnt/Double_Dragon/Videography/Archive/20220829/P1050044.MP4', '/mnt/Double_Dragon/Videography/Archive/20220829/P1050045.MP4', '/mnt/Double_Dragon/Videography/Archive/20220829/P1050046.MP4', '/mnt/Double_Dragon/Videography/Archive/20220829/P1050047.MP4', '/mnt/Double_Dragon/Videography/Archive/20220829/P1050048.MP4', '/mnt/Double_Dragon/Videography/Archive/20220829/P1050049.MP4', '/mnt/Double_Dragon/Videography/Archive/20220829/P1050050.MP4', '/mnt/Double_Dragon/Videography/Archive/20220829/P1050051.MP4', '/mnt/Double_Dragon/Videography/Archive/20220829/P1050052.MP4', '/mnt/Double_Dragon/Videography/Archive/20220829/P1050053.MP4', '/mnt/Double_Dragon/Videography/Archive/20220829/P1050054.MP4', '/mnt/Double_Dragon/Videography/Archive/20220829/P1050055.MP4', '/mnt/Double_Dragon/Videography/Archive/20220829/P1050056.MP4', '/mnt/Double_Dragon/Videography/Archive/20220829/P1050057.MP4', '/mnt/Double_Dragon/Videography/Archive/20220829/P1050058.MP4', '/mnt/Double_Dragon/Videography/Archive/20220829/P1050059.MP4', '/mnt/Double_Dragon/Videography/Archive/20220829/P1050060.MP4', '/mnt/Double_Dragon/Videography/Archive/20220829/P1050061.MP4', '/mnt/Double_Dragon/Videography/Archive/20220829/P1050062.MP4', '/mnt/Double_Dragon/Videography/Archive/20220829/P1050063.MP4', '/mnt/Double_Dragon/Videography/Archive/20220829/P1050064.MP4']\n"
     ]
    }
   ],
   "source": [
    "print(lst_video_filePaths)"
   ]
  },
  {
   "cell_type": "code",
   "execution_count": null,
   "metadata": {},
   "outputs": [],
   "source": []
  }
 ],
 "metadata": {
  "kernelspec": {
   "display_name": "Python 3.8.10 ('AV_20210619')",
   "language": "python",
   "name": "python3"
  },
  "language_info": {
   "codemirror_mode": {
    "name": "ipython",
    "version": 3
   },
   "file_extension": ".py",
   "mimetype": "text/x-python",
   "name": "python",
   "nbconvert_exporter": "python",
   "pygments_lexer": "ipython3",
   "version": "3.8.10"
  },
  "orig_nbformat": 4,
  "vscode": {
   "interpreter": {
    "hash": "d58c107ef9c844447595edfcbea94b436b4ec96a01c38f5998ee33f2beea4a5e"
   }
  }
 },
 "nbformat": 4,
 "nbformat_minor": 2
}
