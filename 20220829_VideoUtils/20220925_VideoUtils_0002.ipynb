{
 "cells": [
  {
   "cell_type": "code",
   "execution_count": 9,
   "metadata": {},
   "outputs": [],
   "source": [
    "import easygui\n",
    "from  moviepy.editor import *\n",
    "import os\n",
    "import icecream as ic\n",
    "from moviepy.config import change_settings\n",
    "# change_settings({\"FFMPEG_BINARY\": \"ffmpeg\"})"
   ]
  },
  {
   "cell_type": "code",
   "execution_count": 28,
   "metadata": {},
   "outputs": [
    {
     "name": "stdout",
     "output_type": "stream",
     "text": [
      "/mnt/Double_Dragon/Videography/Archive/20220825\n"
     ]
    }
   ],
   "source": [
    "directory = easygui.diropenbox(msg='Choose Folder with Video Files to Rotage90', default='/mnt/Double_Dragon')\n",
    "print(os.path.realpath(directory))"
   ]
  },
  {
   "cell_type": "code",
   "execution_count": 29,
   "metadata": {},
   "outputs": [
    {
     "name": "stdout",
     "output_type": "stream",
     "text": [
      "/mnt/Double_Dragon/Videography/Archive/20220825/P1040777.MP4\n",
      "/mnt/Double_Dragon/Videography/Archive/20220825/P1040764.MP4\n",
      "/mnt/Double_Dragon/Videography/Archive/20220825/P1040765.MP4\n",
      "/mnt/Double_Dragon/Videography/Archive/20220825/P1040766.MP4\n",
      "/mnt/Double_Dragon/Videography/Archive/20220825/P1040767.MP4\n",
      "/mnt/Double_Dragon/Videography/Archive/20220825/P1040768.MP4\n",
      "/mnt/Double_Dragon/Videography/Archive/20220825/P1040769.MP4\n",
      "/mnt/Double_Dragon/Videography/Archive/20220825/P1040770.MP4\n",
      "/mnt/Double_Dragon/Videography/Archive/20220825/P1040771.MP4\n",
      "/mnt/Double_Dragon/Videography/Archive/20220825/P1040772.MP4\n",
      "/mnt/Double_Dragon/Videography/Archive/20220825/P1040773.MP4\n",
      "/mnt/Double_Dragon/Videography/Archive/20220825/P1040774.MP4\n",
      "/mnt/Double_Dragon/Videography/Archive/20220825/P1040775.MP4\n",
      "/mnt/Double_Dragon/Videography/Archive/20220825/P1040776.MP4\n",
      "/mnt/Double_Dragon/Videography/Archive/20220825/P1040778.MP4\n",
      "/mnt/Double_Dragon/Videography/Archive/20220825/P1040779.MP4\n",
      "/mnt/Double_Dragon/Videography/Archive/20220825/P1040780.MP4\n",
      "/mnt/Double_Dragon/Videography/Archive/20220825/P1040781.MP4\n",
      "/mnt/Double_Dragon/Videography/Archive/20220825/P1040782.MP4\n",
      "/mnt/Double_Dragon/Videography/Archive/20220825/P1040783.MP4\n",
      "/mnt/Double_Dragon/Videography/Archive/20220825/P1040784.MP4\n",
      "/mnt/Double_Dragon/Videography/Archive/20220825/P1040785.MP4\n",
      "/mnt/Double_Dragon/Videography/Archive/20220825/P1040786.MP4\n",
      "/mnt/Double_Dragon/Videography/Archive/20220825/P1040787.MP4\n",
      "/mnt/Double_Dragon/Videography/Archive/20220825/P1040788.MP4\n",
      "/mnt/Double_Dragon/Videography/Archive/20220825/P1040789.MP4\n",
      "/mnt/Double_Dragon/Videography/Archive/20220825/P1040790.MP4\n",
      "/mnt/Double_Dragon/Videography/Archive/20220825/P1040791.MP4\n",
      "/mnt/Double_Dragon/Videography/Archive/20220825/P1040792.MP4\n",
      "/mnt/Double_Dragon/Videography/Archive/20220825/P1040793.MP4\n",
      "/mnt/Double_Dragon/Videography/Archive/20220825/P1040794.MP4\n",
      "/mnt/Double_Dragon/Videography/Archive/20220825/P1040795.MP4\n",
      "/mnt/Double_Dragon/Videography/Archive/20220825/P1040796.MP4\n",
      "/mnt/Double_Dragon/Videography/Archive/20220825/P1040797.MP4\n",
      "/mnt/Double_Dragon/Videography/Archive/20220825/P1040798.MP4\n",
      "/mnt/Double_Dragon/Videography/Archive/20220825/P1040799.MP4\n",
      "/mnt/Double_Dragon/Videography/Archive/20220825/P1040800.MP4\n",
      "/mnt/Double_Dragon/Videography/Archive/20220825/P1040802.MP4\n",
      "/mnt/Double_Dragon/Videography/Archive/20220825/P1040803.MP4\n"
     ]
    }
   ],
   "source": [
    "lst_video_filePaths = []\n",
    "for dirpath, dirnames, filenames in os.walk(directory):\n",
    "    for f in filenames:\n",
    "        fname, extension = os.path.splitext(f)\n",
    "        if extension == '.MP4' or extension == '.MTS':          # Video file extensions to choose\n",
    "            full_fname = os.path.join(dirpath, f)\n",
    "            lst_video_filePaths.append(full_fname)\n",
    "            print (full_fname)"
   ]
  },
  {
   "cell_type": "code",
   "execution_count": 30,
   "metadata": {},
   "outputs": [],
   "source": [
    "def rename_clip_to_rot90 (filename):\n",
    "    return filename.replace('.MP4', '_rot90.MP4')\n",
    "\n",
    "def write_clip (clip) :\n",
    "    clip.write_videofile(rename_clip_to_rot90(clip.filename), \n",
    "                                            preset='veryslow', \n",
    "                                            audio_fps=48000,\n",
    "                                            # audio_codec='libfdk_aac',\n",
    "                                            codec='mpeg4',\n",
    "                                            bitrate='50000k',\n",
    "                                            threads=7)\n",
    "    return"
   ]
  },
  {
   "cell_type": "code",
   "execution_count": 31,
   "metadata": {},
   "outputs": [
    {
     "name": "stderr",
     "output_type": "stream",
     "text": [
      "t:   7%|▋         | 4/60 [38:53<00:02, 23.01it/s, now=None]"
     ]
    },
    {
     "name": "stdout",
     "output_type": "stream",
     "text": [
      "Moviepy - Building video /mnt/Double_Dragon/Videography/Archive/20220825/P1040777_rot90.MP4.\n",
      "MoviePy - Writing audio in P1040777_rot90TEMP_MPY_wvf_snd.mp3\n"
     ]
    },
    {
     "name": "stderr",
     "output_type": "stream",
     "text": [
      "t:   7%|▋         | 4/60 [38:53<00:02, 23.01it/s, now=None]"
     ]
    },
    {
     "name": "stdout",
     "output_type": "stream",
     "text": [
      "MoviePy - Done.\n",
      "Moviepy - Writing video /mnt/Double_Dragon/Videography/Archive/20220825/P1040777_rot90.MP4\n",
      "\n"
     ]
    },
    {
     "name": "stderr",
     "output_type": "stream",
     "text": [
      "t:   7%|▋         | 4/60 [38:57<00:02, 23.01it/s, now=None]"
     ]
    },
    {
     "name": "stdout",
     "output_type": "stream",
     "text": [
      "Moviepy - Done !\n",
      "Moviepy - video ready /mnt/Double_Dragon/Videography/Archive/20220825/P1040777_rot90.MP4\n",
      "1\t39\t/mnt/Double_Dragon/Videography/Archive/20220825/P1040777.MP4\n"
     ]
    },
    {
     "name": "stderr",
     "output_type": "stream",
     "text": [
      "t:   7%|▋         | 4/60 [38:57<00:02, 23.01it/s, now=None]"
     ]
    },
    {
     "name": "stdout",
     "output_type": "stream",
     "text": [
      "Moviepy - Building video /mnt/Double_Dragon/Videography/Archive/20220825/P1040764_rot90.MP4.\n",
      "MoviePy - Writing audio in P1040764_rot90TEMP_MPY_wvf_snd.mp3\n",
      "MoviePy - Done.\n",
      "Moviepy - Writing video /mnt/Double_Dragon/Videography/Archive/20220825/P1040764_rot90.MP4\n",
      "\n"
     ]
    },
    {
     "name": "stderr",
     "output_type": "stream",
     "text": [
      "t:   7%|▋         | 4/60 [39:01<00:02, 23.01it/s, now=None]"
     ]
    },
    {
     "name": "stdout",
     "output_type": "stream",
     "text": [
      "Moviepy - Done !\n",
      "Moviepy - video ready /mnt/Double_Dragon/Videography/Archive/20220825/P1040764_rot90.MP4\n",
      "2\t39\t/mnt/Double_Dragon/Videography/Archive/20220825/P1040764.MP4\n"
     ]
    },
    {
     "name": "stderr",
     "output_type": "stream",
     "text": [
      "t:   7%|▋         | 4/60 [39:01<00:02, 23.01it/s, now=None]\n",
      "t:   0%|          | 0/60 [00:00<?, ?it/s, now=None]"
     ]
    },
    {
     "name": "stdout",
     "output_type": "stream",
     "text": [
      "Moviepy - Building video /mnt/Double_Dragon/Videography/Archive/20220825/P1040765_rot90.MP4.\n",
      "MoviePy - Writing audio in P1040765_rot90TEMP_MPY_wvf_snd.mp3\n",
      "MoviePy - Done.\n",
      "Moviepy - Writing video /mnt/Double_Dragon/Videography/Archive/20220825/P1040765_rot90.MP4\n",
      "\n"
     ]
    },
    {
     "name": "stderr",
     "output_type": "stream",
     "text": [
      "t:   7%|▋         | 4/60 [39:05<00:02, 23.01it/s, now=None]"
     ]
    },
    {
     "name": "stdout",
     "output_type": "stream",
     "text": [
      "Moviepy - Done !\n",
      "Moviepy - video ready /mnt/Double_Dragon/Videography/Archive/20220825/P1040765_rot90.MP4\n",
      "3\t39\t/mnt/Double_Dragon/Videography/Archive/20220825/P1040765.MP4\n"
     ]
    },
    {
     "name": "stderr",
     "output_type": "stream",
     "text": [
      "t:   7%|▋         | 4/60 [39:05<00:02, 23.01it/s, now=None]"
     ]
    },
    {
     "name": "stdout",
     "output_type": "stream",
     "text": [
      "Moviepy - Building video /mnt/Double_Dragon/Videography/Archive/20220825/P1040766_rot90.MP4.\n",
      "MoviePy - Writing audio in P1040766_rot90TEMP_MPY_wvf_snd.mp3\n",
      "MoviePy - Done.\n",
      "Moviepy - Writing video /mnt/Double_Dragon/Videography/Archive/20220825/P1040766_rot90.MP4\n",
      "\n"
     ]
    },
    {
     "name": "stderr",
     "output_type": "stream",
     "text": [
      "t:   7%|▋         | 4/60 [39:09<00:02, 23.01it/s, now=None]"
     ]
    },
    {
     "name": "stdout",
     "output_type": "stream",
     "text": [
      "Moviepy - Done !\n",
      "Moviepy - video ready /mnt/Double_Dragon/Videography/Archive/20220825/P1040766_rot90.MP4\n",
      "4\t39\t/mnt/Double_Dragon/Videography/Archive/20220825/P1040766.MP4\n"
     ]
    },
    {
     "name": "stderr",
     "output_type": "stream",
     "text": [
      "t:   7%|▋         | 4/60 [39:10<00:02, 23.01it/s, now=None]"
     ]
    },
    {
     "name": "stdout",
     "output_type": "stream",
     "text": [
      "Moviepy - Building video /mnt/Double_Dragon/Videography/Archive/20220825/P1040767_rot90.MP4.\n",
      "MoviePy - Writing audio in P1040767_rot90TEMP_MPY_wvf_snd.mp3\n",
      "MoviePy - Done.\n",
      "Moviepy - Writing video /mnt/Double_Dragon/Videography/Archive/20220825/P1040767_rot90.MP4\n",
      "\n"
     ]
    },
    {
     "name": "stderr",
     "output_type": "stream",
     "text": [
      "t:   7%|▋         | 4/60 [39:13<00:02, 23.01it/s, now=None]"
     ]
    },
    {
     "name": "stdout",
     "output_type": "stream",
     "text": [
      "Moviepy - Done !\n",
      "Moviepy - video ready /mnt/Double_Dragon/Videography/Archive/20220825/P1040767_rot90.MP4\n",
      "5\t39\t/mnt/Double_Dragon/Videography/Archive/20220825/P1040767.MP4\n"
     ]
    },
    {
     "name": "stderr",
     "output_type": "stream",
     "text": [
      "t:   7%|▋         | 4/60 [39:14<00:02, 23.01it/s, now=None]"
     ]
    },
    {
     "name": "stdout",
     "output_type": "stream",
     "text": [
      "Moviepy - Building video /mnt/Double_Dragon/Videography/Archive/20220825/P1040768_rot90.MP4.\n",
      "MoviePy - Writing audio in P1040768_rot90TEMP_MPY_wvf_snd.mp3\n"
     ]
    },
    {
     "name": "stderr",
     "output_type": "stream",
     "text": [
      "t:   7%|▋         | 4/60 [39:14<00:02, 23.01it/s, now=None]"
     ]
    },
    {
     "name": "stdout",
     "output_type": "stream",
     "text": [
      "MoviePy - Done.\n",
      "Moviepy - Writing video /mnt/Double_Dragon/Videography/Archive/20220825/P1040768_rot90.MP4\n",
      "\n"
     ]
    },
    {
     "name": "stderr",
     "output_type": "stream",
     "text": [
      "t:   7%|▋         | 4/60 [39:18<00:02, 23.01it/s, now=None]"
     ]
    },
    {
     "name": "stdout",
     "output_type": "stream",
     "text": [
      "Moviepy - Done !\n",
      "Moviepy - video ready /mnt/Double_Dragon/Videography/Archive/20220825/P1040768_rot90.MP4\n",
      "6\t39\t/mnt/Double_Dragon/Videography/Archive/20220825/P1040768.MP4\n"
     ]
    },
    {
     "name": "stderr",
     "output_type": "stream",
     "text": [
      "t:   7%|▋         | 4/60 [39:18<00:02, 23.01it/s, now=None]\n"
     ]
    },
    {
     "name": "stdout",
     "output_type": "stream",
     "text": [
      "Moviepy - Building video /mnt/Double_Dragon/Videography/Archive/20220825/P1040769_rot90.MP4.\n",
      "MoviePy - Writing audio in P1040769_rot90TEMP_MPY_wvf_snd.mp3\n",
      "MoviePy - Done.\n",
      "Moviepy - Writing video /mnt/Double_Dragon/Videography/Archive/20220825/P1040769_rot90.MP4\n",
      "\n"
     ]
    },
    {
     "name": "stderr",
     "output_type": "stream",
     "text": [
      "t:   7%|▋         | 4/60 [39:22<00:02, 23.01it/s, now=None]"
     ]
    },
    {
     "name": "stdout",
     "output_type": "stream",
     "text": [
      "Moviepy - Done !\n",
      "Moviepy - video ready /mnt/Double_Dragon/Videography/Archive/20220825/P1040769_rot90.MP4\n",
      "7\t39\t/mnt/Double_Dragon/Videography/Archive/20220825/P1040769.MP4\n"
     ]
    },
    {
     "name": "stderr",
     "output_type": "stream",
     "text": [
      "t:   7%|▋         | 4/60 [39:23<00:02, 23.01it/s, now=None]"
     ]
    },
    {
     "name": "stdout",
     "output_type": "stream",
     "text": [
      "Moviepy - Building video /mnt/Double_Dragon/Videography/Archive/20220825/P1040770_rot90.MP4.\n",
      "MoviePy - Writing audio in P1040770_rot90TEMP_MPY_wvf_snd.mp3\n",
      "MoviePy - Done.\n",
      "Moviepy - Writing video /mnt/Double_Dragon/Videography/Archive/20220825/P1040770_rot90.MP4\n",
      "\n"
     ]
    },
    {
     "name": "stderr",
     "output_type": "stream",
     "text": [
      "t:   7%|▋         | 4/60 [39:26<00:02, 23.01it/s, now=None]"
     ]
    },
    {
     "name": "stdout",
     "output_type": "stream",
     "text": [
      "Moviepy - Done !\n",
      "Moviepy - video ready /mnt/Double_Dragon/Videography/Archive/20220825/P1040770_rot90.MP4\n",
      "8\t39\t/mnt/Double_Dragon/Videography/Archive/20220825/P1040770.MP4\n"
     ]
    },
    {
     "name": "stderr",
     "output_type": "stream",
     "text": [
      "t:   7%|▋         | 4/60 [39:27<00:02, 23.01it/s, now=None]"
     ]
    },
    {
     "name": "stdout",
     "output_type": "stream",
     "text": [
      "Moviepy - Building video /mnt/Double_Dragon/Videography/Archive/20220825/P1040771_rot90.MP4.\n",
      "MoviePy - Writing audio in P1040771_rot90TEMP_MPY_wvf_snd.mp3\n",
      "MoviePy - Done.\n",
      "Moviepy - Writing video /mnt/Double_Dragon/Videography/Archive/20220825/P1040771_rot90.MP4\n",
      "\n"
     ]
    },
    {
     "name": "stderr",
     "output_type": "stream",
     "text": [
      "t:   7%|▋         | 4/60 [39:30<00:02, 23.01it/s, now=None]"
     ]
    },
    {
     "name": "stdout",
     "output_type": "stream",
     "text": [
      "Moviepy - Done !\n",
      "Moviepy - video ready /mnt/Double_Dragon/Videography/Archive/20220825/P1040771_rot90.MP4\n",
      "9\t39\t/mnt/Double_Dragon/Videography/Archive/20220825/P1040771.MP4\n"
     ]
    },
    {
     "name": "stderr",
     "output_type": "stream",
     "text": [
      "t:   7%|▋         | 4/60 [39:31<00:02, 23.01it/s, now=None]"
     ]
    },
    {
     "name": "stdout",
     "output_type": "stream",
     "text": [
      "Moviepy - Building video /mnt/Double_Dragon/Videography/Archive/20220825/P1040772_rot90.MP4.\n",
      "MoviePy - Writing audio in P1040772_rot90TEMP_MPY_wvf_snd.mp3\n",
      "MoviePy - Done.\n",
      "Moviepy - Writing video /mnt/Double_Dragon/Videography/Archive/20220825/P1040772_rot90.MP4\n",
      "\n"
     ]
    },
    {
     "name": "stderr",
     "output_type": "stream",
     "text": [
      "t:   7%|▋         | 4/60 [39:34<00:02, 23.01it/s, now=None]"
     ]
    },
    {
     "name": "stdout",
     "output_type": "stream",
     "text": [
      "Moviepy - Done !\n",
      "Moviepy - video ready /mnt/Double_Dragon/Videography/Archive/20220825/P1040772_rot90.MP4\n",
      "10\t39\t/mnt/Double_Dragon/Videography/Archive/20220825/P1040772.MP4\n"
     ]
    },
    {
     "name": "stderr",
     "output_type": "stream",
     "text": [
      "t:   7%|▋         | 4/60 [39:35<00:02, 23.01it/s, now=None]"
     ]
    },
    {
     "name": "stdout",
     "output_type": "stream",
     "text": [
      "Moviepy - Building video /mnt/Double_Dragon/Videography/Archive/20220825/P1040773_rot90.MP4.\n",
      "MoviePy - Writing audio in P1040773_rot90TEMP_MPY_wvf_snd.mp3\n",
      "MoviePy - Done.\n",
      "Moviepy - Writing video /mnt/Double_Dragon/Videography/Archive/20220825/P1040773_rot90.MP4\n",
      "\n"
     ]
    },
    {
     "name": "stderr",
     "output_type": "stream",
     "text": [
      "t:   7%|▋         | 4/60 [39:39<00:02, 23.01it/s, now=None]"
     ]
    },
    {
     "name": "stdout",
     "output_type": "stream",
     "text": [
      "Moviepy - Done !\n",
      "Moviepy - video ready /mnt/Double_Dragon/Videography/Archive/20220825/P1040773_rot90.MP4\n",
      "11\t39\t/mnt/Double_Dragon/Videography/Archive/20220825/P1040773.MP4\n"
     ]
    },
    {
     "name": "stderr",
     "output_type": "stream",
     "text": [
      "t:   7%|▋         | 4/60 [39:40<00:02, 23.01it/s, now=None]"
     ]
    },
    {
     "name": "stdout",
     "output_type": "stream",
     "text": [
      "Moviepy - Building video /mnt/Double_Dragon/Videography/Archive/20220825/P1040774_rot90.MP4.\n",
      "MoviePy - Writing audio in P1040774_rot90TEMP_MPY_wvf_snd.mp3\n",
      "MoviePy - Done.\n",
      "Moviepy - Writing video /mnt/Double_Dragon/Videography/Archive/20220825/P1040774_rot90.MP4\n",
      "\n"
     ]
    },
    {
     "name": "stderr",
     "output_type": "stream",
     "text": [
      "t:   7%|▋         | 4/60 [39:43<00:02, 23.01it/s, now=None]"
     ]
    },
    {
     "name": "stdout",
     "output_type": "stream",
     "text": [
      "Moviepy - Done !\n",
      "Moviepy - video ready /mnt/Double_Dragon/Videography/Archive/20220825/P1040774_rot90.MP4\n",
      "12\t39\t/mnt/Double_Dragon/Videography/Archive/20220825/P1040774.MP4\n"
     ]
    },
    {
     "name": "stderr",
     "output_type": "stream",
     "text": [
      "t:   7%|▋         | 4/60 [39:44<00:02, 23.01it/s, now=None]"
     ]
    },
    {
     "name": "stdout",
     "output_type": "stream",
     "text": [
      "Moviepy - Building video /mnt/Double_Dragon/Videography/Archive/20220825/P1040775_rot90.MP4.\n",
      "MoviePy - Writing audio in P1040775_rot90TEMP_MPY_wvf_snd.mp3\n",
      "MoviePy - Done.\n",
      "Moviepy - Writing video /mnt/Double_Dragon/Videography/Archive/20220825/P1040775_rot90.MP4\n",
      "\n"
     ]
    },
    {
     "name": "stderr",
     "output_type": "stream",
     "text": [
      "t:   7%|▋         | 4/60 [39:47<00:02, 23.01it/s, now=None]"
     ]
    },
    {
     "name": "stdout",
     "output_type": "stream",
     "text": [
      "Moviepy - Done !\n",
      "Moviepy - video ready /mnt/Double_Dragon/Videography/Archive/20220825/P1040775_rot90.MP4\n",
      "13\t39\t/mnt/Double_Dragon/Videography/Archive/20220825/P1040775.MP4\n"
     ]
    },
    {
     "name": "stderr",
     "output_type": "stream",
     "text": [
      "t:   7%|▋         | 4/60 [39:48<00:02, 23.01it/s, now=None]"
     ]
    },
    {
     "name": "stdout",
     "output_type": "stream",
     "text": [
      "Moviepy - Building video /mnt/Double_Dragon/Videography/Archive/20220825/P1040776_rot90.MP4.\n",
      "MoviePy - Writing audio in P1040776_rot90TEMP_MPY_wvf_snd.mp3\n",
      "MoviePy - Done.\n",
      "Moviepy - Writing video /mnt/Double_Dragon/Videography/Archive/20220825/P1040776_rot90.MP4\n",
      "\n"
     ]
    },
    {
     "name": "stderr",
     "output_type": "stream",
     "text": [
      "t:   7%|▋         | 4/60 [39:51<00:02, 23.01it/s, now=None]"
     ]
    },
    {
     "name": "stdout",
     "output_type": "stream",
     "text": [
      "Moviepy - Done !\n",
      "Moviepy - video ready /mnt/Double_Dragon/Videography/Archive/20220825/P1040776_rot90.MP4\n",
      "14\t39\t/mnt/Double_Dragon/Videography/Archive/20220825/P1040776.MP4\n"
     ]
    },
    {
     "name": "stderr",
     "output_type": "stream",
     "text": [
      "t:   7%|▋         | 4/60 [39:52<00:02, 23.01it/s, now=None]"
     ]
    },
    {
     "name": "stdout",
     "output_type": "stream",
     "text": [
      "Moviepy - Building video /mnt/Double_Dragon/Videography/Archive/20220825/P1040778_rot90.MP4.\n",
      "MoviePy - Writing audio in P1040778_rot90TEMP_MPY_wvf_snd.mp3\n",
      "MoviePy - Done.\n",
      "Moviepy - Writing video /mnt/Double_Dragon/Videography/Archive/20220825/P1040778_rot90.MP4\n",
      "\n"
     ]
    },
    {
     "name": "stderr",
     "output_type": "stream",
     "text": [
      "t:   7%|▋         | 4/60 [39:55<00:02, 23.01it/s, now=None]"
     ]
    },
    {
     "name": "stdout",
     "output_type": "stream",
     "text": [
      "Moviepy - Done !\n",
      "Moviepy - video ready /mnt/Double_Dragon/Videography/Archive/20220825/P1040778_rot90.MP4\n",
      "15\t39\t/mnt/Double_Dragon/Videography/Archive/20220825/P1040778.MP4\n"
     ]
    },
    {
     "name": "stderr",
     "output_type": "stream",
     "text": [
      "t:   7%|▋         | 4/60 [39:56<00:02, 23.01it/s, now=None]"
     ]
    },
    {
     "name": "stdout",
     "output_type": "stream",
     "text": [
      "Moviepy - Building video /mnt/Double_Dragon/Videography/Archive/20220825/P1040779_rot90.MP4.\n",
      "MoviePy - Writing audio in P1040779_rot90TEMP_MPY_wvf_snd.mp3\n",
      "MoviePy - Done.\n",
      "Moviepy - Writing video /mnt/Double_Dragon/Videography/Archive/20220825/P1040779_rot90.MP4\n",
      "\n"
     ]
    },
    {
     "name": "stderr",
     "output_type": "stream",
     "text": [
      "t:   7%|▋         | 4/60 [39:59<00:02, 23.01it/s, now=None]"
     ]
    },
    {
     "name": "stdout",
     "output_type": "stream",
     "text": [
      "Moviepy - Done !\n",
      "Moviepy - video ready /mnt/Double_Dragon/Videography/Archive/20220825/P1040779_rot90.MP4\n",
      "16\t39\t/mnt/Double_Dragon/Videography/Archive/20220825/P1040779.MP4\n"
     ]
    },
    {
     "name": "stderr",
     "output_type": "stream",
     "text": [
      "t:   7%|▋         | 4/60 [40:00<00:02, 23.01it/s, now=None]"
     ]
    },
    {
     "name": "stdout",
     "output_type": "stream",
     "text": [
      "Moviepy - Building video /mnt/Double_Dragon/Videography/Archive/20220825/P1040780_rot90.MP4.\n",
      "MoviePy - Writing audio in P1040780_rot90TEMP_MPY_wvf_snd.mp3\n",
      "MoviePy - Done.\n",
      "Moviepy - Writing video /mnt/Double_Dragon/Videography/Archive/20220825/P1040780_rot90.MP4\n",
      "\n"
     ]
    },
    {
     "name": "stderr",
     "output_type": "stream",
     "text": [
      "t:   7%|▋         | 4/60 [40:04<00:02, 23.01it/s, now=None]"
     ]
    },
    {
     "name": "stdout",
     "output_type": "stream",
     "text": [
      "Moviepy - Done !\n",
      "Moviepy - video ready /mnt/Double_Dragon/Videography/Archive/20220825/P1040780_rot90.MP4\n",
      "17\t39\t/mnt/Double_Dragon/Videography/Archive/20220825/P1040780.MP4\n"
     ]
    },
    {
     "name": "stderr",
     "output_type": "stream",
     "text": [
      "t:   7%|▋         | 4/60 [40:04<00:02, 23.01it/s, now=None]"
     ]
    },
    {
     "name": "stdout",
     "output_type": "stream",
     "text": [
      "Moviepy - Building video /mnt/Double_Dragon/Videography/Archive/20220825/P1040781_rot90.MP4.\n",
      "MoviePy - Writing audio in P1040781_rot90TEMP_MPY_wvf_snd.mp3\n",
      "MoviePy - Done.\n",
      "Moviepy - Writing video /mnt/Double_Dragon/Videography/Archive/20220825/P1040781_rot90.MP4\n",
      "\n"
     ]
    },
    {
     "name": "stderr",
     "output_type": "stream",
     "text": [
      "t:   7%|▋         | 4/60 [40:08<00:02, 23.01it/s, now=None]"
     ]
    },
    {
     "name": "stdout",
     "output_type": "stream",
     "text": [
      "Moviepy - Done !\n",
      "Moviepy - video ready /mnt/Double_Dragon/Videography/Archive/20220825/P1040781_rot90.MP4\n",
      "18\t39\t/mnt/Double_Dragon/Videography/Archive/20220825/P1040781.MP4\n"
     ]
    },
    {
     "name": "stderr",
     "output_type": "stream",
     "text": [
      "t:   7%|▋         | 4/60 [40:08<00:02, 23.01it/s, now=None]"
     ]
    },
    {
     "name": "stdout",
     "output_type": "stream",
     "text": [
      "Moviepy - Building video /mnt/Double_Dragon/Videography/Archive/20220825/P1040782_rot90.MP4.\n",
      "MoviePy - Writing audio in P1040782_rot90TEMP_MPY_wvf_snd.mp3\n",
      "MoviePy - Done.\n",
      "Moviepy - Writing video /mnt/Double_Dragon/Videography/Archive/20220825/P1040782_rot90.MP4\n",
      "\n"
     ]
    },
    {
     "name": "stderr",
     "output_type": "stream",
     "text": [
      "t:   7%|▋         | 4/60 [40:12<00:02, 23.01it/s, now=None]"
     ]
    },
    {
     "name": "stdout",
     "output_type": "stream",
     "text": [
      "Moviepy - Done !\n",
      "Moviepy - video ready /mnt/Double_Dragon/Videography/Archive/20220825/P1040782_rot90.MP4\n",
      "19\t39\t/mnt/Double_Dragon/Videography/Archive/20220825/P1040782.MP4\n"
     ]
    },
    {
     "name": "stderr",
     "output_type": "stream",
     "text": [
      "t:   7%|▋         | 4/60 [40:13<00:02, 23.01it/s, now=None]"
     ]
    },
    {
     "name": "stdout",
     "output_type": "stream",
     "text": [
      "Moviepy - Building video /mnt/Double_Dragon/Videography/Archive/20220825/P1040783_rot90.MP4.\n",
      "MoviePy - Writing audio in P1040783_rot90TEMP_MPY_wvf_snd.mp3\n",
      "MoviePy - Done.\n",
      "Moviepy - Writing video /mnt/Double_Dragon/Videography/Archive/20220825/P1040783_rot90.MP4\n",
      "\n"
     ]
    },
    {
     "name": "stderr",
     "output_type": "stream",
     "text": [
      "t:   7%|▋         | 4/60 [40:16<00:02, 23.01it/s, now=None]"
     ]
    },
    {
     "name": "stdout",
     "output_type": "stream",
     "text": [
      "Moviepy - Done !\n",
      "Moviepy - video ready /mnt/Double_Dragon/Videography/Archive/20220825/P1040783_rot90.MP4\n",
      "20\t39\t/mnt/Double_Dragon/Videography/Archive/20220825/P1040783.MP4\n"
     ]
    },
    {
     "name": "stderr",
     "output_type": "stream",
     "text": [
      "t:   7%|▋         | 4/60 [40:17<00:02, 23.01it/s, now=None]"
     ]
    },
    {
     "name": "stdout",
     "output_type": "stream",
     "text": [
      "Moviepy - Building video /mnt/Double_Dragon/Videography/Archive/20220825/P1040784_rot90.MP4.\n",
      "MoviePy - Writing audio in P1040784_rot90TEMP_MPY_wvf_snd.mp3\n",
      "MoviePy - Done.\n",
      "Moviepy - Writing video /mnt/Double_Dragon/Videography/Archive/20220825/P1040784_rot90.MP4\n",
      "\n"
     ]
    },
    {
     "name": "stderr",
     "output_type": "stream",
     "text": [
      "t:   7%|▋         | 4/60 [40:20<00:02, 23.01it/s, now=None]"
     ]
    },
    {
     "name": "stdout",
     "output_type": "stream",
     "text": [
      "Moviepy - Done !\n",
      "Moviepy - video ready /mnt/Double_Dragon/Videography/Archive/20220825/P1040784_rot90.MP4\n",
      "21\t39\t/mnt/Double_Dragon/Videography/Archive/20220825/P1040784.MP4\n"
     ]
    },
    {
     "name": "stderr",
     "output_type": "stream",
     "text": [
      "t:   7%|▋         | 4/60 [40:21<00:02, 23.01it/s, now=None]\n"
     ]
    },
    {
     "name": "stdout",
     "output_type": "stream",
     "text": [
      "Moviepy - Building video /mnt/Double_Dragon/Videography/Archive/20220825/P1040785_rot90.MP4.\n",
      "MoviePy - Writing audio in P1040785_rot90TEMP_MPY_wvf_snd.mp3\n",
      "MoviePy - Done.\n",
      "Moviepy - Writing video /mnt/Double_Dragon/Videography/Archive/20220825/P1040785_rot90.MP4\n",
      "\n"
     ]
    },
    {
     "name": "stderr",
     "output_type": "stream",
     "text": [
      "t:   7%|▋         | 4/60 [40:24<00:02, 23.01it/s, now=None]"
     ]
    },
    {
     "name": "stdout",
     "output_type": "stream",
     "text": [
      "Moviepy - Done !\n",
      "Moviepy - video ready /mnt/Double_Dragon/Videography/Archive/20220825/P1040785_rot90.MP4\n",
      "22\t39\t/mnt/Double_Dragon/Videography/Archive/20220825/P1040785.MP4\n"
     ]
    },
    {
     "name": "stderr",
     "output_type": "stream",
     "text": [
      "t:   7%|▋         | 4/60 [40:25<00:02, 23.01it/s, now=None]"
     ]
    },
    {
     "name": "stdout",
     "output_type": "stream",
     "text": [
      "Moviepy - Building video /mnt/Double_Dragon/Videography/Archive/20220825/P1040786_rot90.MP4.\n",
      "MoviePy - Writing audio in P1040786_rot90TEMP_MPY_wvf_snd.mp3\n",
      "MoviePy - Done.\n",
      "Moviepy - Writing video /mnt/Double_Dragon/Videography/Archive/20220825/P1040786_rot90.MP4\n",
      "\n"
     ]
    },
    {
     "name": "stderr",
     "output_type": "stream",
     "text": [
      "t:   7%|▋         | 4/60 [40:29<00:02, 23.01it/s, now=None]"
     ]
    },
    {
     "name": "stdout",
     "output_type": "stream",
     "text": [
      "Moviepy - Done !\n",
      "Moviepy - video ready /mnt/Double_Dragon/Videography/Archive/20220825/P1040786_rot90.MP4\n",
      "23\t39\t/mnt/Double_Dragon/Videography/Archive/20220825/P1040786.MP4\n"
     ]
    },
    {
     "name": "stderr",
     "output_type": "stream",
     "text": [
      "t:   7%|▋         | 4/60 [40:30<00:02, 23.01it/s, now=None]"
     ]
    },
    {
     "name": "stdout",
     "output_type": "stream",
     "text": [
      "Moviepy - Building video /mnt/Double_Dragon/Videography/Archive/20220825/P1040787_rot90.MP4.\n",
      "MoviePy - Writing audio in P1040787_rot90TEMP_MPY_wvf_snd.mp3\n",
      "MoviePy - Done.\n",
      "Moviepy - Writing video /mnt/Double_Dragon/Videography/Archive/20220825/P1040787_rot90.MP4\n",
      "\n"
     ]
    },
    {
     "name": "stderr",
     "output_type": "stream",
     "text": [
      "t:   7%|▋         | 4/60 [40:33<00:02, 23.01it/s, now=None]"
     ]
    },
    {
     "name": "stdout",
     "output_type": "stream",
     "text": [
      "Moviepy - Done !\n",
      "Moviepy - video ready /mnt/Double_Dragon/Videography/Archive/20220825/P1040787_rot90.MP4\n",
      "24\t39\t/mnt/Double_Dragon/Videography/Archive/20220825/P1040787.MP4\n"
     ]
    },
    {
     "name": "stderr",
     "output_type": "stream",
     "text": [
      "t:   7%|▋         | 4/60 [40:34<00:02, 23.01it/s, now=None]"
     ]
    },
    {
     "name": "stdout",
     "output_type": "stream",
     "text": [
      "Moviepy - Building video /mnt/Double_Dragon/Videography/Archive/20220825/P1040788_rot90.MP4.\n",
      "MoviePy - Writing audio in P1040788_rot90TEMP_MPY_wvf_snd.mp3\n",
      "MoviePy - Done.\n",
      "Moviepy - Writing video /mnt/Double_Dragon/Videography/Archive/20220825/P1040788_rot90.MP4\n",
      "\n"
     ]
    },
    {
     "name": "stderr",
     "output_type": "stream",
     "text": [
      "t:   7%|▋         | 4/60 [40:37<00:02, 23.01it/s, now=None]"
     ]
    },
    {
     "name": "stdout",
     "output_type": "stream",
     "text": [
      "Moviepy - Done !\n",
      "Moviepy - video ready /mnt/Double_Dragon/Videography/Archive/20220825/P1040788_rot90.MP4\n",
      "25\t39\t/mnt/Double_Dragon/Videography/Archive/20220825/P1040788.MP4\n"
     ]
    },
    {
     "name": "stderr",
     "output_type": "stream",
     "text": [
      "t:   7%|▋         | 4/60 [40:38<00:02, 23.01it/s, now=None]"
     ]
    },
    {
     "name": "stdout",
     "output_type": "stream",
     "text": [
      "Moviepy - Building video /mnt/Double_Dragon/Videography/Archive/20220825/P1040789_rot90.MP4.\n",
      "MoviePy - Writing audio in P1040789_rot90TEMP_MPY_wvf_snd.mp3\n",
      "MoviePy - Done.\n",
      "Moviepy - Writing video /mnt/Double_Dragon/Videography/Archive/20220825/P1040789_rot90.MP4\n",
      "\n"
     ]
    },
    {
     "name": "stderr",
     "output_type": "stream",
     "text": [
      "t:   7%|▋         | 4/60 [40:41<00:02, 23.01it/s, now=None]"
     ]
    },
    {
     "name": "stdout",
     "output_type": "stream",
     "text": [
      "Moviepy - Done !\n",
      "Moviepy - video ready /mnt/Double_Dragon/Videography/Archive/20220825/P1040789_rot90.MP4\n",
      "26\t39\t/mnt/Double_Dragon/Videography/Archive/20220825/P1040789.MP4\n"
     ]
    },
    {
     "name": "stderr",
     "output_type": "stream",
     "text": [
      "t:   7%|▋         | 4/60 [40:42<00:02, 23.01it/s, now=None]"
     ]
    },
    {
     "name": "stdout",
     "output_type": "stream",
     "text": [
      "Moviepy - Building video /mnt/Double_Dragon/Videography/Archive/20220825/P1040790_rot90.MP4.\n",
      "MoviePy - Writing audio in P1040790_rot90TEMP_MPY_wvf_snd.mp3\n",
      "MoviePy - Done.\n",
      "Moviepy - Writing video /mnt/Double_Dragon/Videography/Archive/20220825/P1040790_rot90.MP4\n",
      "\n"
     ]
    },
    {
     "name": "stderr",
     "output_type": "stream",
     "text": [
      "t:   7%|▋         | 4/60 [40:45<00:02, 23.01it/s, now=None]"
     ]
    },
    {
     "name": "stdout",
     "output_type": "stream",
     "text": [
      "Moviepy - Done !\n",
      "Moviepy - video ready /mnt/Double_Dragon/Videography/Archive/20220825/P1040790_rot90.MP4\n",
      "27\t39\t/mnt/Double_Dragon/Videography/Archive/20220825/P1040790.MP4\n"
     ]
    },
    {
     "name": "stderr",
     "output_type": "stream",
     "text": [
      "t:   7%|▋         | 4/60 [40:46<00:02, 23.01it/s, now=None]"
     ]
    },
    {
     "name": "stdout",
     "output_type": "stream",
     "text": [
      "Moviepy - Building video /mnt/Double_Dragon/Videography/Archive/20220825/P1040791_rot90.MP4.\n",
      "MoviePy - Writing audio in P1040791_rot90TEMP_MPY_wvf_snd.mp3\n",
      "MoviePy - Done.\n",
      "Moviepy - Writing video /mnt/Double_Dragon/Videography/Archive/20220825/P1040791_rot90.MP4\n",
      "\n"
     ]
    },
    {
     "name": "stderr",
     "output_type": "stream",
     "text": [
      "t:   7%|▋         | 4/60 [40:50<00:02, 23.01it/s, now=None]"
     ]
    },
    {
     "name": "stdout",
     "output_type": "stream",
     "text": [
      "Moviepy - Done !\n",
      "Moviepy - video ready /mnt/Double_Dragon/Videography/Archive/20220825/P1040791_rot90.MP4\n",
      "28\t39\t/mnt/Double_Dragon/Videography/Archive/20220825/P1040791.MP4\n"
     ]
    },
    {
     "name": "stderr",
     "output_type": "stream",
     "text": [
      "t:   7%|▋         | 4/60 [40:50<00:02, 23.01it/s, now=None]"
     ]
    },
    {
     "name": "stdout",
     "output_type": "stream",
     "text": [
      "Moviepy - Building video /mnt/Double_Dragon/Videography/Archive/20220825/P1040792_rot90.MP4.\n",
      "MoviePy - Writing audio in P1040792_rot90TEMP_MPY_wvf_snd.mp3\n",
      "MoviePy - Done.\n",
      "Moviepy - Writing video /mnt/Double_Dragon/Videography/Archive/20220825/P1040792_rot90.MP4\n",
      "\n"
     ]
    },
    {
     "name": "stderr",
     "output_type": "stream",
     "text": [
      "t:   7%|▋         | 4/60 [40:54<00:02, 23.01it/s, now=None]"
     ]
    },
    {
     "name": "stdout",
     "output_type": "stream",
     "text": [
      "Moviepy - Done !\n",
      "Moviepy - video ready /mnt/Double_Dragon/Videography/Archive/20220825/P1040792_rot90.MP4\n",
      "29\t39\t/mnt/Double_Dragon/Videography/Archive/20220825/P1040792.MP4\n"
     ]
    },
    {
     "name": "stderr",
     "output_type": "stream",
     "text": [
      "t:   7%|▋         | 4/60 [40:55<00:02, 23.01it/s, now=None]"
     ]
    },
    {
     "name": "stdout",
     "output_type": "stream",
     "text": [
      "Moviepy - Building video /mnt/Double_Dragon/Videography/Archive/20220825/P1040793_rot90.MP4.\n",
      "MoviePy - Writing audio in P1040793_rot90TEMP_MPY_wvf_snd.mp3\n",
      "MoviePy - Done.\n",
      "Moviepy - Writing video /mnt/Double_Dragon/Videography/Archive/20220825/P1040793_rot90.MP4\n",
      "\n"
     ]
    },
    {
     "name": "stderr",
     "output_type": "stream",
     "text": [
      "t:   7%|▋         | 4/60 [40:59<00:02, 23.01it/s, now=None]"
     ]
    },
    {
     "name": "stdout",
     "output_type": "stream",
     "text": [
      "Moviepy - Done !\n",
      "Moviepy - video ready /mnt/Double_Dragon/Videography/Archive/20220825/P1040793_rot90.MP4\n",
      "30\t39\t/mnt/Double_Dragon/Videography/Archive/20220825/P1040793.MP4\n"
     ]
    },
    {
     "name": "stderr",
     "output_type": "stream",
     "text": [
      "t:   7%|▋         | 4/60 [41:00<00:02, 23.01it/s, now=None]"
     ]
    },
    {
     "name": "stdout",
     "output_type": "stream",
     "text": [
      "Moviepy - Building video /mnt/Double_Dragon/Videography/Archive/20220825/P1040794_rot90.MP4.\n",
      "MoviePy - Writing audio in P1040794_rot90TEMP_MPY_wvf_snd.mp3\n",
      "MoviePy - Done.\n",
      "Moviepy - Writing video /mnt/Double_Dragon/Videography/Archive/20220825/P1040794_rot90.MP4\n",
      "\n"
     ]
    },
    {
     "name": "stderr",
     "output_type": "stream",
     "text": [
      "t:   7%|▋         | 4/60 [41:04<00:02, 23.01it/s, now=None]"
     ]
    },
    {
     "name": "stdout",
     "output_type": "stream",
     "text": [
      "Moviepy - Done !\n",
      "Moviepy - video ready /mnt/Double_Dragon/Videography/Archive/20220825/P1040794_rot90.MP4\n",
      "31\t39\t/mnt/Double_Dragon/Videography/Archive/20220825/P1040794.MP4\n"
     ]
    },
    {
     "name": "stderr",
     "output_type": "stream",
     "text": [
      "t:   7%|▋         | 4/60 [41:05<00:02, 23.01it/s, now=None]"
     ]
    },
    {
     "name": "stdout",
     "output_type": "stream",
     "text": [
      "Moviepy - Building video /mnt/Double_Dragon/Videography/Archive/20220825/P1040795_rot90.MP4.\n",
      "MoviePy - Writing audio in P1040795_rot90TEMP_MPY_wvf_snd.mp3\n",
      "MoviePy - Done.\n",
      "Moviepy - Writing video /mnt/Double_Dragon/Videography/Archive/20220825/P1040795_rot90.MP4\n",
      "\n"
     ]
    },
    {
     "name": "stderr",
     "output_type": "stream",
     "text": [
      "t:   7%|▋         | 4/60 [41:09<00:02, 23.01it/s, now=None]"
     ]
    },
    {
     "name": "stdout",
     "output_type": "stream",
     "text": [
      "Moviepy - Done !\n",
      "Moviepy - video ready /mnt/Double_Dragon/Videography/Archive/20220825/P1040795_rot90.MP4\n",
      "32\t39\t/mnt/Double_Dragon/Videography/Archive/20220825/P1040795.MP4\n"
     ]
    },
    {
     "name": "stderr",
     "output_type": "stream",
     "text": [
      "t:   7%|▋         | 4/60 [41:09<00:02, 23.01it/s, now=None]"
     ]
    },
    {
     "name": "stdout",
     "output_type": "stream",
     "text": [
      "Moviepy - Building video /mnt/Double_Dragon/Videography/Archive/20220825/P1040796_rot90.MP4.\n",
      "MoviePy - Writing audio in P1040796_rot90TEMP_MPY_wvf_snd.mp3\n",
      "MoviePy - Done.\n",
      "Moviepy - Writing video /mnt/Double_Dragon/Videography/Archive/20220825/P1040796_rot90.MP4\n",
      "\n"
     ]
    },
    {
     "name": "stderr",
     "output_type": "stream",
     "text": [
      "t:   7%|▋         | 4/60 [41:13<00:02, 23.01it/s, now=None]"
     ]
    },
    {
     "name": "stdout",
     "output_type": "stream",
     "text": [
      "Moviepy - Done !\n",
      "Moviepy - video ready /mnt/Double_Dragon/Videography/Archive/20220825/P1040796_rot90.MP4\n",
      "33\t39\t/mnt/Double_Dragon/Videography/Archive/20220825/P1040796.MP4\n"
     ]
    },
    {
     "name": "stderr",
     "output_type": "stream",
     "text": [
      "t:   7%|▋         | 4/60 [41:14<00:02, 23.01it/s, now=None]"
     ]
    },
    {
     "name": "stdout",
     "output_type": "stream",
     "text": [
      "Moviepy - Building video /mnt/Double_Dragon/Videography/Archive/20220825/P1040797_rot90.MP4.\n",
      "MoviePy - Writing audio in P1040797_rot90TEMP_MPY_wvf_snd.mp3\n",
      "MoviePy - Done.\n",
      "Moviepy - Writing video /mnt/Double_Dragon/Videography/Archive/20220825/P1040797_rot90.MP4\n",
      "\n"
     ]
    },
    {
     "name": "stderr",
     "output_type": "stream",
     "text": [
      "t:   7%|▋         | 4/60 [41:18<00:02, 23.01it/s, now=None]"
     ]
    },
    {
     "name": "stdout",
     "output_type": "stream",
     "text": [
      "Moviepy - Done !\n",
      "Moviepy - video ready /mnt/Double_Dragon/Videography/Archive/20220825/P1040797_rot90.MP4\n",
      "34\t39\t/mnt/Double_Dragon/Videography/Archive/20220825/P1040797.MP4\n"
     ]
    },
    {
     "name": "stderr",
     "output_type": "stream",
     "text": [
      "t:   7%|▋         | 4/60 [41:18<00:02, 23.01it/s, now=None]"
     ]
    },
    {
     "name": "stdout",
     "output_type": "stream",
     "text": [
      "Moviepy - Building video /mnt/Double_Dragon/Videography/Archive/20220825/P1040798_rot90.MP4.\n",
      "MoviePy - Writing audio in P1040798_rot90TEMP_MPY_wvf_snd.mp3\n",
      "MoviePy - Done.\n",
      "Moviepy - Writing video /mnt/Double_Dragon/Videography/Archive/20220825/P1040798_rot90.MP4\n",
      "\n"
     ]
    },
    {
     "name": "stderr",
     "output_type": "stream",
     "text": [
      "t:   7%|▋         | 4/60 [41:22<00:02, 23.01it/s, now=None]"
     ]
    },
    {
     "name": "stdout",
     "output_type": "stream",
     "text": [
      "Moviepy - Done !\n",
      "Moviepy - video ready /mnt/Double_Dragon/Videography/Archive/20220825/P1040798_rot90.MP4\n",
      "35\t39\t/mnt/Double_Dragon/Videography/Archive/20220825/P1040798.MP4\n"
     ]
    },
    {
     "name": "stderr",
     "output_type": "stream",
     "text": [
      "t:   7%|▋         | 4/60 [41:23<00:02, 23.01it/s, now=None]"
     ]
    },
    {
     "name": "stdout",
     "output_type": "stream",
     "text": [
      "Moviepy - Building video /mnt/Double_Dragon/Videography/Archive/20220825/P1040799_rot90.MP4.\n",
      "MoviePy - Writing audio in P1040799_rot90TEMP_MPY_wvf_snd.mp3\n",
      "MoviePy - Done.\n",
      "Moviepy - Writing video /mnt/Double_Dragon/Videography/Archive/20220825/P1040799_rot90.MP4\n",
      "\n"
     ]
    },
    {
     "name": "stderr",
     "output_type": "stream",
     "text": [
      "t:   7%|▋         | 4/60 [41:27<00:02, 23.01it/s, now=None]"
     ]
    },
    {
     "name": "stdout",
     "output_type": "stream",
     "text": [
      "Moviepy - Done !\n",
      "Moviepy - video ready /mnt/Double_Dragon/Videography/Archive/20220825/P1040799_rot90.MP4\n",
      "36\t39\t/mnt/Double_Dragon/Videography/Archive/20220825/P1040799.MP4\n"
     ]
    },
    {
     "name": "stderr",
     "output_type": "stream",
     "text": [
      "t:   7%|▋         | 4/60 [41:28<00:02, 23.01it/s, now=None]"
     ]
    },
    {
     "name": "stdout",
     "output_type": "stream",
     "text": [
      "Moviepy - Building video /mnt/Double_Dragon/Videography/Archive/20220825/P1040800_rot90.MP4.\n",
      "MoviePy - Writing audio in P1040800_rot90TEMP_MPY_wvf_snd.mp3\n",
      "MoviePy - Done.\n",
      "Moviepy - Writing video /mnt/Double_Dragon/Videography/Archive/20220825/P1040800_rot90.MP4\n",
      "\n"
     ]
    },
    {
     "name": "stderr",
     "output_type": "stream",
     "text": [
      "t:   7%|▋         | 4/60 [41:31<00:02, 23.01it/s, now=None]"
     ]
    },
    {
     "name": "stdout",
     "output_type": "stream",
     "text": [
      "Moviepy - Done !\n",
      "Moviepy - video ready /mnt/Double_Dragon/Videography/Archive/20220825/P1040800_rot90.MP4\n",
      "37\t39\t/mnt/Double_Dragon/Videography/Archive/20220825/P1040800.MP4\n"
     ]
    },
    {
     "name": "stderr",
     "output_type": "stream",
     "text": [
      "t:   7%|▋         | 4/60 [41:32<00:02, 23.01it/s, now=None]"
     ]
    },
    {
     "name": "stdout",
     "output_type": "stream",
     "text": [
      "Moviepy - Building video /mnt/Double_Dragon/Videography/Archive/20220825/P1040802_rot90.MP4.\n",
      "MoviePy - Writing audio in P1040802_rot90TEMP_MPY_wvf_snd.mp3\n",
      "MoviePy - Done.\n",
      "Moviepy - Writing video /mnt/Double_Dragon/Videography/Archive/20220825/P1040802_rot90.MP4\n",
      "\n"
     ]
    },
    {
     "name": "stderr",
     "output_type": "stream",
     "text": [
      "t:   7%|▋         | 4/60 [41:36<00:02, 23.01it/s, now=None]"
     ]
    },
    {
     "name": "stdout",
     "output_type": "stream",
     "text": [
      "Moviepy - Done !\n",
      "Moviepy - video ready /mnt/Double_Dragon/Videography/Archive/20220825/P1040802_rot90.MP4\n",
      "38\t39\t/mnt/Double_Dragon/Videography/Archive/20220825/P1040802.MP4\n"
     ]
    },
    {
     "name": "stderr",
     "output_type": "stream",
     "text": [
      "t:   7%|▋         | 4/60 [41:37<00:02, 23.01it/s, now=None]"
     ]
    },
    {
     "name": "stdout",
     "output_type": "stream",
     "text": [
      "Moviepy - Building video /mnt/Double_Dragon/Videography/Archive/20220825/P1040803_rot90.MP4.\n",
      "MoviePy - Writing audio in P1040803_rot90TEMP_MPY_wvf_snd.mp3\n",
      "MoviePy - Done.\n",
      "Moviepy - Writing video /mnt/Double_Dragon/Videography/Archive/20220825/P1040803_rot90.MP4\n",
      "\n"
     ]
    },
    {
     "name": "stderr",
     "output_type": "stream",
     "text": [
      "t:   7%|▋         | 4/60 [41:41<00:02, 23.01it/s, now=None]"
     ]
    },
    {
     "name": "stdout",
     "output_type": "stream",
     "text": [
      "Moviepy - Done !\n",
      "Moviepy - video ready /mnt/Double_Dragon/Videography/Archive/20220825/P1040803_rot90.MP4\n",
      "39\t39\t/mnt/Double_Dragon/Videography/Archive/20220825/P1040803.MP4\n"
     ]
    }
   ],
   "source": [
    "for _ in lst_video_filePaths:\n",
    "    clip = VideoFileClip(_)\n",
    "    clip = clip.rotate(-90)\n",
    "    write_clip(clip)\n",
    "    print(str(lst_video_filePaths.index(_) + 1)  + '\\t'+str(len(lst_video_filePaths)) + '\\t' + clip.filename)"
   ]
  },
  {
   "cell_type": "code",
   "execution_count": null,
   "metadata": {},
   "outputs": [],
   "source": []
  }
 ],
 "metadata": {
  "kernelspec": {
   "display_name": "Python 3.8.10 ('AV_20210619')",
   "language": "python",
   "name": "python3"
  },
  "language_info": {
   "codemirror_mode": {
    "name": "ipython",
    "version": 3
   },
   "file_extension": ".py",
   "mimetype": "text/x-python",
   "name": "python",
   "nbconvert_exporter": "python",
   "pygments_lexer": "ipython3",
   "version": "3.8.10"
  },
  "orig_nbformat": 4,
  "vscode": {
   "interpreter": {
    "hash": "d58c107ef9c844447595edfcbea94b436b4ec96a01c38f5998ee33f2beea4a5e"
   }
  }
 },
 "nbformat": 4,
 "nbformat_minor": 2
}
