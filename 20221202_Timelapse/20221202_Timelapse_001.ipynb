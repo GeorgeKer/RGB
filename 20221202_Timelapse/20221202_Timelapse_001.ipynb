{
 "cells": [
  {
   "cell_type": "code",
   "execution_count": 12,
   "metadata": {},
   "outputs": [],
   "source": [
    "import easygui\n",
    "import os\n",
    "import cv2\n",
    "import datetime"
   ]
  },
  {
   "cell_type": "code",
   "execution_count": 3,
   "metadata": {},
   "outputs": [],
   "source": [
    "FPS = 60\n",
    "DIRECTORY = easygui.diropenbox(msg='Choose DIRECTORY with images', default= '/mnt/Double_Dragon/Videography/Timelapse/')"
   ]
  },
  {
   "cell_type": "code",
   "execution_count": null,
   "metadata": {},
   "outputs": [],
   "source": [
    "ffmpeg -r 30 -pattern_type glob -i './*.JPG' -s:v 1920:1080 -vcodec libx264 -crf 17 -pix_fmt yuv420p 20220914_timelapse_001.mp4"
   ]
  },
  {
   "cell_type": "code",
   "execution_count": 19,
   "metadata": {},
   "outputs": [],
   "source": [
    "timestamp = datetime.datetime.now()\n",
    "t_tuple = str(timestamp.year), str(timestamp.month), str(timestamp.day), str(timestamp.hour), str(timestamp.minute), str(timestamp.second)\n",
    "t_string = ''.join(t_tuple)\n",
    "\n",
    "myCommand = f\"ffmpeg -r {FPS} -pattern_type glob -i '{DIRECTORY}/*.JPG' -s:v 1920:1080 -vcodec libx264 -crf 17 -pix_fmt yuv420p {DIRECTORY}/{t_string}_timelapse.MP4\""
   ]
  },
  {
   "cell_type": "code",
   "execution_count": 20,
   "metadata": {},
   "outputs": [
    {
     "name": "stderr",
     "output_type": "stream",
     "text": [
      "ffmpeg version 4.2.2 Copyright (c) 2000-2019 the FFmpeg developers\n",
      "  built with gcc 7.3.0 (crosstool-NG 1.23.0.449-a04d0)\n",
      "  configuration: --prefix=/tmp/build/80754af9/ffmpeg_1587154242452/_h_env_placehold_placehold_placehold_placehold_placehold_placehold_placehold_placehold_placehold_placehold_placehold_placehold_placehold_placehold_placehold_placehold_placehold_placehold_placehold_placehold_placeho --cc=/tmp/build/80754af9/ffmpeg_1587154242452/_build_env/bin/x86_64-conda_cos6-linux-gnu-cc --disable-doc --enable-avresample --enable-gmp --enable-hardcoded-tables --enable-libfreetype --enable-libvpx --enable-pthreads --enable-libopus --enable-postproc --enable-pic --enable-pthreads --enable-shared --enable-static --enable-version3 --enable-zlib --enable-libmp3lame --disable-nonfree --enable-gpl --enable-gnutls --disable-openssl --enable-libopenh264 --enable-libx264\n",
      "  libavutil      56. 31.100 / 56. 31.100\n",
      "  libavcodec     58. 54.100 / 58. 54.100\n",
      "  libavformat    58. 29.100 / 58. 29.100\n",
      "  libavdevice    58.  8.100 / 58.  8.100\n",
      "  libavfilter     7. 57.100 /  7. 57.100\n",
      "  libavresample   4.  0.  0 /  4.  0.  0\n",
      "  libswscale      5.  5.100 /  5.  5.100\n",
      "  libswresample   3.  5.100 /  3.  5.100\n",
      "  libpostproc    55.  5.100 / 55.  5.100\n",
      "Input #0, image2, from '/mnt/Double_Dragon/Videography/Timelapse/118_PANA/*.JPG':\n",
      "  Duration: 00:00:24.00, start: 0.000000, bitrate: N/A\n",
      "    Stream #0:0: Video: mjpeg (Baseline), yuvj422p(pc, bt470bg/unknown/unknown), 4592x2584, 25 fps, 25 tbr, 25 tbn, 25 tbc\n",
      "Stream mapping:\n",
      "  Stream #0:0 -> #0:0 (mjpeg (native) -> h264 (libx264))\n",
      "Press [q] to stop, [?] for help\n",
      "[swscaler @ 0x55b56d650bc0] deprecated pixel format used, make sure you did set range correctly\n",
      "[libx264 @ 0x55b56d4aa980] using cpu capabilities: MMX2 SSE2Fast SSSE3 SSE4.2 AVX FMA3 BMI2 AVX2\n",
      "[libx264 @ 0x55b56d4aa980] profile High, level 4.2, 4:2:0, 8-bit\n",
      "[libx264 @ 0x55b56d4aa980] 264 - core 157 - H.264/MPEG-4 AVC codec - Copyleft 2003-2018 - http://www.videolan.org/x264.html - options: cabac=1 ref=3 deblock=1:0:0 analyse=0x3:0x113 me=hex subme=7 psy=1 psy_rd=1.00:0.00 mixed_ref=1 me_range=16 chroma_me=1 trellis=1 8x8dct=1 cqm=0 deadzone=21,11 fast_pskip=1 chroma_qp_offset=-2 threads=6 lookahead_threads=1 sliced_threads=0 nr=0 decimate=1 interlaced=0 bluray_compat=0 constrained_intra=0 bframes=3 b_pyramid=2 b_adapt=1 b_bias=0 direct=1 weightb=1 open_gop=0 weightp=2 keyint=250 keyint_min=25 scenecut=40 intra_refresh=0 rc_lookahead=40 rc=crf mbtree=1 crf=17.0 qcomp=0.60 qpmin=0 qpmax=69 qpstep=4 ip_ratio=1.40 aq=1:1.00\n",
      "Output #0, mp4, to '/mnt/Double_Dragon/Videography/Timelapse/118_PANA/20221221923_timelapse.MP4':\n",
      "  Metadata:\n",
      "    encoder         : Lavf58.29.100\n",
      "    Stream #0:0: Video: h264 (libx264) (avc1 / 0x31637661), yuv420p, 1920x1080, q=-1--1, 60 fps, 15360 tbn, 60 tbc\n",
      "    Metadata:\n",
      "      encoder         : Lavc58.54.100 libx264\n",
      "    Side data:\n",
      "      cpb: bitrate max/min/avg: 0/0/0 buffer size: 0 vbv_delay: -1\n",
      "frame=  601 fps= 11 q=-1.0 Lsize=    8615kB time=00:00:09.96 bitrate=7080.9kbits/s dup=1 drop=0 speed=0.186x      \n",
      "video:8611kB audio:0kB subtitle:0kB other streams:0kB global headers:0kB muxing overhead: 0.050095%\n",
      "[libx264 @ 0x55b56d4aa980] frame I:3     Avg QP:15.90  size: 42747\n",
      "[libx264 @ 0x55b56d4aa980] frame P:504   Avg QP:18.34  size: 15576\n",
      "[libx264 @ 0x55b56d4aa980] frame B:94    Avg QP:18.66  size:  8915\n",
      "[libx264 @ 0x55b56d4aa980] consecutive B-frames: 79.0%  0.3%  0.0% 20.6%\n",
      "[libx264 @ 0x55b56d4aa980] mb I  I16..4: 25.9% 46.2% 27.9%\n",
      "[libx264 @ 0x55b56d4aa980] mb P  I16..4:  0.5%  0.4%  0.0%  P16..4: 55.1%  7.7%  6.0%  0.0%  0.0%    skip:30.3%\n",
      "[libx264 @ 0x55b56d4aa980] mb B  I16..4:  0.1%  0.0%  0.0%  B16..8: 49.5%  0.8%  0.1%  direct: 1.9%  skip:47.5%  L0:38.9% L1:60.4% BI: 0.7%\n",
      "[libx264 @ 0x55b56d4aa980] 8x8 transform intra:42.8% inter:98.4%\n",
      "[libx264 @ 0x55b56d4aa980] coded y,uvDC,uvAC intra: 27.1% 47.5% 11.6% inter: 15.2% 25.2% 0.0%\n",
      "[libx264 @ 0x55b56d4aa980] i16 v,h,dc,p: 21% 12% 14% 52%\n",
      "[libx264 @ 0x55b56d4aa980] i8 v,h,dc,ddl,ddr,vr,hd,vl,hu: 25%  9% 41%  4%  5%  6%  4%  4%  2%\n",
      "[libx264 @ 0x55b56d4aa980] i4 v,h,dc,ddl,ddr,vr,hd,vl,hu: 54% 12% 21%  3%  4%  3%  2%  1%  1%\n",
      "[libx264 @ 0x55b56d4aa980] i8c dc,h,v,p: 58% 20% 18%  4%\n",
      "[libx264 @ 0x55b56d4aa980] Weighted P-Frames: Y:0.0% UV:0.0%\n",
      "[libx264 @ 0x55b56d4aa980] ref P L0: 61.9%  3.0% 25.2%  9.9%\n",
      "[libx264 @ 0x55b56d4aa980] ref B L0: 90.2%  8.6%  1.2%\n",
      "[libx264 @ 0x55b56d4aa980] ref B L1: 94.7%  5.3%\n",
      "[libx264 @ 0x55b56d4aa980] kb/s:7041.52\n"
     ]
    },
    {
     "data": {
      "text/plain": [
       "0"
      ]
     },
     "execution_count": 20,
     "metadata": {},
     "output_type": "execute_result"
    }
   ],
   "source": [
    "os.system(myCommand)"
   ]
  },
  {
   "cell_type": "code",
   "execution_count": null,
   "metadata": {},
   "outputs": [],
   "source": []
  }
 ],
 "metadata": {
  "kernelspec": {
   "display_name": "Python 3.8.13 ('AV_20210619')",
   "language": "python",
   "name": "python3"
  },
  "language_info": {
   "codemirror_mode": {
    "name": "ipython",
    "version": 3
   },
   "file_extension": ".py",
   "mimetype": "text/x-python",
   "name": "python",
   "nbconvert_exporter": "python",
   "pygments_lexer": "ipython3",
   "version": "3.8.13"
  },
  "orig_nbformat": 4,
  "vscode": {
   "interpreter": {
    "hash": "d58c107ef9c844447595edfcbea94b436b4ec96a01c38f5998ee33f2beea4a5e"
   }
  }
 },
 "nbformat": 4,
 "nbformat_minor": 2
}
