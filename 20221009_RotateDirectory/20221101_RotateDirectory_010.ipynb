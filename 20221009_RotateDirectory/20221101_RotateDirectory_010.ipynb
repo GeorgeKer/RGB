{
 "cells": [
  {
   "cell_type": "code",
   "execution_count": 1,
   "metadata": {},
   "outputs": [],
   "source": [
    "import easygui\n",
    "import os\n",
    "import datetime\n",
    "from matplotlib import pyplot as plt\n",
    "import cv2\n",
    "from ffpyplayer.player import MediaPlayer\n",
    "# from opencv_transforms import transforms\n",
    "# change_settings({\"FFMPEG_BINARY\": \"ffmpeg\"})"
   ]
  },
  {
   "cell_type": "code",
   "execution_count": 2,
   "metadata": {},
   "outputs": [
    {
     "name": "stdout",
     "output_type": "stream",
     "text": [
      "DIRECTORY  Imported: \n",
      "/mnt/Double_Dragon/Videography/Archive/20221031\n"
     ]
    }
   ],
   "source": [
    "DIRECTORY = easygui.diropenbox(msg='Choose Folder with Video Files to Rotage90', default='/mnt/Double_Dragon/Videography/')\n",
    "# init_vid = easygui.fileopenbox(msg='Choose Video FIle to open:', default='./')\n",
    "init_video_path = os.path.realpath(DIRECTORY) \n",
    "print( 'DIRECTORY  Imported: \\n' +  init_video_path)"
   ]
  },
  {
   "cell_type": "code",
   "execution_count": 14,
   "metadata": {},
   "outputs": [],
   "source": [
    "def rename_clip_AddTimestamp (_filename):\n",
    "    timestamp = datetime.datetime.now()\n",
    "    t = str(timestamp.year), str(timestamp.month), str(timestamp.day), str(timestamp.hour), str(timestamp.minute), str(timestamp.second)\n",
    "    return _filename.replace('.MP4', '_' + ''.join(t) + '.MP4')\n",
    "\n",
    "def lst_files(_src_dir, _extension='.mp4'):\n",
    "    lst_files = []\n",
    "    for root, dirs, files in os.walk(_src_dir):\n",
    "        for f in files:\n",
    "            fn, ext = os.path.splitext(f)\n",
    "            if ext.upper()== _extension.upper():\n",
    "                full_name = os.path.join(root, f)\n",
    "                lst_files.append(full_name)\n",
    "                print(full_name)\n",
    "                \n",
    "    return lst_files\n",
    "\n",
    "def export_audio_from_videofile(_filename):\n",
    "    mp3_name = _filename.replace('.MP4', '.mp3')\n",
    "    os.system(command=f\"ffmpeg -i {_filename} -f mp3 -ab 192000 -vn {mp3_name}\")\n",
    "\n",
    "def import_audio_from_videofile(_mp3file):\n",
    "    "
   ]
  },
  {
   "cell_type": "code",
   "execution_count": 15,
   "metadata": {},
   "outputs": [
    {
     "name": "stdout",
     "output_type": "stream",
     "text": [
      "/mnt/Double_Dragon/Videography/Archive/20221031/P1140638.MP4\n",
      "/mnt/Double_Dragon/Videography/Archive/20221031/P1140639.MP4\n",
      "/mnt/Double_Dragon/Videography/Archive/20221031/P1140641.MP4\n",
      "/mnt/Double_Dragon/Videography/Archive/20221031/P1140642.MP4\n",
      "/mnt/Double_Dragon/Videography/Archive/20221031/P1140643.MP4\n",
      "/mnt/Double_Dragon/Videography/Archive/20221031/P1140644.MP4\n",
      "/mnt/Double_Dragon/Videography/Archive/20221031/P1140645.MP4\n",
      "/mnt/Double_Dragon/Videography/Archive/20221031/P1140646.MP4\n",
      "/mnt/Double_Dragon/Videography/Archive/20221031/P1140647.MP4\n",
      "/mnt/Double_Dragon/Videography/Archive/20221031/P1140648.MP4\n",
      "/mnt/Double_Dragon/Videography/Archive/20221031/P1140657.MP4\n",
      "/mnt/Double_Dragon/Videography/Archive/20221031/P1140658.MP4\n",
      "/mnt/Double_Dragon/Videography/Archive/20221031/P1140659.MP4\n",
      "/mnt/Double_Dragon/Videography/Archive/20221031/P1140660.MP4\n",
      "/mnt/Double_Dragon/Videography/Archive/20221031/P1140661.MP4\n",
      "/mnt/Double_Dragon/Videography/Archive/20221031/P1140662.MP4\n"
     ]
    }
   ],
   "source": [
    "#Debugging  Mode\n",
    "# videos = ['/mnt/Double_Dragon/Videography/Archive/20221019_Viv24/P1140354.MP4', ]\n",
    "#Production Mode\n",
    "videos =lst_files(DIRECTORY, '.mp4')"
   ]
  },
  {
   "cell_type": "code",
   "execution_count": 18,
   "metadata": {},
   "outputs": [
    {
     "name": "stdout",
     "output_type": "stream",
     "text": [
      "<built-in method index of str object at 0x7efd06f53730>/16\t/mnt/Double_Dragon/Videography/Archive/20221031/P1140638.MP4\t rotated\n",
      "<built-in method index of str object at 0x7efd06f53880>/16\t/mnt/Double_Dragon/Videography/Archive/20221031/P1140639.MP4\t rotated\n"
     ]
    },
    {
     "ename": "KeyboardInterrupt",
     "evalue": "",
     "output_type": "error",
     "traceback": [
      "\u001b[0;31m---------------------------------------------------------------------------\u001b[0m",
      "\u001b[0;31mKeyboardInterrupt\u001b[0m                         Traceback (most recent call last)",
      "\u001b[0;32m<ipython-input-18-a8c4c99471e4>\u001b[0m in \u001b[0;36m<module>\u001b[0;34m\u001b[0m\n\u001b[1;32m     16\u001b[0m         \u001b[0mret\u001b[0m\u001b[0;34m,\u001b[0m \u001b[0mframe\u001b[0m \u001b[0;34m=\u001b[0m \u001b[0m_video\u001b[0m\u001b[0;34m.\u001b[0m\u001b[0mread\u001b[0m\u001b[0;34m(\u001b[0m\u001b[0;34m)\u001b[0m\u001b[0;34m\u001b[0m\u001b[0;34m\u001b[0m\u001b[0m\n\u001b[1;32m     17\u001b[0m         \u001b[0;31m# auframe, val = player.get_frame()\u001b[0m\u001b[0;34m\u001b[0m\u001b[0;34m\u001b[0m\u001b[0;34m\u001b[0m\u001b[0m\n\u001b[0;32m---> 18\u001b[0;31m         new_frame = cv2.resize(frame, \n\u001b[0m\u001b[1;32m     19\u001b[0m                                                         \u001b[0;34m(\u001b[0m\u001b[0mint\u001b[0m\u001b[0;34m(\u001b[0m\u001b[0;36m1\u001b[0m\u001b[0;34m*\u001b[0m\u001b[0mframe\u001b[0m\u001b[0;34m.\u001b[0m\u001b[0mshape\u001b[0m\u001b[0;34m[\u001b[0m\u001b[0;36m1\u001b[0m\u001b[0;34m]\u001b[0m\u001b[0;34m)\u001b[0m\u001b[0;34m,\u001b[0m \u001b[0mint\u001b[0m\u001b[0;34m(\u001b[0m\u001b[0;36m1\u001b[0m\u001b[0;34m*\u001b[0m\u001b[0mframe\u001b[0m\u001b[0;34m.\u001b[0m\u001b[0mshape\u001b[0m\u001b[0;34m[\u001b[0m\u001b[0;36m0\u001b[0m\u001b[0;34m]\u001b[0m\u001b[0;34m)\u001b[0m\u001b[0;34m)\u001b[0m\u001b[0;34m,\u001b[0m\u001b[0;34m\u001b[0m\u001b[0;34m\u001b[0m\u001b[0m\n\u001b[1;32m     20\u001b[0m                                                         interpolation = cv2.INTER_AREA)\n",
      "\u001b[0;31mKeyboardInterrupt\u001b[0m: "
     ]
    }
   ],
   "source": [
    "from math import floor\n",
    "\n",
    "\n",
    "for _video_file in videos:\n",
    "    _video = cv2.VideoCapture(_video_file)\n",
    "    # player = MediaPlayer(_video_file)\n",
    "    \n",
    "    FPS =_video.get(cv2.CAP_PROP_FPS)\n",
    "    FRAME_NO = int(_video.get(cv2.CAP_PROP_FRAME_COUNT))\n",
    "    FRAME_WIDTH = int(_video.get(cv2.CAP_PROP_FRAME_WIDTH))\n",
    "    FRAME_HEIGHT = int(_video.get(cv2.CAP_PROP_FRAME_HEIGHT))\n",
    "\n",
    "    new_video_filename = rename_clip_AddTimestamp( _video_file) .replace(\".MP4\", \"_ROT90.MP4\")\n",
    "    new_video_file = cv2.VideoWriter(new_video_filename, cv2.VideoWriter_fourcc(*\"mp4v\"), 60, (FRAME_HEIGHT,FRAME_WIDTH))\n",
    "        \n",
    "    for i in range(FRAME_NO):\n",
    "        ret, frame = _video.read()\n",
    "        new_frame = cv2.resize(frame, \n",
    "                                                        (int(1*frame.shape[1]), int(1*frame.shape[0])),\n",
    "                                                        interpolation = cv2.INTER_AREA)\n",
    "        new_frame = cv2.rotate(new_frame, cv2.ROTATE_90_CLOCKWISE)\n",
    "        # new_frame = cv2.blur(new_frame,(int((i+FPS)%FPS),int((i+FPS)%FPS)))\n",
    "        new_video_file.write(new_frame)\n",
    "        \n",
    "        \n",
    "        # Save frame\n",
    "        # if i%3 == 0:\n",
    "        #      cv2.imwrite(\"/mnt/Double_Dragon/Videography/Archive/new_frame_{i}.jpg\".format(i=i), new_frame)\n",
    "\n",
    "    # Add Audio\n",
    "    export_audio_from_videofile(_video_file)\n",
    "    import_audio_from_videofile(new_video_filename)\n",
    "    print(str(_video_file.) + \"/\" + str(len(videos)) + \"\\t\" + _video_file + \"\\t rotated\")\n",
    "    _video.release()\n",
    "    new_video_file.release()"
   ]
  },
  {
   "cell_type": "code",
   "execution_count": null,
   "metadata": {},
   "outputs": [],
   "source": []
  }
 ],
 "metadata": {
  "kernelspec": {
   "display_name": "Python 3.8.10 ('AV_20210619')",
   "language": "python",
   "name": "python3"
  },
  "language_info": {
   "codemirror_mode": {
    "name": "ipython",
    "version": 3
   },
   "file_extension": ".py",
   "mimetype": "text/x-python",
   "name": "python",
   "nbconvert_exporter": "python",
   "pygments_lexer": "ipython3",
   "version": "3.8.10"
  },
  "orig_nbformat": 4,
  "vscode": {
   "interpreter": {
    "hash": "d58c107ef9c844447595edfcbea94b436b4ec96a01c38f5998ee33f2beea4a5e"
   }
  }
 },
 "nbformat": 4,
 "nbformat_minor": 2
}
