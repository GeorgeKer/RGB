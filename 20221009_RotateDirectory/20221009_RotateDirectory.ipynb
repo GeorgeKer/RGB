{
 "cells": [
  {
   "cell_type": "code",
   "execution_count": 4,
   "metadata": {},
   "outputs": [],
   "source": [
    "import easygui\n",
    "from  moviepy.editor import *\n",
    "import os\n",
    "import icecream as ic\n",
    "from moviepy.config import change_settings\n",
    "import datetime\n",
    "from matplotlib import pyplot as plt\n",
    "import cv2\n",
    "# change_settings({\"FFMPEG_BINARY\": \"ffmpeg\"})"
   ]
  },
  {
   "cell_type": "code",
   "execution_count": 2,
   "metadata": {},
   "outputs": [
    {
     "name": "stdout",
     "output_type": "stream",
     "text": [
      "DIRECTORY  Imported: \n",
      "/mnt/Double_Dragon/Videography/Archive/20221019_Viv24\n"
     ]
    }
   ],
   "source": [
    "DIRECTORY = easygui.diropenbox(msg='Choose Folder with Video Files to Rotage90', default='/mnt/Double_Dragon/Videography/')\n",
    "# init_vid = easygui.fileopenbox(msg='Choose Video FIle to open:', default='./')\n",
    "init_video_path = os.path.realpath(DIRECTORY) \n",
    "print( 'DIRECTORY  Imported: \\n' +  init_video_path)"
   ]
  },
  {
   "cell_type": "code",
   "execution_count": 5,
   "metadata": {},
   "outputs": [],
   "source": [
    "def write_clip (_clip) :\n",
    "    _clip.write_videofile(rename_clip_AddTimestamp(_clip.filename), \n",
    "                                            preset='veryslow', \n",
    "                                            audio_fps=48000,\n",
    "                                            # audio_codec='libfdk_aac',\n",
    "                                            codec='mpeg4',\n",
    "                                            bitrate='50000k',\n",
    "                                            threads=7)\n",
    "    return\n",
    "\n",
    "\n",
    "def rename_clip_AddTimestamp (_filename):\n",
    "    timestamp = datetime.datetime.now()\n",
    "    t = str(timestamp.year), str(timestamp.month), str(timestamp.day), str(timestamp.hour), str(timestamp.minute), str(timestamp.second)\n",
    "    return _filename.replace('.MP4', '_' + ''.join(t) + '.MP4')\n",
    "\n",
    "\n",
    "def lst_files(_src_dir, _extension='.mp4'):\n",
    "    lst_files = []\n",
    "    for root, dirs, files in os.walk(_src_dir):\n",
    "        for f in files:\n",
    "            fn, ext = os.path.splitext(f)\n",
    "            if ext.upper()== _extension.upper():\n",
    "                full_name = os.path.join(root, f)\n",
    "                lst_files.append(full_name)\n",
    "                print(full_name)\n",
    "                \n",
    "    return lst_files\n",
    "\n",
    "# myclip = VideoFileClip(init_vid).fx(vfx.colorx, 1).fx(vfx.lum_contrast, 0, 2, 12)\n",
    "# write_clip(myclip)"
   ]
  },
  {
   "cell_type": "code",
   "execution_count": 6,
   "metadata": {},
   "outputs": [],
   "source": [
    "#Debugging  Mode\n",
    "videos = ['/mnt/Double_Dragon/Videography/Archive/20221019_Viv24/P1140363.MP4', ]\n",
    "# videos =lst_files(DIRECTORY, '.mp4')"
   ]
  },
  {
   "cell_type": "code",
   "execution_count": 31,
   "metadata": {},
   "outputs": [
    {
     "ename": "IndentationError",
     "evalue": "unexpected indent (<ipython-input-31-dbaa69e755f6>, line 19)",
     "output_type": "error",
     "traceback": [
      "\u001b[0;36m  File \u001b[0;32m\"<ipython-input-31-dbaa69e755f6>\"\u001b[0;36m, line \u001b[0;32m19\u001b[0m\n\u001b[0;31m    interpolation = cv2.INTER_AREA)\u001b[0m\n\u001b[0m    ^\u001b[0m\n\u001b[0;31mIndentationError\u001b[0m\u001b[0;31m:\u001b[0m unexpected indent\n"
     ]
    }
   ],
   "source": [
    "from math import floor\n",
    "\n",
    "\n",
    "for _video_file in videos:\n",
    "    _video = cv2.VideoCapture(_video_file)\n",
    "    \n",
    "    FPS =_video.get(cv2.CAP_PROP_FPS)\n",
    "    FRAME_NO = int(_video.get(cv2.CAP_PROP_FRAME_COUNT))\n",
    "    FRAME_WIDTH = int(_video.get(cv2.CAP_PROP_FRAME_WIDTH))\n",
    "    FRAME_HEIGHT = int(_video.get(cv2.CAP_PROP_FRAME_HEIGHT))\n",
    "\n",
    "    new_video_file = cv2.VideoWriter(rename_clip_AddTimestamp( _video_file) .replace(\".MP4\", \"_ROT90.MP4\"), cv2.VideoWriter_fourcc(*\"mp4v\"), 60, (floor( FRAME_HEIGHT/2),floor(FRAME_WIDTH/2)))\n",
    "        \n",
    "    for i in range(FRAME_NO):\n",
    "        ret, frame = _video.read()\n",
    "        new_frame = cv2.resize(frame, \n",
    "                                                        # (int(0.5*frame.shape[0]), int(0.5*frame.shape[1])),\n",
    "                                                        floor( FRAME_HEIGHT/2),floor(FRAME_WIDTH/2)),\n",
    "                                                        interpolation = cv2.INTER_AREA)\n",
    "        new_frame_ = cv2.rotate(new_frame, cv2.ROTATE_90_CLOCKWISE)\n",
    "        new_video_file.write(new_frame_)\n",
    "\n",
    "    print(_video_file + \"\\t rotated\")\n",
    "    new_video_file.release()\n",
    "    _video.release()"
   ]
  },
  {
   "cell_type": "code",
   "execution_count": 6,
   "metadata": {},
   "outputs": [
    {
     "ename": "AttributeError",
     "evalue": "module 'cv2' has no attribute 'C'",
     "output_type": "error",
     "traceback": [
      "\u001b[0;31m---------------------------------------------------------------------------\u001b[0m",
      "\u001b[0;31mAttributeError\u001b[0m                            Traceback (most recent call last)",
      "\u001b[0;32m<ipython-input-6-6638ecbe0627>\u001b[0m in \u001b[0;36m<module>\u001b[0;34m\u001b[0m\n\u001b[1;32m      1\u001b[0m \u001b[0m_video\u001b[0m \u001b[0;34m=\u001b[0m \u001b[0mcv2\u001b[0m\u001b[0;34m.\u001b[0m\u001b[0mVideoCapture\u001b[0m\u001b[0;34m(\u001b[0m\u001b[0minit_video_path\u001b[0m\u001b[0;34m)\u001b[0m\u001b[0;34m\u001b[0m\u001b[0;34m\u001b[0m\u001b[0m\n\u001b[1;32m      2\u001b[0m \u001b[0m_fps\u001b[0m \u001b[0;34m=\u001b[0m \u001b[0m_video\u001b[0m\u001b[0;34m.\u001b[0m\u001b[0mget\u001b[0m\u001b[0;34m(\u001b[0m\u001b[0mcv2\u001b[0m\u001b[0;34m.\u001b[0m\u001b[0mCAP_PROP_FPS\u001b[0m\u001b[0;34m)\u001b[0m\u001b[0;34m\u001b[0m\u001b[0;34m\u001b[0m\u001b[0m\n\u001b[0;32m----> 3\u001b[0;31m \u001b[0m_width\u001b[0m \u001b[0;34m=\u001b[0m \u001b[0mint\u001b[0m\u001b[0;34m(\u001b[0m\u001b[0m_video\u001b[0m\u001b[0;34m.\u001b[0m\u001b[0mget\u001b[0m\u001b[0;34m(\u001b[0m\u001b[0mcv2\u001b[0m\u001b[0;34m.\u001b[0m\u001b[0mC\u001b[0m\u001b[0;34m)\u001b[0m\u001b[0;34m)\u001b[0m\u001b[0;34m\u001b[0m\u001b[0;34m\u001b[0m\u001b[0m\n\u001b[0m\u001b[1;32m      4\u001b[0m \u001b[0mprint\u001b[0m\u001b[0;34m(\u001b[0m\u001b[0;34m'frames per second ='\u001b[0m\u001b[0;34m,\u001b[0m\u001b[0m_fps\u001b[0m\u001b[0;34m)\u001b[0m\u001b[0;34m\u001b[0m\u001b[0;34m\u001b[0m\u001b[0m\n\u001b[1;32m      5\u001b[0m \u001b[0;34m\u001b[0m\u001b[0m\n",
      "\u001b[0;31mAttributeError\u001b[0m: module 'cv2' has no attribute 'C'"
     ]
    }
   ],
   "source": [
    "_video = cv2.VideoCapture(init_video_path)\n",
    "_fps = _video.get(cv2.CAP_PROP_FPS)\n",
    "_width = int(_video.get(cv2.C))\n",
    "print('frames per second =',_fps)\n",
    "\n",
    "minutes = 0\n",
    "seconds = 4\n",
    "frame_id = int(fps*(minutes*60 + seconds))\n",
    "print('frame id =',frame_id)\n",
    "\n",
    "video.set(cv2.CAP_PROP_POS_FRAMES, frame_id)\n",
    "ret, frame = video.read()\n",
    "print(ret)\n",
    "\n",
    "# cv2.imshow('frame', frame); cv2.waitKey(0)"
   ]
  },
  {
   "cell_type": "code",
   "execution_count": null,
   "metadata": {},
   "outputs": [],
   "source": [
    "video.isOpened()\n",
    "myvid = iio.get_reader(init_video_path)\n",
    "myimg = myvid.get_data(0)\n",
    "\n",
    "plt.figure(figsize=(1.5*12, 1.5*9))\n",
    "plt.imshow(frame)\n",
    "# plt.imshow(frame, interpolation ='nearest')"
   ]
  },
  {
   "cell_type": "code",
   "execution_count": 7,
   "metadata": {},
   "outputs": [
    {
     "data": {
      "text/plain": [
       "'/mnt/Double_Dragon/Videography/Archive/20221009/P1140279_2022102020157.MP4'"
      ]
     },
     "execution_count": 7,
     "metadata": {},
     "output_type": "execute_result"
    }
   ],
   "source": [
    "rename_clip_AddTimestamp( _video_file)"
   ]
  },
  {
   "cell_type": "code",
   "execution_count": null,
   "metadata": {},
   "outputs": [],
   "source": []
  }
 ],
 "metadata": {
  "kernelspec": {
   "display_name": "Python 3.8.10 ('AV_20210619')",
   "language": "python",
   "name": "python3"
  },
  "language_info": {
   "codemirror_mode": {
    "name": "ipython",
    "version": 3
   },
   "file_extension": ".py",
   "mimetype": "text/x-python",
   "name": "python",
   "nbconvert_exporter": "python",
   "pygments_lexer": "ipython3",
   "version": "3.8.10"
  },
  "orig_nbformat": 4,
  "vscode": {
   "interpreter": {
    "hash": "d58c107ef9c844447595edfcbea94b436b4ec96a01c38f5998ee33f2beea4a5e"
   }
  }
 },
 "nbformat": 4,
 "nbformat_minor": 2
}
