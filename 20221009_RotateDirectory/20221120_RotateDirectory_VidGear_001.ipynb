{
 "cells": [
  {
   "cell_type": "code",
   "execution_count": 1,
   "metadata": {},
   "outputs": [
    {
     "name": "stderr",
     "output_type": "stream",
     "text": [
      "\u001b[32m13:51:40\u001b[0m :: \u001b[1;35m   Helper    \u001b[0m :: \u001b[1;36m  INFO  \u001b[0m :: \u001b[1;37mRunning VidGear Version: 0.2.6\u001b[0m\n"
     ]
    }
   ],
   "source": [
    "import easygui\n",
    "import os\n",
    "import datetime\n",
    "from matplotlib import pyplot as plt\n",
    "import cv2\n",
    "from ffpyplayer.player import MediaPlayer\n",
    "from vidgear.gears import VideoGear\n",
    "from vidgear.gears import WriteGear\n",
    "from moviepy.editor import *\n",
    "\n",
    "# change_settings({\"FFMPEG_BINARY\": \"ffmpeg\"})"
   ]
  },
  {
   "cell_type": "code",
   "execution_count": 2,
   "metadata": {},
   "outputs": [
    {
     "name": "stdout",
     "output_type": "stream",
     "text": [
      "DIRECTORY  Imported: \n",
      "/mnt/Double_Dragon/Videography/My_Archive/20230103_Μαμά_Μελομακάρονα\n"
     ]
    }
   ],
   "source": [
    "DIRECTORY = easygui.diropenbox(msg='Choose Folder with Video Files to Rotage90', default='/mnt/Double_Dragon/Videography/')\n",
    "# init_vid = easygui.fileopenbox(msg='Choose Video FIle to open:', default='./')\n",
    "# init_video_path = os.path.realpath(init_vid)\n",
    "print( 'DIRECTORY  Imported: \\n' +  DIRECTORY)"
   ]
  },
  {
   "cell_type": "code",
   "execution_count": 3,
   "metadata": {},
   "outputs": [],
   "source": [
    "\n",
    "\n",
    "def rename_clip_AddTimestamp(_filename):\n",
    "    timestamp = datetime.datetime.now()\n",
    "    t = str(timestamp.year), str(timestamp.month), str(timestamp.day), str(\n",
    "        timestamp.hour), str(timestamp.minute), str(timestamp.second)\n",
    "    return _filename.replace('.MP4', '_' + ''.join(t) + '.MP4')\n",
    "\n",
    "\n",
    "def rename_file_AddDate_bf_extension(_filename: str) -> str:\n",
    "    timestamp = datetime.datetime.now()\n",
    "    # , str(timestamp.hour), str(timestamp.minute), str(timestamp.second)\n",
    "    d = str(timestamp.year), str(timestamp.month), str(timestamp.day)\n",
    "\n",
    "    if _filename[-4] == '.':\n",
    "        f, extension = os.path.splitext(_filename)\n",
    "        return f'{_filename[:-4]}_{d}{extension}'\n",
    "    else:\n",
    "        print(f'4th last character in \"{_filename}\" is not a dot \".\"')\n",
    "        return f'{_filename}_{d}'\n",
    "\n",
    "\n",
    "def files_inside_dir_with_spec_extension(src_dir, extension='.mp4', recursive=True) -> list:\n",
    "    \"\"\"List all paths of files with the specific extension\n",
    "\n",
    "    Args:\n",
    "        _src_dir (str): full path of directory\n",
    "        extension (str, optional): files' extension (to search in directory. Defaults to '.mp4'.\n",
    "        recursive (bool, optional): True for recursive search. False for no tree generation. Defaults to True \n",
    "\n",
    "    Returns:\n",
    "        list: paths of files with the extension\n",
    "    \"\"\"\n",
    "\n",
    "    _extension: str = extension\n",
    "    _src_dir: str = src_dir\n",
    "    _recursive: bool = recursive\n",
    "\n",
    "    files_inside_dir_with_the_extension = []\n",
    "    if recursive:\n",
    "        for root, dirs, files in os.walk(_src_dir):\n",
    "            for f in files:\n",
    "                fn, ext = os.path.splitext(f)\n",
    "                if ext.upper() == _extension.upper():\n",
    "                    full_name = os.path.join(root, f)\n",
    "                    files_inside_dir_with_the_extension.append(full_name)\n",
    "                    print(full_name)\n",
    "    else:\n",
    "        for file in os.listdir(_src_dir):\n",
    "            fn, ext = os.path.splitext(file)\n",
    "            if ext.upper() == _extension.upper():\n",
    "                files_inside_dir_with_the_extension.append(file)\n",
    "                print(file)\n",
    "\n",
    "    files_inside_dir_with_the_extension.sort()\n",
    "    return files_inside_dir_with_the_extension\n"
   ]
  },
  {
   "cell_type": "code",
   "execution_count": 4,
   "metadata": {},
   "outputs": [
    {
     "name": "stdout",
     "output_type": "stream",
     "text": [
      "/mnt/Double_Dragon/Videography/My_Archive/20230103_Μαμά_Μελομακάρονα/P1190320.MP4\n",
      "/mnt/Double_Dragon/Videography/My_Archive/20230103_Μαμά_Μελομακάρονα/P1190321.MP4\n",
      "/mnt/Double_Dragon/Videography/My_Archive/20230103_Μαμά_Μελομακάρονα/P1190322.MP4\n",
      "/mnt/Double_Dragon/Videography/My_Archive/20230103_Μαμά_Μελομακάρονα/P1190323.MP4\n",
      "/mnt/Double_Dragon/Videography/My_Archive/20230103_Μαμά_Μελομακάρονα/P1190324.MP4\n",
      "/mnt/Double_Dragon/Videography/My_Archive/20230103_Μαμά_Μελομακάρονα/P1190325.MP4\n",
      "/mnt/Double_Dragon/Videography/My_Archive/20230103_Μαμά_Μελομακάρονα/P1190326.MP4\n",
      "/mnt/Double_Dragon/Videography/My_Archive/20230103_Μαμά_Μελομακάρονα/P1190327.MP4\n",
      "/mnt/Double_Dragon/Videography/My_Archive/20230103_Μαμά_Μελομακάρονα/P1190328.MP4\n",
      "/mnt/Double_Dragon/Videography/My_Archive/20230103_Μαμά_Μελομακάρονα/P1190329.MP4\n",
      "/mnt/Double_Dragon/Videography/My_Archive/20230103_Μαμά_Μελομακάρονα/P1190330.MP4\n",
      "/mnt/Double_Dragon/Videography/My_Archive/20230103_Μαμά_Μελομακάρονα/P1190331.MP4\n",
      "/mnt/Double_Dragon/Videography/My_Archive/20230103_Μαμά_Μελομακάρονα/P1190332.MP4\n",
      "/mnt/Double_Dragon/Videography/My_Archive/20230103_Μαμά_Μελομακάρονα/P1190333.MP4\n",
      "/mnt/Double_Dragon/Videography/My_Archive/20230103_Μαμά_Μελομακάρονα/P1190334.MP4\n"
     ]
    }
   ],
   "source": [
    "#Debugging  Mode\n",
    "# videos = ['/mnt/Double_Dragon/Videography/Archive/20221019_Viv24/P1140354.MP4', ]\n",
    "#Production Mode\n",
    "videos =files_inside_dir_with_spec_extension(DIRECTORY, extension='.mp4')"
   ]
  },
  {
   "cell_type": "code",
   "execution_count": 7,
   "metadata": {},
   "outputs": [
    {
     "name": "stdout",
     "output_type": "stream",
     "text": [
      "Started: \t  1\t/mnt/Double_Dragon/Videography/My_Archive/20230103_Μαμά_Μελομακάρονα/P1190320.MP4\n",
      "Moviepy - Building video /mnt/Double_Dragon/Videography/My_Archive/20230103_Μαμά_Μελομακάρονα/P1190320_('2023', '1', '3').MP4.\n",
      "MoviePy - Writing audio in P1190320_('2023', '1', '3')TEMP_MPY_wvf_snd.mp3\n"
     ]
    },
    {
     "name": "stderr",
     "output_type": "stream",
     "text": [
      "                                                                    \r"
     ]
    },
    {
     "name": "stdout",
     "output_type": "stream",
     "text": [
      "MoviePy - Done.\n",
      "Moviepy - Writing video /mnt/Double_Dragon/Videography/My_Archive/20230103_Μαμά_Μελομακάρονα/P1190320_('2023', '1', '3').MP4\n",
      "\n"
     ]
    },
    {
     "name": "stderr",
     "output_type": "stream",
     "text": [
      "                                                              \r"
     ]
    },
    {
     "name": "stdout",
     "output_type": "stream",
     "text": [
      "Moviepy - Done !\n",
      "Moviepy - video ready /mnt/Double_Dragon/Videography/My_Archive/20230103_Μαμά_Μελομακάρονα/P1190320_('2023', '1', '3').MP4\n",
      "Started: \t  2\t/mnt/Double_Dragon/Videography/My_Archive/20230103_Μαμά_Μελομακάρονα/P1190321.MP4\n",
      "Moviepy - Building video /mnt/Double_Dragon/Videography/My_Archive/20230103_Μαμά_Μελομακάρονα/P1190321_('2023', '1', '3').MP4.\n",
      "MoviePy - Writing audio in P1190321_('2023', '1', '3')TEMP_MPY_wvf_snd.mp3\n"
     ]
    },
    {
     "name": "stderr",
     "output_type": "stream",
     "text": [
      "                                                                    \r"
     ]
    },
    {
     "name": "stdout",
     "output_type": "stream",
     "text": [
      "MoviePy - Done.\n",
      "Moviepy - Writing video /mnt/Double_Dragon/Videography/My_Archive/20230103_Μαμά_Μελομακάρονα/P1190321_('2023', '1', '3').MP4\n",
      "\n"
     ]
    },
    {
     "name": "stderr",
     "output_type": "stream",
     "text": [
      "t:  46%|████▌     | 781/1711 [00:45<00:52, 17.63it/s, now=None]"
     ]
    },
    {
     "ename": "KeyboardInterrupt",
     "evalue": "",
     "output_type": "error",
     "traceback": [
      "\u001b[0;31m---------------------------------------------------------------------------\u001b[0m",
      "\u001b[0;31mKeyboardInterrupt\u001b[0m                         Traceback (most recent call last)",
      "Cell \u001b[0;32mIn[7], line 6\u001b[0m\n\u001b[1;32m      4\u001b[0m vid \u001b[39m=\u001b[39m VideoFileClip(_video_filename)\n\u001b[1;32m      5\u001b[0m vid \u001b[39m=\u001b[39m vid\u001b[39m.\u001b[39mrotate(\u001b[39m90\u001b[39m)\n\u001b[0;32m----> 6\u001b[0m vid\u001b[39m.\u001b[39;49mwrite_videofile(rename_file_AddDate_bf_extension(_video_filename))\n\u001b[1;32m      7\u001b[0m vid\u001b[39m.\u001b[39mclose\n",
      "File \u001b[0;32m~/anaconda3/envs/AV_ENV/lib/python3.8/site-packages/decorator.py:232\u001b[0m, in \u001b[0;36mdecorate.<locals>.fun\u001b[0;34m(*args, **kw)\u001b[0m\n\u001b[1;32m    230\u001b[0m \u001b[39mif\u001b[39;00m \u001b[39mnot\u001b[39;00m kwsyntax:\n\u001b[1;32m    231\u001b[0m     args, kw \u001b[39m=\u001b[39m fix(args, kw, sig)\n\u001b[0;32m--> 232\u001b[0m \u001b[39mreturn\u001b[39;00m caller(func, \u001b[39m*\u001b[39;49m(extras \u001b[39m+\u001b[39;49m args), \u001b[39m*\u001b[39;49m\u001b[39m*\u001b[39;49mkw)\n",
      "File \u001b[0;32m~/anaconda3/envs/AV_ENV/lib/python3.8/site-packages/moviepy/decorators.py:54\u001b[0m, in \u001b[0;36mrequires_duration\u001b[0;34m(f, clip, *a, **k)\u001b[0m\n\u001b[1;32m     52\u001b[0m     \u001b[39mraise\u001b[39;00m \u001b[39mValueError\u001b[39;00m(\u001b[39m\"\u001b[39m\u001b[39mAttribute \u001b[39m\u001b[39m'\u001b[39m\u001b[39mduration\u001b[39m\u001b[39m'\u001b[39m\u001b[39m not set\u001b[39m\u001b[39m\"\u001b[39m)\n\u001b[1;32m     53\u001b[0m \u001b[39melse\u001b[39;00m:\n\u001b[0;32m---> 54\u001b[0m     \u001b[39mreturn\u001b[39;00m f(clip, \u001b[39m*\u001b[39;49ma, \u001b[39m*\u001b[39;49m\u001b[39m*\u001b[39;49mk)\n",
      "File \u001b[0;32m~/anaconda3/envs/AV_ENV/lib/python3.8/site-packages/decorator.py:232\u001b[0m, in \u001b[0;36mdecorate.<locals>.fun\u001b[0;34m(*args, **kw)\u001b[0m\n\u001b[1;32m    230\u001b[0m \u001b[39mif\u001b[39;00m \u001b[39mnot\u001b[39;00m kwsyntax:\n\u001b[1;32m    231\u001b[0m     args, kw \u001b[39m=\u001b[39m fix(args, kw, sig)\n\u001b[0;32m--> 232\u001b[0m \u001b[39mreturn\u001b[39;00m caller(func, \u001b[39m*\u001b[39;49m(extras \u001b[39m+\u001b[39;49m args), \u001b[39m*\u001b[39;49m\u001b[39m*\u001b[39;49mkw)\n",
      "File \u001b[0;32m~/anaconda3/envs/AV_ENV/lib/python3.8/site-packages/moviepy/decorators.py:125\u001b[0m, in \u001b[0;36muse_clip_fps_by_default\u001b[0;34m(f, clip, *a, **k)\u001b[0m\n\u001b[1;32m    120\u001b[0m new_a \u001b[39m=\u001b[39m [fun(arg) \u001b[39mif\u001b[39;00m (name\u001b[39m==\u001b[39m\u001b[39m'\u001b[39m\u001b[39mfps\u001b[39m\u001b[39m'\u001b[39m) \u001b[39melse\u001b[39;00m arg\n\u001b[1;32m    121\u001b[0m          \u001b[39mfor\u001b[39;00m (arg, name) \u001b[39min\u001b[39;00m \u001b[39mzip\u001b[39m(a, names)]\n\u001b[1;32m    122\u001b[0m new_kw \u001b[39m=\u001b[39m {k: fun(v) \u001b[39mif\u001b[39;00m k\u001b[39m==\u001b[39m\u001b[39m'\u001b[39m\u001b[39mfps\u001b[39m\u001b[39m'\u001b[39m \u001b[39melse\u001b[39;00m v\n\u001b[1;32m    123\u001b[0m          \u001b[39mfor\u001b[39;00m (k,v) \u001b[39min\u001b[39;00m k\u001b[39m.\u001b[39mitems()}\n\u001b[0;32m--> 125\u001b[0m \u001b[39mreturn\u001b[39;00m f(clip, \u001b[39m*\u001b[39;49mnew_a, \u001b[39m*\u001b[39;49m\u001b[39m*\u001b[39;49mnew_kw)\n",
      "File \u001b[0;32m~/anaconda3/envs/AV_ENV/lib/python3.8/site-packages/decorator.py:232\u001b[0m, in \u001b[0;36mdecorate.<locals>.fun\u001b[0;34m(*args, **kw)\u001b[0m\n\u001b[1;32m    230\u001b[0m \u001b[39mif\u001b[39;00m \u001b[39mnot\u001b[39;00m kwsyntax:\n\u001b[1;32m    231\u001b[0m     args, kw \u001b[39m=\u001b[39m fix(args, kw, sig)\n\u001b[0;32m--> 232\u001b[0m \u001b[39mreturn\u001b[39;00m caller(func, \u001b[39m*\u001b[39;49m(extras \u001b[39m+\u001b[39;49m args), \u001b[39m*\u001b[39;49m\u001b[39m*\u001b[39;49mkw)\n",
      "File \u001b[0;32m~/anaconda3/envs/AV_ENV/lib/python3.8/site-packages/moviepy/decorators.py:22\u001b[0m, in \u001b[0;36mconvert_masks_to_RGB\u001b[0;34m(f, clip, *a, **k)\u001b[0m\n\u001b[1;32m     20\u001b[0m \u001b[39mif\u001b[39;00m clip\u001b[39m.\u001b[39mismask:\n\u001b[1;32m     21\u001b[0m     clip \u001b[39m=\u001b[39m clip\u001b[39m.\u001b[39mto_RGB()\n\u001b[0;32m---> 22\u001b[0m \u001b[39mreturn\u001b[39;00m f(clip, \u001b[39m*\u001b[39;49ma, \u001b[39m*\u001b[39;49m\u001b[39m*\u001b[39;49mk)\n",
      "File \u001b[0;32m~/anaconda3/envs/AV_ENV/lib/python3.8/site-packages/moviepy/video/VideoClip.py:300\u001b[0m, in \u001b[0;36mVideoClip.write_videofile\u001b[0;34m(self, filename, fps, codec, bitrate, audio, audio_fps, preset, audio_nbytes, audio_codec, audio_bitrate, audio_bufsize, temp_audiofile, rewrite_audio, remove_temp, write_logfile, verbose, threads, ffmpeg_params, logger)\u001b[0m\n\u001b[1;32m    292\u001b[0m \u001b[39mif\u001b[39;00m make_audio:\n\u001b[1;32m    293\u001b[0m     \u001b[39mself\u001b[39m\u001b[39m.\u001b[39maudio\u001b[39m.\u001b[39mwrite_audiofile(audiofile, audio_fps,\n\u001b[1;32m    294\u001b[0m                                audio_nbytes, audio_bufsize,\n\u001b[1;32m    295\u001b[0m                                audio_codec, bitrate\u001b[39m=\u001b[39maudio_bitrate,\n\u001b[1;32m    296\u001b[0m                                write_logfile\u001b[39m=\u001b[39mwrite_logfile,\n\u001b[1;32m    297\u001b[0m                                verbose\u001b[39m=\u001b[39mverbose,\n\u001b[1;32m    298\u001b[0m                                logger\u001b[39m=\u001b[39mlogger)\n\u001b[0;32m--> 300\u001b[0m ffmpeg_write_video(\u001b[39mself\u001b[39;49m, filename, fps, codec,\n\u001b[1;32m    301\u001b[0m                    bitrate\u001b[39m=\u001b[39;49mbitrate,\n\u001b[1;32m    302\u001b[0m                    preset\u001b[39m=\u001b[39;49mpreset,\n\u001b[1;32m    303\u001b[0m                    write_logfile\u001b[39m=\u001b[39;49mwrite_logfile,\n\u001b[1;32m    304\u001b[0m                    audiofile\u001b[39m=\u001b[39;49maudiofile,\n\u001b[1;32m    305\u001b[0m                    verbose\u001b[39m=\u001b[39;49mverbose, threads\u001b[39m=\u001b[39;49mthreads,\n\u001b[1;32m    306\u001b[0m                    ffmpeg_params\u001b[39m=\u001b[39;49mffmpeg_params,\n\u001b[1;32m    307\u001b[0m                    logger\u001b[39m=\u001b[39;49mlogger)\n\u001b[1;32m    309\u001b[0m \u001b[39mif\u001b[39;00m remove_temp \u001b[39mand\u001b[39;00m make_audio:\n\u001b[1;32m    310\u001b[0m     \u001b[39mif\u001b[39;00m os\u001b[39m.\u001b[39mpath\u001b[39m.\u001b[39mexists(audiofile):\n",
      "File \u001b[0;32m~/anaconda3/envs/AV_ENV/lib/python3.8/site-packages/moviepy/video/io/ffmpeg_writer.py:228\u001b[0m, in \u001b[0;36mffmpeg_write_video\u001b[0;34m(clip, filename, fps, codec, bitrate, preset, withmask, write_logfile, audiofile, verbose, threads, ffmpeg_params, logger)\u001b[0m\n\u001b[1;32m    225\u001b[0m                 mask \u001b[39m=\u001b[39m mask\u001b[39m.\u001b[39mastype(\u001b[39m\"\u001b[39m\u001b[39muint8\u001b[39m\u001b[39m\"\u001b[39m)\n\u001b[1;32m    226\u001b[0m             frame \u001b[39m=\u001b[39m np\u001b[39m.\u001b[39mdstack([frame,mask])\n\u001b[0;32m--> 228\u001b[0m         writer\u001b[39m.\u001b[39;49mwrite_frame(frame)\n\u001b[1;32m    230\u001b[0m \u001b[39mif\u001b[39;00m write_logfile:\n\u001b[1;32m    231\u001b[0m     logfile\u001b[39m.\u001b[39mclose()\n",
      "File \u001b[0;32m~/anaconda3/envs/AV_ENV/lib/python3.8/site-packages/moviepy/video/io/ffmpeg_writer.py:136\u001b[0m, in \u001b[0;36mFFMPEG_VideoWriter.write_frame\u001b[0;34m(self, img_array)\u001b[0m\n\u001b[1;32m    134\u001b[0m \u001b[39mtry\u001b[39;00m:\n\u001b[1;32m    135\u001b[0m     \u001b[39mif\u001b[39;00m PY3:\n\u001b[0;32m--> 136\u001b[0m        \u001b[39mself\u001b[39m\u001b[39m.\u001b[39mproc\u001b[39m.\u001b[39mstdin\u001b[39m.\u001b[39mwrite(img_array\u001b[39m.\u001b[39;49mtobytes())\n\u001b[1;32m    137\u001b[0m     \u001b[39melse\u001b[39;00m:\n\u001b[1;32m    138\u001b[0m        \u001b[39mself\u001b[39m\u001b[39m.\u001b[39mproc\u001b[39m.\u001b[39mstdin\u001b[39m.\u001b[39mwrite(img_array\u001b[39m.\u001b[39mtostring())\n",
      "\u001b[0;31mKeyboardInterrupt\u001b[0m: "
     ]
    }
   ],
   "source": [
    "for counter, _video_filename in enumerate(videos):\n",
    "    print(f'Started: \\t  {str(counter+1)}\\t{_video_filename}')\n",
    "    \n",
    "    vid = VideoFileClip(_video_filename)\n",
    "    vid = vid.rotate(90)\n",
    "    vid.write_videofile(rename_file_AddDate_bf_extension(_video_filename))\n",
    "    vid.close\n",
    "    "
   ]
  },
  {
   "cell_type": "code",
   "execution_count": 11,
   "metadata": {},
   "outputs": [
    {
     "name": "stdout",
     "output_type": "stream",
     "text": [
      "Started: \t  /mnt/Double_Dragon/Videography/Archive/20221025_Debella_Πορτραίτο/P1140471.MP4\n",
      "1/6\t/mnt/Double_Dragon/Videography/Archive/20221025_Debella_Πορτραίτο/P1140471.MP4\t Rotated \n",
      "\n",
      "\n",
      "Started: \t  /mnt/Double_Dragon/Videography/Archive/20221025_Debella_Πορτραίτο/P1140472.MP4\n",
      "2/6\t/mnt/Double_Dragon/Videography/Archive/20221025_Debella_Πορτραίτο/P1140472.MP4\t Rotated \n",
      "\n",
      "\n",
      "Started: \t  /mnt/Double_Dragon/Videography/Archive/20221025_Debella_Πορτραίτο/P1140473.MP4\n",
      "3/6\t/mnt/Double_Dragon/Videography/Archive/20221025_Debella_Πορτραίτο/P1140473.MP4\t Rotated \n",
      "\n",
      "\n",
      "Started: \t  /mnt/Double_Dragon/Videography/Archive/20221025_Debella_Πορτραίτο/P1140474.MP4\n",
      "4/6\t/mnt/Double_Dragon/Videography/Archive/20221025_Debella_Πορτραίτο/P1140474.MP4\t Rotated \n",
      "\n",
      "\n",
      "Started: \t  /mnt/Double_Dragon/Videography/Archive/20221025_Debella_Πορτραίτο/P1140477.MP4\n",
      "5/6\t/mnt/Double_Dragon/Videography/Archive/20221025_Debella_Πορτραίτο/P1140477.MP4\t Rotated \n",
      "\n",
      "\n",
      "Started: \t  /mnt/Double_Dragon/Videography/Archive/20221025_Debella_Πορτραίτο/P1140479.MP4\n",
      "6/6\t/mnt/Double_Dragon/Videography/Archive/20221025_Debella_Πορτραίτο/P1140479.MP4\t Rotated \n",
      "\n",
      "\n"
     ]
    }
   ],
   "source": [
    "for counter, _video_filename in enumerate(videos):\n",
    "    print(f'Started: \\t  {str(counter+1)}\\t{_video_filename}')\n",
    "\n",
    "    _video = VideoGear(source=_video_filename).start()\n",
    "\n",
    "    input_audio = \"output_audio.aac\"\n",
    "    output_params = {\"-input_framerate\":_video.framerate,}\n",
    "    \n",
    "    new_video_filename = rename_clip_AddTimestamp( _video_filename).replace(\".MP4\", \"_ROT90.MP4\")\n",
    "    writer = WriteGear(output_filename=\"output_video.MP4\", **output_params)\n",
    "\n",
    "    ffmpeg_command_to_save_audio = [\"-y\", \"-i\", _video_filename, \"output_audio.aac\"]\n",
    "    writer.execute_ffmpeg_cmd(ffmpeg_command_to_save_audio)\n",
    "\n",
    "    while True:\n",
    "        frame = _video.read()\n",
    "        if frame is None:\n",
    "            break\n",
    "\n",
    "        # modifiy frame\n",
    "        new_frame = cv2.rotate(frame, cv2.ROTATE_90_CLOCKWISE)\n",
    "        writer.write(new_frame)\n",
    "    \n",
    "    _video.stop()\n",
    "    writer.close()\n",
    "\n",
    "    # add output_audio.aac\n",
    "    ffmpeg_command = [\n",
    "    \"-y\",\n",
    "    \"-i\",\n",
    "    \"output_video.MP4\",\n",
    "    \"-i\",\n",
    "    \"output_audio.aac\",\n",
    "    \"-c:v\",\n",
    "    \"copy\",\n",
    "    \"-c:a\",\n",
    "    \"copy\",\n",
    "    \"-map\",\n",
    "    \"0:v:0\",\n",
    "    \"-map\",\n",
    "    \"1:a:0\",\n",
    "    \"-shortest\",\n",
    "    new_video_filename\n",
    "    ]\n",
    "    writer.execute_ffmpeg_cmd(ffmpeg_command)\n",
    "    \n",
    "    print(str(counter+1) + \"/\" + str(len(videos)) + \"\\t\" + _video_filename + \"\\t Rotated \\n\\n\")\n",
    "    "
   ]
  },
  {
   "cell_type": "code",
   "execution_count": null,
   "metadata": {},
   "outputs": [],
   "source": [
    "_video = VideoGear(source=init_video_path).start()\n",
    "writer = WriteGear(output_filename=rename_clip_AddTimestamp(init_video_path), logging=True)\n",
    "\n",
    "ffmpeg_command_to_save_audio = [\n",
    "    \"-y\",\n",
    "    \"-i\",\n",
    "    init_video_path,\n",
    "    \"output_audio.aac\",\n",
    "]\n",
    "\n",
    "writer.execute_ffmpeg_cmd(ffmpeg_command_to_save_audio)\n",
    "writer.close()"
   ]
  },
  {
   "cell_type": "code",
   "execution_count": 8,
   "metadata": {},
   "outputs": [
    {
     "ename": "KeyboardInterrupt",
     "evalue": "",
     "output_type": "error",
     "traceback": [
      "\u001b[0;31m---------------------------------------------------------------------------\u001b[0m",
      "\u001b[0;31mKeyboardInterrupt\u001b[0m                         Traceback (most recent call last)",
      "Cell \u001b[0;32mIn [8], line 5\u001b[0m\n\u001b[1;32m      1\u001b[0m input_audio \u001b[39m=\u001b[39m \u001b[39m\"\u001b[39m\u001b[39moutput_audio.aac\u001b[39m\u001b[39m\"\u001b[39m\n\u001b[1;32m      2\u001b[0m output_params \u001b[39m=\u001b[39m {\n\u001b[1;32m      3\u001b[0m     \u001b[39m\"\u001b[39m\u001b[39m-input_framerate\u001b[39m\u001b[39m\"\u001b[39m:_video\u001b[39m.\u001b[39mframerate\n\u001b[1;32m      4\u001b[0m }\n\u001b[0;32m----> 5\u001b[0m writer \u001b[39m=\u001b[39m WriteGear(output_filename\u001b[39m=\u001b[39;49m\u001b[39m\"\u001b[39;49m\u001b[39mOutput.mp4\u001b[39;49m\u001b[39m\"\u001b[39;49m, \u001b[39m*\u001b[39;49m\u001b[39m*\u001b[39;49moutput_params)\n\u001b[1;32m      7\u001b[0m \u001b[39mwhile\u001b[39;00m \u001b[39mTrue\u001b[39;00m:\n\u001b[1;32m      8\u001b[0m     frame \u001b[39m=\u001b[39m _video\u001b[39m.\u001b[39mread()\n",
      "File \u001b[0;32m~/anaconda3/envs/AV_20210619/lib/python3.8/site-packages/vidgear/gears/writegear.py:215\u001b[0m, in \u001b[0;36mWriteGear.__init__\u001b[0;34m(self, output_filename, compression_mode, custom_ffmpeg, logging, **output_params)\u001b[0m\n\u001b[1;32m    209\u001b[0m     \u001b[39mself\u001b[39m\u001b[39m.\u001b[39m__force_termination \u001b[39m=\u001b[39m (\n\u001b[1;32m    210\u001b[0m         \u001b[39mTrue\u001b[39;00m \u001b[39mif\u001b[39;00m (\u001b[39m\"\u001b[39m\u001b[39m-i\u001b[39m\u001b[39m\"\u001b[39m \u001b[39min\u001b[39;00m \u001b[39mself\u001b[39m\u001b[39m.\u001b[39m__output_parameters) \u001b[39melse\u001b[39;00m \u001b[39mFalse\u001b[39;00m\n\u001b[1;32m    211\u001b[0m     )\n\u001b[1;32m    213\u001b[0m \u001b[39m# validate the FFmpeg path/binaries and returns valid FFmpeg file\u001b[39;00m\n\u001b[1;32m    214\u001b[0m \u001b[39m# executable location (also downloads static binaries on windows)\u001b[39;00m\n\u001b[0;32m--> 215\u001b[0m \u001b[39mself\u001b[39m\u001b[39m.\u001b[39m__ffmpeg \u001b[39m=\u001b[39m get_valid_ffmpeg_path(\n\u001b[1;32m    216\u001b[0m     custom_ffmpeg,\n\u001b[1;32m    217\u001b[0m     \u001b[39mself\u001b[39;49m\u001b[39m.\u001b[39;49m__os_windows,\n\u001b[1;32m    218\u001b[0m     ffmpeg_download_path\u001b[39m=\u001b[39;49m__ffmpeg_download_path,\n\u001b[1;32m    219\u001b[0m     logging\u001b[39m=\u001b[39;49m\u001b[39mself\u001b[39;49m\u001b[39m.\u001b[39;49m__logging,\n\u001b[1;32m    220\u001b[0m )\n\u001b[1;32m    222\u001b[0m \u001b[39m# check if valid path returned\u001b[39;00m\n\u001b[1;32m    223\u001b[0m \u001b[39mif\u001b[39;00m \u001b[39mself\u001b[39m\u001b[39m.\u001b[39m__ffmpeg:\n",
      "File \u001b[0;32m~/anaconda3/envs/AV_20210619/lib/python3.8/site-packages/vidgear/gears/helper.py:975\u001b[0m, in \u001b[0;36mget_valid_ffmpeg_path\u001b[0;34m(custom_ffmpeg, is_windows, ffmpeg_download_path, logging)\u001b[0m\n\u001b[1;32m    972\u001b[0m logging \u001b[39mand\u001b[39;00m logger\u001b[39m.\u001b[39mdebug(\u001b[39m\"\u001b[39m\u001b[39mFinal FFmpeg Path: \u001b[39m\u001b[39m{}\u001b[39;00m\u001b[39m\"\u001b[39m\u001b[39m.\u001b[39mformat(final_path))\n\u001b[1;32m    974\u001b[0m \u001b[39m# Final Auto-Validation for FFmeg Binaries. returns final path if test is passed\u001b[39;00m\n\u001b[0;32m--> 975\u001b[0m \u001b[39mreturn\u001b[39;00m final_path \u001b[39mif\u001b[39;00m validate_ffmpeg(final_path, logging\u001b[39m=\u001b[39;49mlogging) \u001b[39melse\u001b[39;00m \u001b[39mFalse\u001b[39;00m\n",
      "File \u001b[0;32m~/anaconda3/envs/AV_20210619/lib/python3.8/site-packages/vidgear/gears/helper.py:1073\u001b[0m, in \u001b[0;36mvalidate_ffmpeg\u001b[0;34m(path, logging)\u001b[0m\n\u001b[1;32m   1060\u001b[0m \u001b[39m\"\"\"\u001b[39;00m\n\u001b[1;32m   1061\u001b[0m \u001b[39m## validate_ffmpeg\u001b[39;00m\n\u001b[1;32m   1062\u001b[0m \n\u001b[0;32m   (...)\u001b[0m\n\u001b[1;32m   1069\u001b[0m \u001b[39m**Returns:** A boolean value, confirming whether tests passed, or not?.\u001b[39;00m\n\u001b[1;32m   1070\u001b[0m \u001b[39m\"\"\"\u001b[39;00m\n\u001b[1;32m   1071\u001b[0m \u001b[39mtry\u001b[39;00m:\n\u001b[1;32m   1072\u001b[0m     \u001b[39m# get the FFmpeg version\u001b[39;00m\n\u001b[0;32m-> 1073\u001b[0m     version \u001b[39m=\u001b[39m check_output([path, \u001b[39m\"\u001b[39;49m\u001b[39m-version\u001b[39;49m\u001b[39m\"\u001b[39;49m])\n\u001b[1;32m   1074\u001b[0m     firstline \u001b[39m=\u001b[39m version\u001b[39m.\u001b[39msplit(\u001b[39mb\u001b[39m\u001b[39m\"\u001b[39m\u001b[39m\\n\u001b[39;00m\u001b[39m\"\u001b[39m)[\u001b[39m0\u001b[39m]\n\u001b[1;32m   1075\u001b[0m     version \u001b[39m=\u001b[39m firstline\u001b[39m.\u001b[39msplit(\u001b[39mb\u001b[39m\u001b[39m\"\u001b[39m\u001b[39m \u001b[39m\u001b[39m\"\u001b[39m)[\u001b[39m2\u001b[39m]\u001b[39m.\u001b[39mstrip()\n",
      "File \u001b[0;32m~/anaconda3/envs/AV_20210619/lib/python3.8/site-packages/vidgear/gears/helper.py:1110\u001b[0m, in \u001b[0;36mcheck_output\u001b[0;34m(*args, **kwargs)\u001b[0m\n\u001b[1;32m   1107\u001b[0m retrieve_stderr \u001b[39m=\u001b[39m kwargs\u001b[39m.\u001b[39mpop(\u001b[39m\"\u001b[39m\u001b[39mforce_retrieve_stderr\u001b[39m\u001b[39m\"\u001b[39m, \u001b[39mFalse\u001b[39;00m)\n\u001b[1;32m   1109\u001b[0m \u001b[39m# execute command in subprocess\u001b[39;00m\n\u001b[0;32m-> 1110\u001b[0m process \u001b[39m=\u001b[39m sp\u001b[39m.\u001b[39;49mPopen(\n\u001b[1;32m   1111\u001b[0m     stdout\u001b[39m=\u001b[39;49msp\u001b[39m.\u001b[39;49mPIPE,\n\u001b[1;32m   1112\u001b[0m     stderr\u001b[39m=\u001b[39;49msp\u001b[39m.\u001b[39;49mDEVNULL \u001b[39mif\u001b[39;49;00m \u001b[39mnot\u001b[39;49;00m (retrieve_stderr) \u001b[39melse\u001b[39;49;00m sp\u001b[39m.\u001b[39;49mPIPE,\n\u001b[1;32m   1113\u001b[0m     \u001b[39m*\u001b[39;49margs,\n\u001b[1;32m   1114\u001b[0m     \u001b[39m*\u001b[39;49m\u001b[39m*\u001b[39;49mkwargs,\n\u001b[1;32m   1115\u001b[0m )\n\u001b[1;32m   1116\u001b[0m output, stderr \u001b[39m=\u001b[39m process\u001b[39m.\u001b[39mcommunicate()\n\u001b[1;32m   1117\u001b[0m retcode \u001b[39m=\u001b[39m process\u001b[39m.\u001b[39mpoll()\n",
      "File \u001b[0;32m~/anaconda3/envs/AV_20210619/lib/python3.8/subprocess.py:858\u001b[0m, in \u001b[0;36mPopen.__init__\u001b[0;34m(self, args, bufsize, executable, stdin, stdout, stderr, preexec_fn, close_fds, shell, cwd, env, universal_newlines, startupinfo, creationflags, restore_signals, start_new_session, pass_fds, encoding, errors, text)\u001b[0m\n\u001b[1;32m    854\u001b[0m         \u001b[39mif\u001b[39;00m \u001b[39mself\u001b[39m\u001b[39m.\u001b[39mtext_mode:\n\u001b[1;32m    855\u001b[0m             \u001b[39mself\u001b[39m\u001b[39m.\u001b[39mstderr \u001b[39m=\u001b[39m io\u001b[39m.\u001b[39mTextIOWrapper(\u001b[39mself\u001b[39m\u001b[39m.\u001b[39mstderr,\n\u001b[1;32m    856\u001b[0m                     encoding\u001b[39m=\u001b[39mencoding, errors\u001b[39m=\u001b[39merrors)\n\u001b[0;32m--> 858\u001b[0m     \u001b[39mself\u001b[39;49m\u001b[39m.\u001b[39;49m_execute_child(args, executable, preexec_fn, close_fds,\n\u001b[1;32m    859\u001b[0m                         pass_fds, cwd, env,\n\u001b[1;32m    860\u001b[0m                         startupinfo, creationflags, shell,\n\u001b[1;32m    861\u001b[0m                         p2cread, p2cwrite,\n\u001b[1;32m    862\u001b[0m                         c2pread, c2pwrite,\n\u001b[1;32m    863\u001b[0m                         errread, errwrite,\n\u001b[1;32m    864\u001b[0m                         restore_signals, start_new_session)\n\u001b[1;32m    865\u001b[0m \u001b[39mexcept\u001b[39;00m:\n\u001b[1;32m    866\u001b[0m     \u001b[39m# Cleanup if the child failed starting.\u001b[39;00m\n\u001b[1;32m    867\u001b[0m     \u001b[39mfor\u001b[39;00m f \u001b[39min\u001b[39;00m \u001b[39mfilter\u001b[39m(\u001b[39mNone\u001b[39;00m, (\u001b[39mself\u001b[39m\u001b[39m.\u001b[39mstdin, \u001b[39mself\u001b[39m\u001b[39m.\u001b[39mstdout, \u001b[39mself\u001b[39m\u001b[39m.\u001b[39mstderr)):\n",
      "File \u001b[0;32m~/anaconda3/envs/AV_20210619/lib/python3.8/subprocess.py:1660\u001b[0m, in \u001b[0;36mPopen._execute_child\u001b[0;34m(self, args, executable, preexec_fn, close_fds, pass_fds, cwd, env, startupinfo, creationflags, shell, p2cread, p2cwrite, c2pread, c2pwrite, errread, errwrite, restore_signals, start_new_session)\u001b[0m\n\u001b[1;32m   1658\u001b[0m errpipe_data \u001b[39m=\u001b[39m \u001b[39mbytearray\u001b[39m()\n\u001b[1;32m   1659\u001b[0m \u001b[39mwhile\u001b[39;00m \u001b[39mTrue\u001b[39;00m:\n\u001b[0;32m-> 1660\u001b[0m     part \u001b[39m=\u001b[39m os\u001b[39m.\u001b[39;49mread(errpipe_read, \u001b[39m50000\u001b[39;49m)\n\u001b[1;32m   1661\u001b[0m     errpipe_data \u001b[39m+\u001b[39m\u001b[39m=\u001b[39m part\n\u001b[1;32m   1662\u001b[0m     \u001b[39mif\u001b[39;00m \u001b[39mnot\u001b[39;00m part \u001b[39mor\u001b[39;00m \u001b[39mlen\u001b[39m(errpipe_data) \u001b[39m>\u001b[39m \u001b[39m50000\u001b[39m:\n",
      "\u001b[0;31mKeyboardInterrupt\u001b[0m: "
     ]
    }
   ],
   "source": [
    "input_audio = \"output_audio.aac\"\n",
    "output_params = {\n",
    "    \"-input_framerate\":_video.framerate\n",
    "}\n",
    "writer = WriteGear(output_filename=\"Output.mp4\", **output_params)\n",
    "\n",
    "while True:\n",
    "    frame = _video.read()\n",
    "    if frame is None:\n",
    "        break\n",
    "\n",
    "    new_frame = cv2.rotate(frame, cv2.ROTATE_90_CLOCKWISE)\n",
    "    writer.write(new_frame)\n",
    "    \n",
    "_video.stop()\n",
    "writer.close()    \n",
    "\n",
    "ffmpeg_command = [\n",
    "    \"-y\",\n",
    "    \"-i\",\n",
    "    \"Output.mp4\",\n",
    "    \"-i\",\n",
    "    input_audio,\n",
    "    \"-c:v\",\n",
    "    \"copy\",\n",
    "    \"-c:a\",\n",
    "    \"copy\",\n",
    "    \"-map\",\n",
    "    \"0:v:0\",\n",
    "    \"-map\",\n",
    "    \"1:a:0\",\n",
    "    \"-shortest\",\n",
    "    \"Output_with_audio.mp4\",\n",
    "]\n",
    "\n",
    "writer.execute_ffmpeg_cmd(ffmpeg_command)"
   ]
  }
 ],
 "metadata": {
  "kernelspec": {
   "display_name": "AV_ENV",
   "language": "python",
   "name": "python3"
  },
  "language_info": {
   "codemirror_mode": {
    "name": "ipython",
    "version": 3
   },
   "file_extension": ".py",
   "mimetype": "text/x-python",
   "name": "python",
   "nbconvert_exporter": "python",
   "pygments_lexer": "ipython3",
   "version": "3.8.15"
  },
  "orig_nbformat": 4,
  "vscode": {
   "interpreter": {
    "hash": "6e3e0c74c42b6acea78eab02c67a051ccb44bb5ef781466f524e76292bc736f0"
   }
  }
 },
 "nbformat": 4,
 "nbformat_minor": 2
}
