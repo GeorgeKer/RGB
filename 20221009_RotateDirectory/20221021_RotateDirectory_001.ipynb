{
 "cells": [
  {
   "cell_type": "code",
   "execution_count": 1,
   "metadata": {},
   "outputs": [],
   "source": [
    "import easygui\n",
    "import os\n",
    "import datetime\n",
    "from matplotlib import pyplot as plt\n",
    "import cv2\n",
    "# change_settings({\"FFMPEG_BINARY\": \"ffmpeg\"})"
   ]
  },
  {
   "cell_type": "code",
   "execution_count": 2,
   "metadata": {},
   "outputs": [
    {
     "name": "stdout",
     "output_type": "stream",
     "text": [
      "DIRECTORY  Imported: \n",
      "/mnt/Double_Dragon/Videography/Archive/20221025\n"
     ]
    }
   ],
   "source": [
    "DIRECTORY = easygui.diropenbox(msg='Choose Folder with Video Files to Rotage90', default='/mnt/Double_Dragon/Videography/')\n",
    "# init_vid = easygui.fileopenbox(msg='Choose Video FIle to open:', default='./')\n",
    "init_video_path = os.path.realpath(DIRECTORY) \n",
    "print( 'DIRECTORY  Imported: \\n' +  init_video_path)"
   ]
  },
  {
   "cell_type": "code",
   "execution_count": 3,
   "metadata": {},
   "outputs": [],
   "source": [
    "def write_clip (_clip) :\n",
    "    _clip.write_videofile(rename_clip_AddTimestamp(_clip.filename), \n",
    "                                            preset='veryslow', \n",
    "                                            audio_fps=48000,\n",
    "                                            # audio_codec='libfdk_aac',\n",
    "                                            codec='mpeg4',\n",
    "                                            bitrate='50000k',\n",
    "                                            threads=7)\n",
    "    return\n",
    "\n",
    "def rename_clip_AddTimestamp (_filename):\n",
    "    timestamp = datetime.datetime.now()\n",
    "    t = str(timestamp.year), str(timestamp.month), str(timestamp.day), str(timestamp.hour), str(timestamp.minute), str(timestamp.second)\n",
    "    return _filename.replace('.MP4', '_' + ''.join(t) + '.MP4')\n",
    "\n",
    "def lst_files(_src_dir, _extension='.mp4'):\n",
    "    lst_files = []\n",
    "    for root, dirs, files in os.walk(_src_dir):\n",
    "        for f in files:\n",
    "            fn, ext = os.path.splitext(f)\n",
    "            if ext.upper()== _extension.upper():\n",
    "                full_name = os.path.join(root, f)\n",
    "                lst_files.append(full_name)\n",
    "                print(full_name)\n",
    "                \n",
    "    return lst_files\n",
    "\n",
    "# myclip = VideoFileClip(init_vid).fx(vfx.colorx, 1).fx(vfx.lum_contrast, 0, 2, 12)\n",
    "# write_clip(myclip)"
   ]
  },
  {
   "cell_type": "code",
   "execution_count": 4,
   "metadata": {},
   "outputs": [
    {
     "name": "stdout",
     "output_type": "stream",
     "text": [
      "/mnt/Double_Dragon/Videography/Archive/20221025/P1140471.MP4\n",
      "/mnt/Double_Dragon/Videography/Archive/20221025/P1140472.MP4\n",
      "/mnt/Double_Dragon/Videography/Archive/20221025/P1140473.MP4\n",
      "/mnt/Double_Dragon/Videography/Archive/20221025/P1140474.MP4\n",
      "/mnt/Double_Dragon/Videography/Archive/20221025/P1140477.MP4\n",
      "/mnt/Double_Dragon/Videography/Archive/20221025/P1140479.MP4\n",
      "/mnt/Double_Dragon/Videography/Archive/20221025/P1140501.MP4\n"
     ]
    }
   ],
   "source": [
    "#Debugging  Mode\n",
    "# videos = ['/mnt/Double_Dragon/Videography/Archive/20221019_Viv24/P1140354.MP4', ]\n",
    "#Production Mode\n",
    "videos =lst_files(DIRECTORY, '.mp4')"
   ]
  },
  {
   "cell_type": "code",
   "execution_count": 5,
   "metadata": {},
   "outputs": [
    {
     "name": "stdout",
     "output_type": "stream",
     "text": [
      "/mnt/Double_Dragon/Videography/Archive/20221025/P1140471.MP4\t rotated\n",
      "/mnt/Double_Dragon/Videography/Archive/20221025/P1140472.MP4\t rotated\n",
      "/mnt/Double_Dragon/Videography/Archive/20221025/P1140473.MP4\t rotated\n",
      "/mnt/Double_Dragon/Videography/Archive/20221025/P1140474.MP4\t rotated\n",
      "/mnt/Double_Dragon/Videography/Archive/20221025/P1140477.MP4\t rotated\n",
      "/mnt/Double_Dragon/Videography/Archive/20221025/P1140479.MP4\t rotated\n",
      "/mnt/Double_Dragon/Videography/Archive/20221025/P1140501.MP4\t rotated\n"
     ]
    }
   ],
   "source": [
    "from math import floor\n",
    "\n",
    "\n",
    "for _video_file in videos:\n",
    "    _video = cv2.VideoCapture(_video_file)\n",
    "    \n",
    "    FPS =_video.get(cv2.CAP_PROP_FPS)\n",
    "    FRAME_NO = int(_video.get(cv2.CAP_PROP_FRAME_COUNT))\n",
    "    FRAME_WIDTH = int(_video.get(cv2.CAP_PROP_FRAME_WIDTH))\n",
    "    FRAME_HEIGHT = int(_video.get(cv2.CAP_PROP_FRAME_HEIGHT))\n",
    "\n",
    "    new_video_file = cv2.VideoWriter(rename_clip_AddTimestamp( _video_file) .replace(\".MP4\", \"_ROT90.MP4\"), cv2.VideoWriter_fourcc(*\"mp4v\"), 60, (FRAME_HEIGHT,FRAME_WIDTH))\n",
    "        \n",
    "    for i in range(FRAME_NO):\n",
    "        ret, frame = _video.read()\n",
    "        new_frame = cv2.resize(frame, \n",
    "                                                        (int(1*frame.shape[1]), int(1*frame.shape[0])),\n",
    "                                                        interpolation = cv2.INTER_AREA)\n",
    "        new_frame = cv2.rotate(new_frame, cv2.ROTATE_90_CLOCKWISE)\n",
    "        # new_frame = cv2.blur(new_frame,(int((i+FPS)%FPS),int((i+FPS)%FPS)))\n",
    "        new_video_file.write(new_frame)\n",
    "        \n",
    "        # Save frame\n",
    "        # if i%3 == 0:\n",
    "        #      cv2.imwrite(\"/mnt/Double_Dragon/Videography/Archive/new_frame_{i}.jpg\".format(i=i), new_frame)\n",
    "\n",
    "    print(_video_file + \"\\t rotated\")\n",
    "    _video.release()\n",
    "    new_video_file.release()"
   ]
  },
  {
   "cell_type": "code",
   "execution_count": null,
   "metadata": {},
   "outputs": [],
   "source": []
  }
 ],
 "metadata": {
  "kernelspec": {
   "display_name": "Python 3.8.10 ('AV_20210619')",
   "language": "python",
   "name": "python3"
  },
  "language_info": {
   "codemirror_mode": {
    "name": "ipython",
    "version": 3
   },
   "file_extension": ".py",
   "mimetype": "text/x-python",
   "name": "python",
   "nbconvert_exporter": "python",
   "pygments_lexer": "ipython3",
   "version": "3.8.10"
  },
  "orig_nbformat": 4,
  "vscode": {
   "interpreter": {
    "hash": "d58c107ef9c844447595edfcbea94b436b4ec96a01c38f5998ee33f2beea4a5e"
   }
  }
 },
 "nbformat": 4,
 "nbformat_minor": 2
}
