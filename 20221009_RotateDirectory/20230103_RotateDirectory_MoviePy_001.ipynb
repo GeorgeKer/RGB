{
 "cells": [
  {
   "cell_type": "code",
   "execution_count": 1,
   "metadata": {},
   "outputs": [],
   "source": [
    "import easygui\n",
    "import os\n",
    "import datetime\n",
    "from matplotlib import pyplot as plt\n",
    "import cv2\n",
    "# from ffpyplayer.player import MediaPlayer\n",
    "# from vidgear.gears import VideoGear\n",
    "# from vidgear.gears import WriteGear\n",
    "from moviepy.editor import *\n",
    "\n",
    "# change_settings({\"FFMPEG_BINARY\": \"ffmpeg\"})"
   ]
  },
  {
   "cell_type": "code",
   "execution_count": 2,
   "metadata": {},
   "outputs": [
    {
     "name": "stdout",
     "output_type": "stream",
     "text": [
      "DIRECTORY  Imported: \n",
      "/home/user7/Desktop\n"
     ]
    }
   ],
   "source": [
    "DIRECTORY :str = easygui.diropenbox(msg='Choose Folder with Video Files to Rotage90', default='/mnt/Double_Dragon/Videography/')\n",
    "print( 'DIRECTORY  Imported: \\n' +  DIRECTORY)"
   ]
  },
  {
   "cell_type": "code",
   "execution_count": 3,
   "metadata": {},
   "outputs": [],
   "source": [
    "def rename_clip_AddTimestamp(_filename):\n",
    "    timestamp = datetime.datetime.now()\n",
    "    t = str(timestamp.year), str(timestamp.month), str(timestamp.day), str(\n",
    "        timestamp.hour), str(timestamp.minute), str(timestamp.second)\n",
    "    return _filename.replace('.MP4', '_' + ''.join(t) + '.MP4')\n",
    "\n",
    "\n",
    "def rename_file_AddDate_bf_extension(_filename: str) -> str:\n",
    "    timestamp = datetime.datetime.now()\n",
    "    # , str(timestamp.hour), str(timestamp.minute), str(timestamp.second)\n",
    "    d = str(timestamp.year) + str(timestamp.month) + str(timestamp.day)\n",
    "\n",
    "    if _filename[-4] == '.':\n",
    "        f, extension = os.path.splitext(_filename)\n",
    "        return f'{_filename[:-4]}_{d}{extension}'\n",
    "    else:\n",
    "        print(f'4th last character in \"{_filename}\" is not a dot \".\"')\n",
    "        return f'{_filename}_{d}'\n",
    "\n",
    "\n",
    "def files_inside_dir_with_spec_extension(src_dir, extension='.mp4', recursive=True) -> list:\n",
    "    \"\"\"List all paths of files with the specific extension\n",
    "\n",
    "    Args:\n",
    "        _src_dir (str): full path of directory\n",
    "        extension (str, optional): files' extension (to search in directory. Defaults to '.mp4'.\n",
    "        recursive (bool, optional): True for recursive search. False for no tree generation. Defaults to True \n",
    "\n",
    "    Returns:\n",
    "        list: paths of files with the extension\n",
    "    \"\"\"\n",
    "\n",
    "    _extension: str = extension\n",
    "    _src_dir: str = src_dir\n",
    "    _recursive: bool = recursive\n",
    "\n",
    "    files_inside_dir_with_the_extension = []\n",
    "    if recursive:\n",
    "        for root, dirs, files in os.walk(_src_dir):\n",
    "            for f in files:\n",
    "                fn, ext = os.path.splitext(f)\n",
    "                if ext.upper() == _extension.upper():\n",
    "                    full_name = os.path.join(root, f)\n",
    "                    files_inside_dir_with_the_extension.append(full_name)\n",
    "                    print(full_name)\n",
    "    else:\n",
    "        for file in os.listdir(_src_dir):\n",
    "            fn, ext = os.path.splitext(file)\n",
    "            if ext.upper() == _extension.upper():\n",
    "                files_inside_dir_with_the_extension.append(file)\n",
    "                print(file)\n",
    "\n",
    "    files_inside_dir_with_the_extension.sort()\n",
    "    return files_inside_dir_with_the_extension"
   ]
  },
  {
   "cell_type": "code",
   "execution_count": 4,
   "metadata": {},
   "outputs": [
    {
     "name": "stdout",
     "output_type": "stream",
     "text": [
      "/home/user7/Desktop/video_2023-08-26_14-21-07.mp4\n",
      "/home/user7/Desktop/127_PANA/P1280247.MP4\n",
      "/home/user7/Desktop/127_PANA/P1270008.MP4\n",
      "/home/user7/Desktop/127_PANA/P1270544.MP4\n",
      "/home/user7/Desktop/127_PANA/P1270309.MP4\n",
      "/home/user7/Desktop/127_PANA/P1260705.MP4\n",
      "/home/user7/Desktop/127_PANA/P1260255.MP4\n",
      "/home/user7/Desktop/127_PANA/P1280298.MP4\n",
      "/home/user7/Desktop/126_PANA/P1260705.MP4\n",
      "/home/user7/Desktop/126_PANA/P1260255.MP4\n"
     ]
    }
   ],
   "source": [
    "videos =files_inside_dir_with_spec_extension(DIRECTORY, extension='.mp4')"
   ]
  },
  {
   "cell_type": "code",
   "execution_count": 5,
   "metadata": {},
   "outputs": [
    {
     "name": "stdout",
     "output_type": "stream",
     "text": [
      "Started: 1 of 10\t/home/user7/Desktop/126_PANA/P1260255.MP4\n",
      "Moviepy - Building video /home/user7/Desktop/126_PANA/P1260255_2023826.MP4.\n",
      "MoviePy - Writing audio in P1260255_2023826TEMP_MPY_wvf_snd.mp3\n"
     ]
    },
    {
     "name": "stderr",
     "output_type": "stream",
     "text": [
      "                                                                    \r"
     ]
    },
    {
     "name": "stdout",
     "output_type": "stream",
     "text": [
      "MoviePy - Done.\n",
      "Moviepy - Writing video /home/user7/Desktop/126_PANA/P1260255_2023826.MP4\n",
      "\n"
     ]
    },
    {
     "name": "stderr",
     "output_type": "stream",
     "text": [
      "                                                                \r"
     ]
    },
    {
     "name": "stdout",
     "output_type": "stream",
     "text": [
      "Moviepy - Done !\n",
      "Moviepy - video ready /home/user7/Desktop/126_PANA/P1260255_2023826.MP4\n",
      "Started: 2 of 10\t/home/user7/Desktop/126_PANA/P1260705.MP4\n",
      "Moviepy - Building video /home/user7/Desktop/126_PANA/P1260705_2023826.MP4.\n",
      "MoviePy - Writing audio in P1260705_2023826TEMP_MPY_wvf_snd.mp3\n"
     ]
    },
    {
     "name": "stderr",
     "output_type": "stream",
     "text": [
      "                                                        \r"
     ]
    },
    {
     "name": "stdout",
     "output_type": "stream",
     "text": [
      "MoviePy - Done.\n",
      "Moviepy - Writing video /home/user7/Desktop/126_PANA/P1260705_2023826.MP4\n",
      "\n"
     ]
    },
    {
     "name": "stderr",
     "output_type": "stream",
     "text": [
      "                                                              \r"
     ]
    },
    {
     "name": "stdout",
     "output_type": "stream",
     "text": [
      "Moviepy - Done !\n",
      "Moviepy - video ready /home/user7/Desktop/126_PANA/P1260705_2023826.MP4\n",
      "Started: 3 of 10\t/home/user7/Desktop/127_PANA/P1260255.MP4\n",
      "Moviepy - Building video /home/user7/Desktop/127_PANA/P1260255_2023826.MP4.\n",
      "MoviePy - Writing audio in P1260255_2023826TEMP_MPY_wvf_snd.mp3\n"
     ]
    },
    {
     "name": "stderr",
     "output_type": "stream",
     "text": [
      "                                                                    \r"
     ]
    },
    {
     "name": "stdout",
     "output_type": "stream",
     "text": [
      "MoviePy - Done.\n",
      "Moviepy - Writing video /home/user7/Desktop/127_PANA/P1260255_2023826.MP4\n",
      "\n"
     ]
    },
    {
     "name": "stderr",
     "output_type": "stream",
     "text": [
      "                                                                \r"
     ]
    },
    {
     "name": "stdout",
     "output_type": "stream",
     "text": [
      "Moviepy - Done !\n",
      "Moviepy - video ready /home/user7/Desktop/127_PANA/P1260255_2023826.MP4\n",
      "Started: 4 of 10\t/home/user7/Desktop/127_PANA/P1260705.MP4\n",
      "Moviepy - Building video /home/user7/Desktop/127_PANA/P1260705_2023826.MP4.\n",
      "MoviePy - Writing audio in P1260705_2023826TEMP_MPY_wvf_snd.mp3\n"
     ]
    },
    {
     "name": "stderr",
     "output_type": "stream",
     "text": [
      "                                                        \r"
     ]
    },
    {
     "name": "stdout",
     "output_type": "stream",
     "text": [
      "MoviePy - Done.\n",
      "Moviepy - Writing video /home/user7/Desktop/127_PANA/P1260705_2023826.MP4\n",
      "\n"
     ]
    },
    {
     "name": "stderr",
     "output_type": "stream",
     "text": [
      "                                                              \r"
     ]
    },
    {
     "name": "stdout",
     "output_type": "stream",
     "text": [
      "Moviepy - Done !\n",
      "Moviepy - video ready /home/user7/Desktop/127_PANA/P1260705_2023826.MP4\n",
      "Started: 5 of 10\t/home/user7/Desktop/127_PANA/P1270008.MP4\n",
      "Moviepy - Building video /home/user7/Desktop/127_PANA/P1270008_2023826.MP4.\n",
      "MoviePy - Writing audio in P1270008_2023826TEMP_MPY_wvf_snd.mp3\n"
     ]
    },
    {
     "name": "stderr",
     "output_type": "stream",
     "text": [
      "                                                        \r"
     ]
    },
    {
     "name": "stdout",
     "output_type": "stream",
     "text": [
      "MoviePy - Done.\n",
      "Moviepy - Writing video /home/user7/Desktop/127_PANA/P1270008_2023826.MP4\n",
      "\n"
     ]
    },
    {
     "name": "stderr",
     "output_type": "stream",
     "text": [
      "                                                              \r"
     ]
    },
    {
     "name": "stdout",
     "output_type": "stream",
     "text": [
      "Moviepy - Done !\n",
      "Moviepy - video ready /home/user7/Desktop/127_PANA/P1270008_2023826.MP4\n",
      "Started: 6 of 10\t/home/user7/Desktop/127_PANA/P1270309.MP4\n",
      "Moviepy - Building video /home/user7/Desktop/127_PANA/P1270309_2023826.MP4.\n",
      "MoviePy - Writing audio in P1270309_2023826TEMP_MPY_wvf_snd.mp3\n"
     ]
    },
    {
     "name": "stderr",
     "output_type": "stream",
     "text": [
      "                                                        \r"
     ]
    },
    {
     "name": "stdout",
     "output_type": "stream",
     "text": [
      "MoviePy - Done.\n",
      "Moviepy - Writing video /home/user7/Desktop/127_PANA/P1270309_2023826.MP4\n",
      "\n"
     ]
    },
    {
     "name": "stderr",
     "output_type": "stream",
     "text": [
      "                                                              \r"
     ]
    },
    {
     "name": "stdout",
     "output_type": "stream",
     "text": [
      "Moviepy - Done !\n",
      "Moviepy - video ready /home/user7/Desktop/127_PANA/P1270309_2023826.MP4\n",
      "Started: 7 of 10\t/home/user7/Desktop/127_PANA/P1270544.MP4\n",
      "Moviepy - Building video /home/user7/Desktop/127_PANA/P1270544_2023826.MP4.\n",
      "MoviePy - Writing audio in P1270544_2023826TEMP_MPY_wvf_snd.mp3\n"
     ]
    },
    {
     "name": "stderr",
     "output_type": "stream",
     "text": [
      "                                                        \r"
     ]
    },
    {
     "name": "stdout",
     "output_type": "stream",
     "text": [
      "MoviePy - Done.\n",
      "Moviepy - Writing video /home/user7/Desktop/127_PANA/P1270544_2023826.MP4\n",
      "\n"
     ]
    },
    {
     "name": "stderr",
     "output_type": "stream",
     "text": [
      "                                                              \r"
     ]
    },
    {
     "name": "stdout",
     "output_type": "stream",
     "text": [
      "Moviepy - Done !\n",
      "Moviepy - video ready /home/user7/Desktop/127_PANA/P1270544_2023826.MP4\n",
      "Started: 8 of 10\t/home/user7/Desktop/127_PANA/P1280247.MP4\n",
      "Moviepy - Building video /home/user7/Desktop/127_PANA/P1280247_2023826.MP4.\n",
      "MoviePy - Writing audio in P1280247_2023826TEMP_MPY_wvf_snd.mp3\n"
     ]
    },
    {
     "name": "stderr",
     "output_type": "stream",
     "text": [
      "                                                       \r"
     ]
    },
    {
     "name": "stdout",
     "output_type": "stream",
     "text": [
      "MoviePy - Done.\n",
      "Moviepy - Writing video /home/user7/Desktop/127_PANA/P1280247_2023826.MP4\n",
      "\n"
     ]
    },
    {
     "name": "stderr",
     "output_type": "stream",
     "text": [
      "                                                              \r"
     ]
    },
    {
     "name": "stdout",
     "output_type": "stream",
     "text": [
      "Moviepy - Done !\n",
      "Moviepy - video ready /home/user7/Desktop/127_PANA/P1280247_2023826.MP4\n",
      "Started: 9 of 10\t/home/user7/Desktop/127_PANA/P1280298.MP4\n",
      "Moviepy - Building video /home/user7/Desktop/127_PANA/P1280298_2023826.MP4.\n",
      "MoviePy - Writing audio in P1280298_2023826TEMP_MPY_wvf_snd.mp3\n"
     ]
    },
    {
     "name": "stderr",
     "output_type": "stream",
     "text": [
      "                                                       \r"
     ]
    },
    {
     "name": "stdout",
     "output_type": "stream",
     "text": [
      "MoviePy - Done.\n",
      "Moviepy - Writing video /home/user7/Desktop/127_PANA/P1280298_2023826.MP4\n",
      "\n"
     ]
    },
    {
     "name": "stderr",
     "output_type": "stream",
     "text": [
      "                                                              \r"
     ]
    },
    {
     "name": "stdout",
     "output_type": "stream",
     "text": [
      "Moviepy - Done !\n",
      "Moviepy - video ready /home/user7/Desktop/127_PANA/P1280298_2023826.MP4\n",
      "Started: 10 of 10\t/home/user7/Desktop/video_2023-08-26_14-21-07.mp4\n",
      "Moviepy - Building video /home/user7/Desktop/video_2023-08-26_14-21-07_2023826.mp4.\n",
      "MoviePy - Writing audio in video_2023-08-26_14-21-07_2023826TEMP_MPY_wvf_snd.mp3\n"
     ]
    },
    {
     "name": "stderr",
     "output_type": "stream",
     "text": [
      "                                                                    \r"
     ]
    },
    {
     "name": "stdout",
     "output_type": "stream",
     "text": [
      "MoviePy - Done.\n",
      "Moviepy - Writing video /home/user7/Desktop/video_2023-08-26_14-21-07_2023826.mp4\n",
      "\n"
     ]
    },
    {
     "name": "stderr",
     "output_type": "stream",
     "text": [
      "                                                               \r"
     ]
    },
    {
     "name": "stdout",
     "output_type": "stream",
     "text": [
      "Moviepy - Done !\n",
      "Moviepy - video ready /home/user7/Desktop/video_2023-08-26_14-21-07_2023826.mp4\n"
     ]
    }
   ],
   "source": [
    "for counter, _video_filename in enumerate(videos):\n",
    "    print(f'Started: {str(counter+1)} of {str(len(videos))}\\t{_video_filename}')\n",
    "    \n",
    "    vid = VideoFileClip(_video_filename)\n",
    "    vid = vid.rotate(-90)\n",
    "    vid.write_videofile(rename_file_AddDate_bf_extension(_video_filename))\n",
    "    vid.close\n",
    "    "
   ]
  },
  {
   "cell_type": "code",
   "execution_count": null,
   "metadata": {},
   "outputs": [],
   "source": []
  }
 ],
 "metadata": {
  "kernelspec": {
   "display_name": "Python 3 (ipykernel)",
   "language": "python",
   "name": "python3"
  },
  "language_info": {
   "codemirror_mode": {
    "name": "ipython",
    "version": 3
   },
   "file_extension": ".py",
   "mimetype": "text/x-python",
   "name": "python",
   "nbconvert_exporter": "python",
   "pygments_lexer": "ipython3",
   "version": "3.10.9"
  },
  "vscode": {
   "interpreter": {
    "hash": "6e3e0c74c42b6acea78eab02c67a051ccb44bb5ef781466f524e76292bc736f0"
   }
  }
 },
 "nbformat": 4,
 "nbformat_minor": 2
}
