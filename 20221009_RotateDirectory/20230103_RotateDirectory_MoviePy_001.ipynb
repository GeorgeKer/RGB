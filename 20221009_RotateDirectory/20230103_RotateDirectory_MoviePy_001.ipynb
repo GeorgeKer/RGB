{
 "cells": [
  {
   "cell_type": "code",
   "execution_count": 1,
   "metadata": {},
   "outputs": [],
   "source": [
    "import easygui\n",
    "import os\n",
    "import datetime\n",
    "from moviepy.editor import *"
   ]
  },
  {
   "cell_type": "code",
   "execution_count": 2,
   "metadata": {},
   "outputs": [
    {
     "name": "stdout",
     "output_type": "stream",
     "text": [
      "DIRECTORY  Imported: \n",
      "/media/user7/Double_Dragon/Videography/My_Archive/20240407_Ta_idia\n"
     ]
    }
   ],
   "source": [
    "DIRECTORY :str = easygui.diropenbox(msg='Choose Folder with Video Files to Rotage90', default='/mnt/Double_Dragon/Videography/')\n",
    "print( 'DIRECTORY  Imported: \\n' +  DIRECTORY)"
   ]
  },
  {
   "cell_type": "code",
   "execution_count": 3,
   "metadata": {},
   "outputs": [],
   "source": [
    "def rename_clip_AddTimestamp(_filename):\n",
    "    timestamp = datetime.datetime.now()\n",
    "    t = str(timestamp.year), str(timestamp.month), str(timestamp.day), str(\n",
    "        timestamp.hour), str(timestamp.minute), str(timestamp.second)\n",
    "    return _filename.replace('.MP4', '_' + ''.join(t) + '.MP4')\n",
    "\n",
    "\n",
    "def rename_file_AddDate_bf_extension(_filename: str) -> str:\n",
    "    timestamp = datetime.datetime.now()\n",
    "    # , str(timestamp.hour), str(timestamp.minute), str(timestamp.second)\n",
    "    d = str(timestamp.year) + str(timestamp.month) + str(timestamp.day)\n",
    "\n",
    "    if _filename[-4] == '.':\n",
    "        f, extension = os.path.splitext(_filename)\n",
    "        return f'{_filename[:-4]}_{d}{extension}'\n",
    "    else:\n",
    "        print(f'4th last character in \"{_filename}\" is not a dot \".\"')\n",
    "        return f'{_filename}_{d}'\n",
    "\n",
    "\n",
    "def files_inside_dir_with_spec_extension(src_dir, extension='.mp4', recursive=True) -> list:\n",
    "    \"\"\"List all paths of files with the specific extension\n",
    "\n",
    "    Args:\n",
    "        _src_dir (str): full path of directory\n",
    "        extension (str, optional): files' extension (to search in directory. Defaults to '.mp4'.\n",
    "        recursive (bool, optional): True for recursive search. False for no tree generation. Defaults to True \n",
    "\n",
    "    Returns:\n",
    "        list: paths of files with the extension\n",
    "    \"\"\"\n",
    "\n",
    "    _extension: str = extension\n",
    "    _src_dir: str = src_dir\n",
    "    _recursive: bool = recursive\n",
    "\n",
    "    files_inside_dir_with_the_extension = []\n",
    "    if recursive:\n",
    "        for root, dirs, files in os.walk(_src_dir):\n",
    "            for f in files:\n",
    "                fn, ext = os.path.splitext(f)\n",
    "                if ext.upper() == _extension.upper():\n",
    "                    full_name = os.path.join(root, f)\n",
    "                    files_inside_dir_with_the_extension.append(full_name)\n",
    "                    print(full_name)\n",
    "    else:\n",
    "        for file in os.listdir(_src_dir):\n",
    "            fn, ext = os.path.splitext(file)\n",
    "            if ext.upper() == _extension.upper():\n",
    "                files_inside_dir_with_the_extension.append(file)\n",
    "                print(file)\n",
    "\n",
    "    files_inside_dir_with_the_extension.sort()\n",
    "    return files_inside_dir_with_the_extension"
   ]
  },
  {
   "cell_type": "code",
   "execution_count": 4,
   "metadata": {},
   "outputs": [
    {
     "name": "stdout",
     "output_type": "stream",
     "text": [
      "/media/user7/Double_Dragon/Videography/My_Archive/20240407_Ta_idia/P1390125.MP4\n",
      "/media/user7/Double_Dragon/Videography/My_Archive/20240407_Ta_idia/P1390213.MP4\n",
      "/media/user7/Double_Dragon/Videography/My_Archive/20240407_Ta_idia/P1390527.MP4\n",
      "/media/user7/Double_Dragon/Videography/My_Archive/20240407_Ta_idia/P1390528.MP4\n",
      "/media/user7/Double_Dragon/Videography/My_Archive/20240407_Ta_idia/P1390532.MP4\n",
      "/media/user7/Double_Dragon/Videography/My_Archive/20240407_Ta_idia/P1390725.MP4\n",
      "/media/user7/Double_Dragon/Videography/My_Archive/20240407_Ta_idia/P1390660.MP4\n",
      "/media/user7/Double_Dragon/Videography/My_Archive/20240407_Ta_idia/P1390661.MP4\n",
      "/media/user7/Double_Dragon/Videography/My_Archive/20240407_Ta_idia/P1390662.MP4\n",
      "/media/user7/Double_Dragon/Videography/My_Archive/20240407_Ta_idia/P1390533.MP4\n",
      "/media/user7/Double_Dragon/Videography/My_Archive/20240407_Ta_idia/P1390534.MP4\n",
      "/media/user7/Double_Dragon/Videography/My_Archive/20240407_Ta_idia/P1390538.MP4\n",
      "/media/user7/Double_Dragon/Videography/My_Archive/20240407_Ta_idia/P1390539.MP4\n",
      "/media/user7/Double_Dragon/Videography/My_Archive/20240407_Ta_idia/P1390540.MP4\n",
      "/media/user7/Double_Dragon/Videography/My_Archive/20240407_Ta_idia/P1390544.MP4\n",
      "/media/user7/Double_Dragon/Videography/My_Archive/20240407_Ta_idia/P1390562.MP4\n",
      "/media/user7/Double_Dragon/Videography/My_Archive/20240407_Ta_idia/P1390563.MP4\n",
      "/media/user7/Double_Dragon/Videography/My_Archive/20240407_Ta_idia/P1390564.MP4\n",
      "/media/user7/Double_Dragon/Videography/My_Archive/20240407_Ta_idia/P1390565.MP4\n",
      "/media/user7/Double_Dragon/Videography/My_Archive/20240407_Ta_idia/P1390566.MP4\n",
      "/media/user7/Double_Dragon/Videography/My_Archive/20240407_Ta_idia/P1390568.MP4\n",
      "/media/user7/Double_Dragon/Videography/My_Archive/20240407_Ta_idia/P1390702.MP4\n",
      "/media/user7/Double_Dragon/Videography/My_Archive/20240407_Ta_idia/P1390703.MP4\n",
      "/media/user7/Double_Dragon/Videography/My_Archive/20240407_Ta_idia/P1390715.MP4\n",
      "/media/user7/Double_Dragon/Videography/My_Archive/20240407_Ta_idia/P1390717.MP4\n",
      "/media/user7/Double_Dragon/Videography/My_Archive/20240407_Ta_idia/P1390719.MP4\n",
      "/media/user7/Double_Dragon/Videography/My_Archive/20240407_Ta_idia/P1390721.MP4\n",
      "/media/user7/Double_Dragon/Videography/My_Archive/20240407_Ta_idia/P1390723.MP4\n",
      "/media/user7/Double_Dragon/Videography/My_Archive/20240407_Ta_idia/P1390726.MP4\n",
      "/media/user7/Double_Dragon/Videography/My_Archive/20240407_Ta_idia/P1390727.MP4\n",
      "/media/user7/Double_Dragon/Videography/My_Archive/20240407_Ta_idia/P1390728.MP4\n",
      "/media/user7/Double_Dragon/Videography/My_Archive/20240407_Ta_idia/P1390729.MP4\n",
      "/media/user7/Double_Dragon/Videography/My_Archive/20240407_Ta_idia/P1390730.MP4\n",
      "/media/user7/Double_Dragon/Videography/My_Archive/20240407_Ta_idia/P1390731.MP4\n",
      "/media/user7/Double_Dragon/Videography/My_Archive/20240407_Ta_idia/P1390732.MP4\n",
      "/media/user7/Double_Dragon/Videography/My_Archive/20240407_Ta_idia/P1390733.MP4\n",
      "/media/user7/Double_Dragon/Videography/My_Archive/20240407_Ta_idia/P1390734.MP4\n",
      "/media/user7/Double_Dragon/Videography/My_Archive/20240407_Ta_idia/P1390735.MP4\n",
      "/media/user7/Double_Dragon/Videography/My_Archive/20240407_Ta_idia/P1390736.MP4\n",
      "/media/user7/Double_Dragon/Videography/My_Archive/20240407_Ta_idia/P1390737.MP4\n",
      "/media/user7/Double_Dragon/Videography/My_Archive/20240407_Ta_idia/P1390738.MP4\n",
      "/media/user7/Double_Dragon/Videography/My_Archive/20240407_Ta_idia/P1390739.MP4\n",
      "/media/user7/Double_Dragon/Videography/My_Archive/20240407_Ta_idia/P1390740.MP4\n",
      "/media/user7/Double_Dragon/Videography/My_Archive/20240407_Ta_idia/P1390741.MP4\n",
      "/media/user7/Double_Dragon/Videography/My_Archive/20240407_Ta_idia/P1390742.MP4\n",
      "/media/user7/Double_Dragon/Videography/My_Archive/20240407_Ta_idia/P1390743.MP4\n",
      "/media/user7/Double_Dragon/Videography/My_Archive/20240407_Ta_idia/P1390744.MP4\n",
      "/media/user7/Double_Dragon/Videography/My_Archive/20240407_Ta_idia/P1390745.MP4\n"
     ]
    }
   ],
   "source": [
    "videos =files_inside_dir_with_spec_extension(DIRECTORY, extension='.mp4')"
   ]
  },
  {
   "cell_type": "code",
   "execution_count": 5,
   "metadata": {},
   "outputs": [
    {
     "name": "stdout",
     "output_type": "stream",
     "text": [
      "Started: 1 of 48\t/media/user7/Double_Dragon/Videography/My_Archive/20240407_Ta_idia/P1390125.MP4\n",
      "Moviepy - Building video /media/user7/Double_Dragon/Videography/My_Archive/20240407_Ta_idia/P1390125_202448.MP4.\n",
      "MoviePy - Writing audio in P1390125_202448TEMP_MPY_wvf_snd.mp3\n"
     ]
    },
    {
     "name": "stderr",
     "output_type": "stream",
     "text": [
      "                                                                    \r"
     ]
    },
    {
     "name": "stdout",
     "output_type": "stream",
     "text": [
      "MoviePy - Done.\n",
      "Moviepy - Writing video /media/user7/Double_Dragon/Videography/My_Archive/20240407_Ta_idia/P1390125_202448.MP4\n",
      "\n"
     ]
    },
    {
     "name": "stderr",
     "output_type": "stream",
     "text": [
      "                                                                \r"
     ]
    },
    {
     "name": "stdout",
     "output_type": "stream",
     "text": [
      "Moviepy - Done !\n",
      "Moviepy - video ready /media/user7/Double_Dragon/Videography/My_Archive/20240407_Ta_idia/P1390125_202448.MP4\n",
      "Started: 2 of 48\t/media/user7/Double_Dragon/Videography/My_Archive/20240407_Ta_idia/P1390213.MP4\n",
      "Moviepy - Building video /media/user7/Double_Dragon/Videography/My_Archive/20240407_Ta_idia/P1390213_202448.MP4.\n",
      "MoviePy - Writing audio in P1390213_202448TEMP_MPY_wvf_snd.mp3\n"
     ]
    },
    {
     "name": "stderr",
     "output_type": "stream",
     "text": [
      "                                                                    \r"
     ]
    },
    {
     "name": "stdout",
     "output_type": "stream",
     "text": [
      "MoviePy - Done.\n",
      "Moviepy - Writing video /media/user7/Double_Dragon/Videography/My_Archive/20240407_Ta_idia/P1390213_202448.MP4\n",
      "\n"
     ]
    },
    {
     "name": "stderr",
     "output_type": "stream",
     "text": [
      "                                                              \r"
     ]
    },
    {
     "name": "stdout",
     "output_type": "stream",
     "text": [
      "Moviepy - Done !\n",
      "Moviepy - video ready /media/user7/Double_Dragon/Videography/My_Archive/20240407_Ta_idia/P1390213_202448.MP4\n",
      "Started: 3 of 48\t/media/user7/Double_Dragon/Videography/My_Archive/20240407_Ta_idia/P1390527.MP4\n",
      "Moviepy - Building video /media/user7/Double_Dragon/Videography/My_Archive/20240407_Ta_idia/P1390527_202448.MP4.\n",
      "MoviePy - Writing audio in P1390527_202448TEMP_MPY_wvf_snd.mp3\n"
     ]
    },
    {
     "name": "stderr",
     "output_type": "stream",
     "text": [
      "                                                                  \r"
     ]
    },
    {
     "name": "stdout",
     "output_type": "stream",
     "text": [
      "MoviePy - Done.\n",
      "Moviepy - Writing video /media/user7/Double_Dragon/Videography/My_Archive/20240407_Ta_idia/P1390527_202448.MP4\n",
      "\n"
     ]
    },
    {
     "name": "stderr",
     "output_type": "stream",
     "text": [
      "                                                              \r"
     ]
    },
    {
     "name": "stdout",
     "output_type": "stream",
     "text": [
      "Moviepy - Done !\n",
      "Moviepy - video ready /media/user7/Double_Dragon/Videography/My_Archive/20240407_Ta_idia/P1390527_202448.MP4\n",
      "Started: 4 of 48\t/media/user7/Double_Dragon/Videography/My_Archive/20240407_Ta_idia/P1390528.MP4\n",
      "Moviepy - Building video /media/user7/Double_Dragon/Videography/My_Archive/20240407_Ta_idia/P1390528_202448.MP4.\n",
      "MoviePy - Writing audio in P1390528_202448TEMP_MPY_wvf_snd.mp3\n"
     ]
    },
    {
     "name": "stderr",
     "output_type": "stream",
     "text": [
      "                                                                   \r"
     ]
    },
    {
     "name": "stdout",
     "output_type": "stream",
     "text": [
      "MoviePy - Done.\n",
      "Moviepy - Writing video /media/user7/Double_Dragon/Videography/My_Archive/20240407_Ta_idia/P1390528_202448.MP4\n",
      "\n"
     ]
    },
    {
     "name": "stderr",
     "output_type": "stream",
     "text": [
      "                                                              \r"
     ]
    },
    {
     "name": "stdout",
     "output_type": "stream",
     "text": [
      "Moviepy - Done !\n",
      "Moviepy - video ready /media/user7/Double_Dragon/Videography/My_Archive/20240407_Ta_idia/P1390528_202448.MP4\n",
      "Started: 5 of 48\t/media/user7/Double_Dragon/Videography/My_Archive/20240407_Ta_idia/P1390532.MP4\n",
      "Moviepy - Building video /media/user7/Double_Dragon/Videography/My_Archive/20240407_Ta_idia/P1390532_202448.MP4.\n",
      "MoviePy - Writing audio in P1390532_202448TEMP_MPY_wvf_snd.mp3\n"
     ]
    },
    {
     "name": "stderr",
     "output_type": "stream",
     "text": [
      "                                                                    \r"
     ]
    },
    {
     "name": "stdout",
     "output_type": "stream",
     "text": [
      "MoviePy - Done.\n",
      "Moviepy - Writing video /media/user7/Double_Dragon/Videography/My_Archive/20240407_Ta_idia/P1390532_202448.MP4\n",
      "\n"
     ]
    },
    {
     "name": "stderr",
     "output_type": "stream",
     "text": [
      "                                                              \r"
     ]
    },
    {
     "name": "stdout",
     "output_type": "stream",
     "text": [
      "Moviepy - Done !\n",
      "Moviepy - video ready /media/user7/Double_Dragon/Videography/My_Archive/20240407_Ta_idia/P1390532_202448.MP4\n",
      "Started: 6 of 48\t/media/user7/Double_Dragon/Videography/My_Archive/20240407_Ta_idia/P1390533.MP4\n",
      "Moviepy - Building video /media/user7/Double_Dragon/Videography/My_Archive/20240407_Ta_idia/P1390533_202448.MP4.\n",
      "MoviePy - Writing audio in P1390533_202448TEMP_MPY_wvf_snd.mp3\n"
     ]
    },
    {
     "name": "stderr",
     "output_type": "stream",
     "text": [
      "                                                                    \r"
     ]
    },
    {
     "name": "stdout",
     "output_type": "stream",
     "text": [
      "MoviePy - Done.\n",
      "Moviepy - Writing video /media/user7/Double_Dragon/Videography/My_Archive/20240407_Ta_idia/P1390533_202448.MP4\n",
      "\n"
     ]
    },
    {
     "name": "stderr",
     "output_type": "stream",
     "text": [
      "                                                              \r"
     ]
    },
    {
     "name": "stdout",
     "output_type": "stream",
     "text": [
      "Moviepy - Done !\n",
      "Moviepy - video ready /media/user7/Double_Dragon/Videography/My_Archive/20240407_Ta_idia/P1390533_202448.MP4\n",
      "Started: 7 of 48\t/media/user7/Double_Dragon/Videography/My_Archive/20240407_Ta_idia/P1390534.MP4\n",
      "Moviepy - Building video /media/user7/Double_Dragon/Videography/My_Archive/20240407_Ta_idia/P1390534_202448.MP4.\n",
      "MoviePy - Writing audio in P1390534_202448TEMP_MPY_wvf_snd.mp3\n"
     ]
    },
    {
     "name": "stderr",
     "output_type": "stream",
     "text": [
      "                                                                  \r"
     ]
    },
    {
     "name": "stdout",
     "output_type": "stream",
     "text": [
      "MoviePy - Done.\n",
      "Moviepy - Writing video /media/user7/Double_Dragon/Videography/My_Archive/20240407_Ta_idia/P1390534_202448.MP4\n",
      "\n"
     ]
    },
    {
     "name": "stderr",
     "output_type": "stream",
     "text": [
      "                                                              \r"
     ]
    },
    {
     "name": "stdout",
     "output_type": "stream",
     "text": [
      "Moviepy - Done !\n",
      "Moviepy - video ready /media/user7/Double_Dragon/Videography/My_Archive/20240407_Ta_idia/P1390534_202448.MP4\n",
      "Started: 8 of 48\t/media/user7/Double_Dragon/Videography/My_Archive/20240407_Ta_idia/P1390538.MP4\n",
      "Moviepy - Building video /media/user7/Double_Dragon/Videography/My_Archive/20240407_Ta_idia/P1390538_202448.MP4.\n",
      "MoviePy - Writing audio in P1390538_202448TEMP_MPY_wvf_snd.mp3\n"
     ]
    },
    {
     "name": "stderr",
     "output_type": "stream",
     "text": [
      "                                                                    \r"
     ]
    },
    {
     "name": "stdout",
     "output_type": "stream",
     "text": [
      "MoviePy - Done.\n",
      "Moviepy - Writing video /media/user7/Double_Dragon/Videography/My_Archive/20240407_Ta_idia/P1390538_202448.MP4\n",
      "\n"
     ]
    },
    {
     "name": "stderr",
     "output_type": "stream",
     "text": [
      "                                                              \r"
     ]
    },
    {
     "name": "stdout",
     "output_type": "stream",
     "text": [
      "Moviepy - Done !\n",
      "Moviepy - video ready /media/user7/Double_Dragon/Videography/My_Archive/20240407_Ta_idia/P1390538_202448.MP4\n",
      "Started: 9 of 48\t/media/user7/Double_Dragon/Videography/My_Archive/20240407_Ta_idia/P1390539.MP4\n",
      "Moviepy - Building video /media/user7/Double_Dragon/Videography/My_Archive/20240407_Ta_idia/P1390539_202448.MP4.\n",
      "MoviePy - Writing audio in P1390539_202448TEMP_MPY_wvf_snd.mp3\n"
     ]
    },
    {
     "name": "stderr",
     "output_type": "stream",
     "text": [
      "                                                                    \r"
     ]
    },
    {
     "name": "stdout",
     "output_type": "stream",
     "text": [
      "MoviePy - Done.\n",
      "Moviepy - Writing video /media/user7/Double_Dragon/Videography/My_Archive/20240407_Ta_idia/P1390539_202448.MP4\n",
      "\n"
     ]
    },
    {
     "name": "stderr",
     "output_type": "stream",
     "text": [
      "                                                              \r"
     ]
    },
    {
     "name": "stdout",
     "output_type": "stream",
     "text": [
      "Moviepy - Done !\n",
      "Moviepy - video ready /media/user7/Double_Dragon/Videography/My_Archive/20240407_Ta_idia/P1390539_202448.MP4\n",
      "Started: 10 of 48\t/media/user7/Double_Dragon/Videography/My_Archive/20240407_Ta_idia/P1390540.MP4\n",
      "Moviepy - Building video /media/user7/Double_Dragon/Videography/My_Archive/20240407_Ta_idia/P1390540_202448.MP4.\n",
      "MoviePy - Writing audio in P1390540_202448TEMP_MPY_wvf_snd.mp3\n"
     ]
    },
    {
     "name": "stderr",
     "output_type": "stream",
     "text": [
      "                                                                  \r"
     ]
    },
    {
     "name": "stdout",
     "output_type": "stream",
     "text": [
      "MoviePy - Done.\n",
      "Moviepy - Writing video /media/user7/Double_Dragon/Videography/My_Archive/20240407_Ta_idia/P1390540_202448.MP4\n",
      "\n"
     ]
    },
    {
     "name": "stderr",
     "output_type": "stream",
     "text": [
      "                                                              \r"
     ]
    },
    {
     "name": "stdout",
     "output_type": "stream",
     "text": [
      "Moviepy - Done !\n",
      "Moviepy - video ready /media/user7/Double_Dragon/Videography/My_Archive/20240407_Ta_idia/P1390540_202448.MP4\n",
      "Started: 11 of 48\t/media/user7/Double_Dragon/Videography/My_Archive/20240407_Ta_idia/P1390544.MP4\n",
      "Moviepy - Building video /media/user7/Double_Dragon/Videography/My_Archive/20240407_Ta_idia/P1390544_202448.MP4.\n",
      "MoviePy - Writing audio in P1390544_202448TEMP_MPY_wvf_snd.mp3\n"
     ]
    },
    {
     "name": "stderr",
     "output_type": "stream",
     "text": [
      "                                                                    \r"
     ]
    },
    {
     "name": "stdout",
     "output_type": "stream",
     "text": [
      "MoviePy - Done.\n",
      "Moviepy - Writing video /media/user7/Double_Dragon/Videography/My_Archive/20240407_Ta_idia/P1390544_202448.MP4\n",
      "\n"
     ]
    },
    {
     "name": "stderr",
     "output_type": "stream",
     "text": [
      "                                                              \r"
     ]
    },
    {
     "name": "stdout",
     "output_type": "stream",
     "text": [
      "Moviepy - Done !\n",
      "Moviepy - video ready /media/user7/Double_Dragon/Videography/My_Archive/20240407_Ta_idia/P1390544_202448.MP4\n",
      "Started: 12 of 48\t/media/user7/Double_Dragon/Videography/My_Archive/20240407_Ta_idia/P1390562.MP4\n",
      "Moviepy - Building video /media/user7/Double_Dragon/Videography/My_Archive/20240407_Ta_idia/P1390562_202448.MP4.\n",
      "MoviePy - Writing audio in P1390562_202448TEMP_MPY_wvf_snd.mp3\n"
     ]
    },
    {
     "name": "stderr",
     "output_type": "stream",
     "text": [
      "                                                                    \r"
     ]
    },
    {
     "name": "stdout",
     "output_type": "stream",
     "text": [
      "MoviePy - Done.\n",
      "Moviepy - Writing video /media/user7/Double_Dragon/Videography/My_Archive/20240407_Ta_idia/P1390562_202448.MP4\n",
      "\n"
     ]
    },
    {
     "name": "stderr",
     "output_type": "stream",
     "text": [
      "                                                              \r"
     ]
    },
    {
     "name": "stdout",
     "output_type": "stream",
     "text": [
      "Moviepy - Done !\n",
      "Moviepy - video ready /media/user7/Double_Dragon/Videography/My_Archive/20240407_Ta_idia/P1390562_202448.MP4\n",
      "Started: 13 of 48\t/media/user7/Double_Dragon/Videography/My_Archive/20240407_Ta_idia/P1390563.MP4\n",
      "Moviepy - Building video /media/user7/Double_Dragon/Videography/My_Archive/20240407_Ta_idia/P1390563_202448.MP4.\n",
      "MoviePy - Writing audio in P1390563_202448TEMP_MPY_wvf_snd.mp3\n"
     ]
    },
    {
     "name": "stderr",
     "output_type": "stream",
     "text": [
      "                                                                    \r"
     ]
    },
    {
     "name": "stdout",
     "output_type": "stream",
     "text": [
      "MoviePy - Done.\n",
      "Moviepy - Writing video /media/user7/Double_Dragon/Videography/My_Archive/20240407_Ta_idia/P1390563_202448.MP4\n",
      "\n"
     ]
    },
    {
     "name": "stderr",
     "output_type": "stream",
     "text": [
      "                                                                \r"
     ]
    },
    {
     "name": "stdout",
     "output_type": "stream",
     "text": [
      "Moviepy - Done !\n",
      "Moviepy - video ready /media/user7/Double_Dragon/Videography/My_Archive/20240407_Ta_idia/P1390563_202448.MP4\n",
      "Started: 14 of 48\t/media/user7/Double_Dragon/Videography/My_Archive/20240407_Ta_idia/P1390564.MP4\n",
      "Moviepy - Building video /media/user7/Double_Dragon/Videography/My_Archive/20240407_Ta_idia/P1390564_202448.MP4.\n",
      "MoviePy - Writing audio in P1390564_202448TEMP_MPY_wvf_snd.mp3\n"
     ]
    },
    {
     "name": "stderr",
     "output_type": "stream",
     "text": [
      "                                                                    \r"
     ]
    },
    {
     "name": "stdout",
     "output_type": "stream",
     "text": [
      "MoviePy - Done.\n",
      "Moviepy - Writing video /media/user7/Double_Dragon/Videography/My_Archive/20240407_Ta_idia/P1390564_202448.MP4\n",
      "\n"
     ]
    },
    {
     "name": "stderr",
     "output_type": "stream",
     "text": [
      "                                                                \r"
     ]
    },
    {
     "name": "stdout",
     "output_type": "stream",
     "text": [
      "Moviepy - Done !\n",
      "Moviepy - video ready /media/user7/Double_Dragon/Videography/My_Archive/20240407_Ta_idia/P1390564_202448.MP4\n",
      "Started: 15 of 48\t/media/user7/Double_Dragon/Videography/My_Archive/20240407_Ta_idia/P1390565.MP4\n",
      "Moviepy - Building video /media/user7/Double_Dragon/Videography/My_Archive/20240407_Ta_idia/P1390565_202448.MP4.\n",
      "MoviePy - Writing audio in P1390565_202448TEMP_MPY_wvf_snd.mp3\n"
     ]
    },
    {
     "name": "stderr",
     "output_type": "stream",
     "text": [
      "                                                                    \r"
     ]
    },
    {
     "name": "stdout",
     "output_type": "stream",
     "text": [
      "MoviePy - Done.\n",
      "Moviepy - Writing video /media/user7/Double_Dragon/Videography/My_Archive/20240407_Ta_idia/P1390565_202448.MP4\n",
      "\n"
     ]
    },
    {
     "name": "stderr",
     "output_type": "stream",
     "text": [
      "                                                                \r"
     ]
    },
    {
     "name": "stdout",
     "output_type": "stream",
     "text": [
      "Moviepy - Done !\n",
      "Moviepy - video ready /media/user7/Double_Dragon/Videography/My_Archive/20240407_Ta_idia/P1390565_202448.MP4\n",
      "Started: 16 of 48\t/media/user7/Double_Dragon/Videography/My_Archive/20240407_Ta_idia/P1390566.MP4\n",
      "Moviepy - Building video /media/user7/Double_Dragon/Videography/My_Archive/20240407_Ta_idia/P1390566_202448.MP4.\n",
      "MoviePy - Writing audio in P1390566_202448TEMP_MPY_wvf_snd.mp3\n"
     ]
    },
    {
     "name": "stderr",
     "output_type": "stream",
     "text": [
      "                                                                      \r"
     ]
    },
    {
     "name": "stdout",
     "output_type": "stream",
     "text": [
      "MoviePy - Done.\n",
      "Moviepy - Writing video /media/user7/Double_Dragon/Videography/My_Archive/20240407_Ta_idia/P1390566_202448.MP4\n",
      "\n"
     ]
    },
    {
     "name": "stderr",
     "output_type": "stream",
     "text": [
      "                                                                \r"
     ]
    },
    {
     "name": "stdout",
     "output_type": "stream",
     "text": [
      "Moviepy - Done !\n",
      "Moviepy - video ready /media/user7/Double_Dragon/Videography/My_Archive/20240407_Ta_idia/P1390566_202448.MP4\n",
      "Started: 17 of 48\t/media/user7/Double_Dragon/Videography/My_Archive/20240407_Ta_idia/P1390568.MP4\n",
      "Moviepy - Building video /media/user7/Double_Dragon/Videography/My_Archive/20240407_Ta_idia/P1390568_202448.MP4.\n",
      "MoviePy - Writing audio in P1390568_202448TEMP_MPY_wvf_snd.mp3\n"
     ]
    },
    {
     "name": "stderr",
     "output_type": "stream",
     "text": [
      "                                                                      \r"
     ]
    },
    {
     "name": "stdout",
     "output_type": "stream",
     "text": [
      "MoviePy - Done.\n",
      "Moviepy - Writing video /media/user7/Double_Dragon/Videography/My_Archive/20240407_Ta_idia/P1390568_202448.MP4\n",
      "\n"
     ]
    },
    {
     "name": "stderr",
     "output_type": "stream",
     "text": [
      "                                                                \r"
     ]
    },
    {
     "name": "stdout",
     "output_type": "stream",
     "text": [
      "Moviepy - Done !\n",
      "Moviepy - video ready /media/user7/Double_Dragon/Videography/My_Archive/20240407_Ta_idia/P1390568_202448.MP4\n",
      "Started: 18 of 48\t/media/user7/Double_Dragon/Videography/My_Archive/20240407_Ta_idia/P1390660.MP4\n",
      "Moviepy - Building video /media/user7/Double_Dragon/Videography/My_Archive/20240407_Ta_idia/P1390660_202448.MP4.\n",
      "MoviePy - Writing audio in P1390660_202448TEMP_MPY_wvf_snd.mp3\n"
     ]
    },
    {
     "name": "stderr",
     "output_type": "stream",
     "text": [
      "                                                                   \r"
     ]
    },
    {
     "name": "stdout",
     "output_type": "stream",
     "text": [
      "MoviePy - Done.\n",
      "Moviepy - Writing video /media/user7/Double_Dragon/Videography/My_Archive/20240407_Ta_idia/P1390660_202448.MP4\n",
      "\n"
     ]
    },
    {
     "name": "stderr",
     "output_type": "stream",
     "text": [
      "                                                                \r"
     ]
    },
    {
     "name": "stdout",
     "output_type": "stream",
     "text": [
      "Moviepy - Done !\n",
      "Moviepy - video ready /media/user7/Double_Dragon/Videography/My_Archive/20240407_Ta_idia/P1390660_202448.MP4\n",
      "Started: 19 of 48\t/media/user7/Double_Dragon/Videography/My_Archive/20240407_Ta_idia/P1390661.MP4\n",
      "Moviepy - Building video /media/user7/Double_Dragon/Videography/My_Archive/20240407_Ta_idia/P1390661_202448.MP4.\n",
      "MoviePy - Writing audio in P1390661_202448TEMP_MPY_wvf_snd.mp3\n"
     ]
    },
    {
     "name": "stderr",
     "output_type": "stream",
     "text": [
      "                                                                    \r"
     ]
    },
    {
     "name": "stdout",
     "output_type": "stream",
     "text": [
      "MoviePy - Done.\n",
      "Moviepy - Writing video /media/user7/Double_Dragon/Videography/My_Archive/20240407_Ta_idia/P1390661_202448.MP4\n",
      "\n"
     ]
    },
    {
     "name": "stderr",
     "output_type": "stream",
     "text": [
      "                                                                \r"
     ]
    },
    {
     "name": "stdout",
     "output_type": "stream",
     "text": [
      "Moviepy - Done !\n",
      "Moviepy - video ready /media/user7/Double_Dragon/Videography/My_Archive/20240407_Ta_idia/P1390661_202448.MP4\n",
      "Started: 20 of 48\t/media/user7/Double_Dragon/Videography/My_Archive/20240407_Ta_idia/P1390662.MP4\n",
      "Moviepy - Building video /media/user7/Double_Dragon/Videography/My_Archive/20240407_Ta_idia/P1390662_202448.MP4.\n",
      "MoviePy - Writing audio in P1390662_202448TEMP_MPY_wvf_snd.mp3\n"
     ]
    },
    {
     "name": "stderr",
     "output_type": "stream",
     "text": [
      "                                                                    \r"
     ]
    },
    {
     "name": "stdout",
     "output_type": "stream",
     "text": [
      "MoviePy - Done.\n",
      "Moviepy - Writing video /media/user7/Double_Dragon/Videography/My_Archive/20240407_Ta_idia/P1390662_202448.MP4\n",
      "\n"
     ]
    },
    {
     "name": "stderr",
     "output_type": "stream",
     "text": [
      "                                                                \r"
     ]
    },
    {
     "name": "stdout",
     "output_type": "stream",
     "text": [
      "Moviepy - Done !\n",
      "Moviepy - video ready /media/user7/Double_Dragon/Videography/My_Archive/20240407_Ta_idia/P1390662_202448.MP4\n",
      "Started: 21 of 48\t/media/user7/Double_Dragon/Videography/My_Archive/20240407_Ta_idia/P1390702.MP4\n",
      "Moviepy - Building video /media/user7/Double_Dragon/Videography/My_Archive/20240407_Ta_idia/P1390702_202448.MP4.\n",
      "MoviePy - Writing audio in P1390702_202448TEMP_MPY_wvf_snd.mp3\n"
     ]
    },
    {
     "name": "stderr",
     "output_type": "stream",
     "text": [
      "                                                                    \r"
     ]
    },
    {
     "name": "stdout",
     "output_type": "stream",
     "text": [
      "MoviePy - Done.\n",
      "Moviepy - Writing video /media/user7/Double_Dragon/Videography/My_Archive/20240407_Ta_idia/P1390702_202448.MP4\n",
      "\n"
     ]
    },
    {
     "name": "stderr",
     "output_type": "stream",
     "text": [
      "                                                              \r"
     ]
    },
    {
     "name": "stdout",
     "output_type": "stream",
     "text": [
      "Moviepy - Done !\n",
      "Moviepy - video ready /media/user7/Double_Dragon/Videography/My_Archive/20240407_Ta_idia/P1390702_202448.MP4\n",
      "Started: 22 of 48\t/media/user7/Double_Dragon/Videography/My_Archive/20240407_Ta_idia/P1390703.MP4\n",
      "Moviepy - Building video /media/user7/Double_Dragon/Videography/My_Archive/20240407_Ta_idia/P1390703_202448.MP4.\n",
      "MoviePy - Writing audio in P1390703_202448TEMP_MPY_wvf_snd.mp3\n"
     ]
    },
    {
     "name": "stderr",
     "output_type": "stream",
     "text": [
      "                                                                    \r"
     ]
    },
    {
     "name": "stdout",
     "output_type": "stream",
     "text": [
      "MoviePy - Done.\n",
      "Moviepy - Writing video /media/user7/Double_Dragon/Videography/My_Archive/20240407_Ta_idia/P1390703_202448.MP4\n",
      "\n"
     ]
    },
    {
     "name": "stderr",
     "output_type": "stream",
     "text": [
      "                                                              \r"
     ]
    },
    {
     "name": "stdout",
     "output_type": "stream",
     "text": [
      "Moviepy - Done !\n",
      "Moviepy - video ready /media/user7/Double_Dragon/Videography/My_Archive/20240407_Ta_idia/P1390703_202448.MP4\n",
      "Started: 23 of 48\t/media/user7/Double_Dragon/Videography/My_Archive/20240407_Ta_idia/P1390715.MP4\n",
      "Moviepy - Building video /media/user7/Double_Dragon/Videography/My_Archive/20240407_Ta_idia/P1390715_202448.MP4.\n",
      "MoviePy - Writing audio in P1390715_202448TEMP_MPY_wvf_snd.mp3\n"
     ]
    },
    {
     "name": "stderr",
     "output_type": "stream",
     "text": [
      "                                                                    \r"
     ]
    },
    {
     "name": "stdout",
     "output_type": "stream",
     "text": [
      "MoviePy - Done.\n",
      "Moviepy - Writing video /media/user7/Double_Dragon/Videography/My_Archive/20240407_Ta_idia/P1390715_202448.MP4\n",
      "\n"
     ]
    },
    {
     "name": "stderr",
     "output_type": "stream",
     "text": [
      "                                                              \r"
     ]
    },
    {
     "name": "stdout",
     "output_type": "stream",
     "text": [
      "Moviepy - Done !\n",
      "Moviepy - video ready /media/user7/Double_Dragon/Videography/My_Archive/20240407_Ta_idia/P1390715_202448.MP4\n",
      "Started: 24 of 48\t/media/user7/Double_Dragon/Videography/My_Archive/20240407_Ta_idia/P1390717.MP4\n",
      "Moviepy - Building video /media/user7/Double_Dragon/Videography/My_Archive/20240407_Ta_idia/P1390717_202448.MP4.\n",
      "MoviePy - Writing audio in P1390717_202448TEMP_MPY_wvf_snd.mp3\n"
     ]
    },
    {
     "name": "stderr",
     "output_type": "stream",
     "text": [
      "                                                                     \r"
     ]
    },
    {
     "name": "stdout",
     "output_type": "stream",
     "text": [
      "MoviePy - Done.\n",
      "Moviepy - Writing video /media/user7/Double_Dragon/Videography/My_Archive/20240407_Ta_idia/P1390717_202448.MP4\n",
      "\n"
     ]
    },
    {
     "name": "stderr",
     "output_type": "stream",
     "text": [
      "                                                                \r"
     ]
    },
    {
     "name": "stdout",
     "output_type": "stream",
     "text": [
      "Moviepy - Done !\n",
      "Moviepy - video ready /media/user7/Double_Dragon/Videography/My_Archive/20240407_Ta_idia/P1390717_202448.MP4\n",
      "Started: 25 of 48\t/media/user7/Double_Dragon/Videography/My_Archive/20240407_Ta_idia/P1390719.MP4\n",
      "Moviepy - Building video /media/user7/Double_Dragon/Videography/My_Archive/20240407_Ta_idia/P1390719_202448.MP4.\n",
      "MoviePy - Writing audio in P1390719_202448TEMP_MPY_wvf_snd.mp3\n"
     ]
    },
    {
     "name": "stderr",
     "output_type": "stream",
     "text": [
      "                                                                      \r"
     ]
    },
    {
     "name": "stdout",
     "output_type": "stream",
     "text": [
      "MoviePy - Done.\n",
      "Moviepy - Writing video /media/user7/Double_Dragon/Videography/My_Archive/20240407_Ta_idia/P1390719_202448.MP4\n",
      "\n"
     ]
    },
    {
     "name": "stderr",
     "output_type": "stream",
     "text": [
      "                                                                \r"
     ]
    },
    {
     "name": "stdout",
     "output_type": "stream",
     "text": [
      "Moviepy - Done !\n",
      "Moviepy - video ready /media/user7/Double_Dragon/Videography/My_Archive/20240407_Ta_idia/P1390719_202448.MP4\n",
      "Started: 26 of 48\t/media/user7/Double_Dragon/Videography/My_Archive/20240407_Ta_idia/P1390721.MP4\n",
      "Moviepy - Building video /media/user7/Double_Dragon/Videography/My_Archive/20240407_Ta_idia/P1390721_202448.MP4.\n",
      "MoviePy - Writing audio in P1390721_202448TEMP_MPY_wvf_snd.mp3\n"
     ]
    },
    {
     "name": "stderr",
     "output_type": "stream",
     "text": [
      "                                                                  \r"
     ]
    },
    {
     "name": "stdout",
     "output_type": "stream",
     "text": [
      "MoviePy - Done.\n",
      "Moviepy - Writing video /media/user7/Double_Dragon/Videography/My_Archive/20240407_Ta_idia/P1390721_202448.MP4\n",
      "\n"
     ]
    },
    {
     "name": "stderr",
     "output_type": "stream",
     "text": [
      "                                                              \r"
     ]
    },
    {
     "name": "stdout",
     "output_type": "stream",
     "text": [
      "Moviepy - Done !\n",
      "Moviepy - video ready /media/user7/Double_Dragon/Videography/My_Archive/20240407_Ta_idia/P1390721_202448.MP4\n",
      "Started: 27 of 48\t/media/user7/Double_Dragon/Videography/My_Archive/20240407_Ta_idia/P1390723.MP4\n",
      "Moviepy - Building video /media/user7/Double_Dragon/Videography/My_Archive/20240407_Ta_idia/P1390723_202448.MP4.\n",
      "MoviePy - Writing audio in P1390723_202448TEMP_MPY_wvf_snd.mp3\n"
     ]
    },
    {
     "name": "stderr",
     "output_type": "stream",
     "text": [
      "                                                                      \r"
     ]
    },
    {
     "name": "stdout",
     "output_type": "stream",
     "text": [
      "MoviePy - Done.\n",
      "Moviepy - Writing video /media/user7/Double_Dragon/Videography/My_Archive/20240407_Ta_idia/P1390723_202448.MP4\n",
      "\n"
     ]
    },
    {
     "name": "stderr",
     "output_type": "stream",
     "text": [
      "                                                                \r"
     ]
    },
    {
     "name": "stdout",
     "output_type": "stream",
     "text": [
      "Moviepy - Done !\n",
      "Moviepy - video ready /media/user7/Double_Dragon/Videography/My_Archive/20240407_Ta_idia/P1390723_202448.MP4\n",
      "Started: 28 of 48\t/media/user7/Double_Dragon/Videography/My_Archive/20240407_Ta_idia/P1390725.MP4\n",
      "Moviepy - Building video /media/user7/Double_Dragon/Videography/My_Archive/20240407_Ta_idia/P1390725_202448.MP4.\n",
      "MoviePy - Writing audio in P1390725_202448TEMP_MPY_wvf_snd.mp3\n"
     ]
    },
    {
     "name": "stderr",
     "output_type": "stream",
     "text": [
      "                                                                      \r"
     ]
    },
    {
     "name": "stdout",
     "output_type": "stream",
     "text": [
      "MoviePy - Done.\n",
      "Moviepy - Writing video /media/user7/Double_Dragon/Videography/My_Archive/20240407_Ta_idia/P1390725_202448.MP4\n",
      "\n"
     ]
    },
    {
     "name": "stderr",
     "output_type": "stream",
     "text": [
      "                                                                \r"
     ]
    },
    {
     "name": "stdout",
     "output_type": "stream",
     "text": [
      "Moviepy - Done !\n",
      "Moviepy - video ready /media/user7/Double_Dragon/Videography/My_Archive/20240407_Ta_idia/P1390725_202448.MP4\n",
      "Started: 29 of 48\t/media/user7/Double_Dragon/Videography/My_Archive/20240407_Ta_idia/P1390726.MP4\n",
      "Moviepy - Building video /media/user7/Double_Dragon/Videography/My_Archive/20240407_Ta_idia/P1390726_202448.MP4.\n",
      "MoviePy - Writing audio in P1390726_202448TEMP_MPY_wvf_snd.mp3\n"
     ]
    },
    {
     "name": "stderr",
     "output_type": "stream",
     "text": [
      "                                                                      \r"
     ]
    },
    {
     "name": "stdout",
     "output_type": "stream",
     "text": [
      "MoviePy - Done.\n",
      "Moviepy - Writing video /media/user7/Double_Dragon/Videography/My_Archive/20240407_Ta_idia/P1390726_202448.MP4\n",
      "\n"
     ]
    },
    {
     "name": "stderr",
     "output_type": "stream",
     "text": [
      "                                                                \r"
     ]
    },
    {
     "name": "stdout",
     "output_type": "stream",
     "text": [
      "Moviepy - Done !\n",
      "Moviepy - video ready /media/user7/Double_Dragon/Videography/My_Archive/20240407_Ta_idia/P1390726_202448.MP4\n",
      "Started: 30 of 48\t/media/user7/Double_Dragon/Videography/My_Archive/20240407_Ta_idia/P1390727.MP4\n",
      "Moviepy - Building video /media/user7/Double_Dragon/Videography/My_Archive/20240407_Ta_idia/P1390727_202448.MP4.\n",
      "MoviePy - Writing audio in P1390727_202448TEMP_MPY_wvf_snd.mp3\n"
     ]
    },
    {
     "name": "stderr",
     "output_type": "stream",
     "text": [
      "                                                                      \r"
     ]
    },
    {
     "name": "stdout",
     "output_type": "stream",
     "text": [
      "MoviePy - Done.\n",
      "Moviepy - Writing video /media/user7/Double_Dragon/Videography/My_Archive/20240407_Ta_idia/P1390727_202448.MP4\n",
      "\n"
     ]
    },
    {
     "name": "stderr",
     "output_type": "stream",
     "text": [
      "                                                                \r"
     ]
    },
    {
     "name": "stdout",
     "output_type": "stream",
     "text": [
      "Moviepy - Done !\n",
      "Moviepy - video ready /media/user7/Double_Dragon/Videography/My_Archive/20240407_Ta_idia/P1390727_202448.MP4\n",
      "Started: 31 of 48\t/media/user7/Double_Dragon/Videography/My_Archive/20240407_Ta_idia/P1390728.MP4\n",
      "Moviepy - Building video /media/user7/Double_Dragon/Videography/My_Archive/20240407_Ta_idia/P1390728_202448.MP4.\n",
      "MoviePy - Writing audio in P1390728_202448TEMP_MPY_wvf_snd.mp3\n"
     ]
    },
    {
     "name": "stderr",
     "output_type": "stream",
     "text": [
      "                                                                      \r"
     ]
    },
    {
     "name": "stdout",
     "output_type": "stream",
     "text": [
      "MoviePy - Done.\n",
      "Moviepy - Writing video /media/user7/Double_Dragon/Videography/My_Archive/20240407_Ta_idia/P1390728_202448.MP4\n",
      "\n"
     ]
    },
    {
     "name": "stderr",
     "output_type": "stream",
     "text": [
      "                                                                \r"
     ]
    },
    {
     "name": "stdout",
     "output_type": "stream",
     "text": [
      "Moviepy - Done !\n",
      "Moviepy - video ready /media/user7/Double_Dragon/Videography/My_Archive/20240407_Ta_idia/P1390728_202448.MP4\n",
      "Started: 32 of 48\t/media/user7/Double_Dragon/Videography/My_Archive/20240407_Ta_idia/P1390729.MP4\n",
      "Moviepy - Building video /media/user7/Double_Dragon/Videography/My_Archive/20240407_Ta_idia/P1390729_202448.MP4.\n",
      "MoviePy - Writing audio in P1390729_202448TEMP_MPY_wvf_snd.mp3\n"
     ]
    },
    {
     "name": "stderr",
     "output_type": "stream",
     "text": [
      "                                                                      \r"
     ]
    },
    {
     "name": "stdout",
     "output_type": "stream",
     "text": [
      "MoviePy - Done.\n",
      "Moviepy - Writing video /media/user7/Double_Dragon/Videography/My_Archive/20240407_Ta_idia/P1390729_202448.MP4\n",
      "\n"
     ]
    },
    {
     "name": "stderr",
     "output_type": "stream",
     "text": [
      "                                                                \r"
     ]
    },
    {
     "name": "stdout",
     "output_type": "stream",
     "text": [
      "Moviepy - Done !\n",
      "Moviepy - video ready /media/user7/Double_Dragon/Videography/My_Archive/20240407_Ta_idia/P1390729_202448.MP4\n",
      "Started: 33 of 48\t/media/user7/Double_Dragon/Videography/My_Archive/20240407_Ta_idia/P1390730.MP4\n",
      "Moviepy - Building video /media/user7/Double_Dragon/Videography/My_Archive/20240407_Ta_idia/P1390730_202448.MP4.\n",
      "MoviePy - Writing audio in P1390730_202448TEMP_MPY_wvf_snd.mp3\n"
     ]
    },
    {
     "name": "stderr",
     "output_type": "stream",
     "text": [
      "                                                                      \r"
     ]
    },
    {
     "name": "stdout",
     "output_type": "stream",
     "text": [
      "MoviePy - Done.\n",
      "Moviepy - Writing video /media/user7/Double_Dragon/Videography/My_Archive/20240407_Ta_idia/P1390730_202448.MP4\n",
      "\n"
     ]
    },
    {
     "name": "stderr",
     "output_type": "stream",
     "text": [
      "                                                                \r"
     ]
    },
    {
     "name": "stdout",
     "output_type": "stream",
     "text": [
      "Moviepy - Done !\n",
      "Moviepy - video ready /media/user7/Double_Dragon/Videography/My_Archive/20240407_Ta_idia/P1390730_202448.MP4\n",
      "Started: 34 of 48\t/media/user7/Double_Dragon/Videography/My_Archive/20240407_Ta_idia/P1390731.MP4\n",
      "Moviepy - Building video /media/user7/Double_Dragon/Videography/My_Archive/20240407_Ta_idia/P1390731_202448.MP4.\n",
      "MoviePy - Writing audio in P1390731_202448TEMP_MPY_wvf_snd.mp3\n"
     ]
    },
    {
     "name": "stderr",
     "output_type": "stream",
     "text": [
      "                                                                      \r"
     ]
    },
    {
     "name": "stdout",
     "output_type": "stream",
     "text": [
      "MoviePy - Done.\n",
      "Moviepy - Writing video /media/user7/Double_Dragon/Videography/My_Archive/20240407_Ta_idia/P1390731_202448.MP4\n",
      "\n"
     ]
    },
    {
     "name": "stderr",
     "output_type": "stream",
     "text": [
      "                                                                \r"
     ]
    },
    {
     "name": "stdout",
     "output_type": "stream",
     "text": [
      "Moviepy - Done !\n",
      "Moviepy - video ready /media/user7/Double_Dragon/Videography/My_Archive/20240407_Ta_idia/P1390731_202448.MP4\n",
      "Started: 35 of 48\t/media/user7/Double_Dragon/Videography/My_Archive/20240407_Ta_idia/P1390732.MP4\n",
      "Moviepy - Building video /media/user7/Double_Dragon/Videography/My_Archive/20240407_Ta_idia/P1390732_202448.MP4.\n",
      "MoviePy - Writing audio in P1390732_202448TEMP_MPY_wvf_snd.mp3\n"
     ]
    },
    {
     "name": "stderr",
     "output_type": "stream",
     "text": [
      "                                                                      \r"
     ]
    },
    {
     "name": "stdout",
     "output_type": "stream",
     "text": [
      "MoviePy - Done.\n",
      "Moviepy - Writing video /media/user7/Double_Dragon/Videography/My_Archive/20240407_Ta_idia/P1390732_202448.MP4\n",
      "\n"
     ]
    },
    {
     "name": "stderr",
     "output_type": "stream",
     "text": [
      "                                                                \r"
     ]
    },
    {
     "name": "stdout",
     "output_type": "stream",
     "text": [
      "Moviepy - Done !\n",
      "Moviepy - video ready /media/user7/Double_Dragon/Videography/My_Archive/20240407_Ta_idia/P1390732_202448.MP4\n",
      "Started: 36 of 48\t/media/user7/Double_Dragon/Videography/My_Archive/20240407_Ta_idia/P1390733.MP4\n",
      "Moviepy - Building video /media/user7/Double_Dragon/Videography/My_Archive/20240407_Ta_idia/P1390733_202448.MP4.\n",
      "MoviePy - Writing audio in P1390733_202448TEMP_MPY_wvf_snd.mp3\n"
     ]
    },
    {
     "name": "stderr",
     "output_type": "stream",
     "text": [
      "                                                                     \r"
     ]
    },
    {
     "name": "stdout",
     "output_type": "stream",
     "text": [
      "MoviePy - Done.\n",
      "Moviepy - Writing video /media/user7/Double_Dragon/Videography/My_Archive/20240407_Ta_idia/P1390733_202448.MP4\n",
      "\n"
     ]
    },
    {
     "name": "stderr",
     "output_type": "stream",
     "text": [
      "                                                                \r"
     ]
    },
    {
     "name": "stdout",
     "output_type": "stream",
     "text": [
      "Moviepy - Done !\n",
      "Moviepy - video ready /media/user7/Double_Dragon/Videography/My_Archive/20240407_Ta_idia/P1390733_202448.MP4\n",
      "Started: 37 of 48\t/media/user7/Double_Dragon/Videography/My_Archive/20240407_Ta_idia/P1390734.MP4\n",
      "Moviepy - Building video /media/user7/Double_Dragon/Videography/My_Archive/20240407_Ta_idia/P1390734_202448.MP4.\n",
      "MoviePy - Writing audio in P1390734_202448TEMP_MPY_wvf_snd.mp3\n"
     ]
    },
    {
     "name": "stderr",
     "output_type": "stream",
     "text": [
      "                                                                      \r"
     ]
    },
    {
     "name": "stdout",
     "output_type": "stream",
     "text": [
      "MoviePy - Done.\n",
      "Moviepy - Writing video /media/user7/Double_Dragon/Videography/My_Archive/20240407_Ta_idia/P1390734_202448.MP4\n",
      "\n"
     ]
    },
    {
     "name": "stderr",
     "output_type": "stream",
     "text": [
      "                                                                \r"
     ]
    },
    {
     "name": "stdout",
     "output_type": "stream",
     "text": [
      "Moviepy - Done !\n",
      "Moviepy - video ready /media/user7/Double_Dragon/Videography/My_Archive/20240407_Ta_idia/P1390734_202448.MP4\n",
      "Started: 38 of 48\t/media/user7/Double_Dragon/Videography/My_Archive/20240407_Ta_idia/P1390735.MP4\n",
      "Moviepy - Building video /media/user7/Double_Dragon/Videography/My_Archive/20240407_Ta_idia/P1390735_202448.MP4.\n",
      "MoviePy - Writing audio in P1390735_202448TEMP_MPY_wvf_snd.mp3\n"
     ]
    },
    {
     "name": "stderr",
     "output_type": "stream",
     "text": [
      "                                                                      \r"
     ]
    },
    {
     "name": "stdout",
     "output_type": "stream",
     "text": [
      "MoviePy - Done.\n",
      "Moviepy - Writing video /media/user7/Double_Dragon/Videography/My_Archive/20240407_Ta_idia/P1390735_202448.MP4\n",
      "\n"
     ]
    },
    {
     "name": "stderr",
     "output_type": "stream",
     "text": [
      "                                                                \r"
     ]
    },
    {
     "name": "stdout",
     "output_type": "stream",
     "text": [
      "Moviepy - Done !\n",
      "Moviepy - video ready /media/user7/Double_Dragon/Videography/My_Archive/20240407_Ta_idia/P1390735_202448.MP4\n",
      "Started: 39 of 48\t/media/user7/Double_Dragon/Videography/My_Archive/20240407_Ta_idia/P1390736.MP4\n",
      "Moviepy - Building video /media/user7/Double_Dragon/Videography/My_Archive/20240407_Ta_idia/P1390736_202448.MP4.\n",
      "MoviePy - Writing audio in P1390736_202448TEMP_MPY_wvf_snd.mp3\n"
     ]
    },
    {
     "name": "stderr",
     "output_type": "stream",
     "text": [
      "                                                                      \r"
     ]
    },
    {
     "name": "stdout",
     "output_type": "stream",
     "text": [
      "MoviePy - Done.\n",
      "Moviepy - Writing video /media/user7/Double_Dragon/Videography/My_Archive/20240407_Ta_idia/P1390736_202448.MP4\n",
      "\n"
     ]
    },
    {
     "name": "stderr",
     "output_type": "stream",
     "text": [
      "                                                                \r"
     ]
    },
    {
     "name": "stdout",
     "output_type": "stream",
     "text": [
      "Moviepy - Done !\n",
      "Moviepy - video ready /media/user7/Double_Dragon/Videography/My_Archive/20240407_Ta_idia/P1390736_202448.MP4\n",
      "Started: 40 of 48\t/media/user7/Double_Dragon/Videography/My_Archive/20240407_Ta_idia/P1390737.MP4\n",
      "Moviepy - Building video /media/user7/Double_Dragon/Videography/My_Archive/20240407_Ta_idia/P1390737_202448.MP4.\n",
      "MoviePy - Writing audio in P1390737_202448TEMP_MPY_wvf_snd.mp3\n"
     ]
    },
    {
     "name": "stderr",
     "output_type": "stream",
     "text": [
      "                                                                      \r"
     ]
    },
    {
     "name": "stdout",
     "output_type": "stream",
     "text": [
      "MoviePy - Done.\n",
      "Moviepy - Writing video /media/user7/Double_Dragon/Videography/My_Archive/20240407_Ta_idia/P1390737_202448.MP4\n",
      "\n"
     ]
    },
    {
     "name": "stderr",
     "output_type": "stream",
     "text": [
      "                                                                \r"
     ]
    },
    {
     "name": "stdout",
     "output_type": "stream",
     "text": [
      "Moviepy - Done !\n",
      "Moviepy - video ready /media/user7/Double_Dragon/Videography/My_Archive/20240407_Ta_idia/P1390737_202448.MP4\n",
      "Started: 41 of 48\t/media/user7/Double_Dragon/Videography/My_Archive/20240407_Ta_idia/P1390738.MP4\n",
      "Moviepy - Building video /media/user7/Double_Dragon/Videography/My_Archive/20240407_Ta_idia/P1390738_202448.MP4.\n",
      "MoviePy - Writing audio in P1390738_202448TEMP_MPY_wvf_snd.mp3\n"
     ]
    },
    {
     "name": "stderr",
     "output_type": "stream",
     "text": [
      "                                                                      \r"
     ]
    },
    {
     "name": "stdout",
     "output_type": "stream",
     "text": [
      "MoviePy - Done.\n",
      "Moviepy - Writing video /media/user7/Double_Dragon/Videography/My_Archive/20240407_Ta_idia/P1390738_202448.MP4\n",
      "\n"
     ]
    },
    {
     "name": "stderr",
     "output_type": "stream",
     "text": [
      "                                                                \r"
     ]
    },
    {
     "name": "stdout",
     "output_type": "stream",
     "text": [
      "Moviepy - Done !\n",
      "Moviepy - video ready /media/user7/Double_Dragon/Videography/My_Archive/20240407_Ta_idia/P1390738_202448.MP4\n",
      "Started: 42 of 48\t/media/user7/Double_Dragon/Videography/My_Archive/20240407_Ta_idia/P1390739.MP4\n",
      "Moviepy - Building video /media/user7/Double_Dragon/Videography/My_Archive/20240407_Ta_idia/P1390739_202448.MP4.\n",
      "MoviePy - Writing audio in P1390739_202448TEMP_MPY_wvf_snd.mp3\n"
     ]
    },
    {
     "name": "stderr",
     "output_type": "stream",
     "text": [
      "                                                                      \r"
     ]
    },
    {
     "name": "stdout",
     "output_type": "stream",
     "text": [
      "MoviePy - Done.\n",
      "Moviepy - Writing video /media/user7/Double_Dragon/Videography/My_Archive/20240407_Ta_idia/P1390739_202448.MP4\n",
      "\n"
     ]
    },
    {
     "name": "stderr",
     "output_type": "stream",
     "text": [
      "                                                                \r"
     ]
    },
    {
     "name": "stdout",
     "output_type": "stream",
     "text": [
      "Moviepy - Done !\n",
      "Moviepy - video ready /media/user7/Double_Dragon/Videography/My_Archive/20240407_Ta_idia/P1390739_202448.MP4\n",
      "Started: 43 of 48\t/media/user7/Double_Dragon/Videography/My_Archive/20240407_Ta_idia/P1390740.MP4\n",
      "Moviepy - Building video /media/user7/Double_Dragon/Videography/My_Archive/20240407_Ta_idia/P1390740_202448.MP4.\n",
      "MoviePy - Writing audio in P1390740_202448TEMP_MPY_wvf_snd.mp3\n"
     ]
    },
    {
     "name": "stderr",
     "output_type": "stream",
     "text": [
      "                                                                      \r"
     ]
    },
    {
     "name": "stdout",
     "output_type": "stream",
     "text": [
      "MoviePy - Done.\n",
      "Moviepy - Writing video /media/user7/Double_Dragon/Videography/My_Archive/20240407_Ta_idia/P1390740_202448.MP4\n",
      "\n"
     ]
    },
    {
     "name": "stderr",
     "output_type": "stream",
     "text": [
      "                                                                \r"
     ]
    },
    {
     "name": "stdout",
     "output_type": "stream",
     "text": [
      "Moviepy - Done !\n",
      "Moviepy - video ready /media/user7/Double_Dragon/Videography/My_Archive/20240407_Ta_idia/P1390740_202448.MP4\n",
      "Started: 44 of 48\t/media/user7/Double_Dragon/Videography/My_Archive/20240407_Ta_idia/P1390741.MP4\n",
      "Moviepy - Building video /media/user7/Double_Dragon/Videography/My_Archive/20240407_Ta_idia/P1390741_202448.MP4.\n",
      "MoviePy - Writing audio in P1390741_202448TEMP_MPY_wvf_snd.mp3\n"
     ]
    },
    {
     "name": "stderr",
     "output_type": "stream",
     "text": [
      "                                                                      \r"
     ]
    },
    {
     "name": "stdout",
     "output_type": "stream",
     "text": [
      "MoviePy - Done.\n",
      "Moviepy - Writing video /media/user7/Double_Dragon/Videography/My_Archive/20240407_Ta_idia/P1390741_202448.MP4\n",
      "\n"
     ]
    },
    {
     "name": "stderr",
     "output_type": "stream",
     "text": [
      "                                                                \r"
     ]
    },
    {
     "name": "stdout",
     "output_type": "stream",
     "text": [
      "Moviepy - Done !\n",
      "Moviepy - video ready /media/user7/Double_Dragon/Videography/My_Archive/20240407_Ta_idia/P1390741_202448.MP4\n",
      "Started: 45 of 48\t/media/user7/Double_Dragon/Videography/My_Archive/20240407_Ta_idia/P1390742.MP4\n",
      "Moviepy - Building video /media/user7/Double_Dragon/Videography/My_Archive/20240407_Ta_idia/P1390742_202448.MP4.\n",
      "MoviePy - Writing audio in P1390742_202448TEMP_MPY_wvf_snd.mp3\n"
     ]
    },
    {
     "name": "stderr",
     "output_type": "stream",
     "text": [
      "                                                                      \r"
     ]
    },
    {
     "name": "stdout",
     "output_type": "stream",
     "text": [
      "MoviePy - Done.\n",
      "Moviepy - Writing video /media/user7/Double_Dragon/Videography/My_Archive/20240407_Ta_idia/P1390742_202448.MP4\n",
      "\n"
     ]
    },
    {
     "name": "stderr",
     "output_type": "stream",
     "text": [
      "                                                                \r"
     ]
    },
    {
     "name": "stdout",
     "output_type": "stream",
     "text": [
      "Moviepy - Done !\n",
      "Moviepy - video ready /media/user7/Double_Dragon/Videography/My_Archive/20240407_Ta_idia/P1390742_202448.MP4\n",
      "Started: 46 of 48\t/media/user7/Double_Dragon/Videography/My_Archive/20240407_Ta_idia/P1390743.MP4\n",
      "Moviepy - Building video /media/user7/Double_Dragon/Videography/My_Archive/20240407_Ta_idia/P1390743_202448.MP4.\n",
      "MoviePy - Writing audio in P1390743_202448TEMP_MPY_wvf_snd.mp3\n"
     ]
    },
    {
     "name": "stderr",
     "output_type": "stream",
     "text": [
      "                                                                      \r"
     ]
    },
    {
     "name": "stdout",
     "output_type": "stream",
     "text": [
      "MoviePy - Done.\n",
      "Moviepy - Writing video /media/user7/Double_Dragon/Videography/My_Archive/20240407_Ta_idia/P1390743_202448.MP4\n",
      "\n"
     ]
    },
    {
     "name": "stderr",
     "output_type": "stream",
     "text": [
      "                                                                \r"
     ]
    },
    {
     "name": "stdout",
     "output_type": "stream",
     "text": [
      "Moviepy - Done !\n",
      "Moviepy - video ready /media/user7/Double_Dragon/Videography/My_Archive/20240407_Ta_idia/P1390743_202448.MP4\n",
      "Started: 47 of 48\t/media/user7/Double_Dragon/Videography/My_Archive/20240407_Ta_idia/P1390744.MP4\n",
      "Moviepy - Building video /media/user7/Double_Dragon/Videography/My_Archive/20240407_Ta_idia/P1390744_202448.MP4.\n",
      "MoviePy - Writing audio in P1390744_202448TEMP_MPY_wvf_snd.mp3\n"
     ]
    },
    {
     "name": "stderr",
     "output_type": "stream",
     "text": [
      "                                                                      \r"
     ]
    },
    {
     "name": "stdout",
     "output_type": "stream",
     "text": [
      "MoviePy - Done.\n",
      "Moviepy - Writing video /media/user7/Double_Dragon/Videography/My_Archive/20240407_Ta_idia/P1390744_202448.MP4\n",
      "\n"
     ]
    },
    {
     "name": "stderr",
     "output_type": "stream",
     "text": [
      "                                                                \r"
     ]
    },
    {
     "name": "stdout",
     "output_type": "stream",
     "text": [
      "Moviepy - Done !\n",
      "Moviepy - video ready /media/user7/Double_Dragon/Videography/My_Archive/20240407_Ta_idia/P1390744_202448.MP4\n",
      "Started: 48 of 48\t/media/user7/Double_Dragon/Videography/My_Archive/20240407_Ta_idia/P1390745.MP4\n",
      "Moviepy - Building video /media/user7/Double_Dragon/Videography/My_Archive/20240407_Ta_idia/P1390745_202448.MP4.\n",
      "MoviePy - Writing audio in P1390745_202448TEMP_MPY_wvf_snd.mp3\n"
     ]
    },
    {
     "name": "stderr",
     "output_type": "stream",
     "text": [
      "                                                                      \r"
     ]
    },
    {
     "name": "stdout",
     "output_type": "stream",
     "text": [
      "MoviePy - Done.\n",
      "Moviepy - Writing video /media/user7/Double_Dragon/Videography/My_Archive/20240407_Ta_idia/P1390745_202448.MP4\n",
      "\n"
     ]
    },
    {
     "name": "stderr",
     "output_type": "stream",
     "text": [
      "                                                                \r"
     ]
    },
    {
     "name": "stdout",
     "output_type": "stream",
     "text": [
      "Moviepy - Done !\n",
      "Moviepy - video ready /media/user7/Double_Dragon/Videography/My_Archive/20240407_Ta_idia/P1390745_202448.MP4\n"
     ]
    }
   ],
   "source": [
    "for counter, _video_filename in enumerate(videos):\n",
    "    print(f'Started: {str(counter+1)} of {str(len(videos))}\\t{_video_filename}')\n",
    "    \n",
    "    vid = VideoFileClip(_video_filename)\n",
    "    vid = vid.rotate(-90)\n",
    "    vid.write_videofile(rename_file_AddDate_bf_extension(_video_filename))\n",
    "    vid.close\n",
    "    "
   ]
  },
  {
   "cell_type": "code",
   "execution_count": null,
   "metadata": {},
   "outputs": [],
   "source": []
  }
 ],
 "metadata": {
  "kernelspec": {
   "display_name": "Python 3 (ipykernel)",
   "language": "python",
   "name": "python3"
  },
  "language_info": {
   "codemirror_mode": {
    "name": "ipython",
    "version": 3
   },
   "file_extension": ".py",
   "mimetype": "text/x-python",
   "name": "python",
   "nbconvert_exporter": "python",
   "pygments_lexer": "ipython3",
   "version": "3.10.9"
  },
  "vscode": {
   "interpreter": {
    "hash": "6e3e0c74c42b6acea78eab02c67a051ccb44bb5ef781466f524e76292bc736f0"
   }
  }
 },
 "nbformat": 4,
 "nbformat_minor": 2
}
