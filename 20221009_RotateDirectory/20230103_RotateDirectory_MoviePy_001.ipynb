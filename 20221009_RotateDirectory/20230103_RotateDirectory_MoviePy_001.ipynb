{
 "cells": [
  {
   "cell_type": "code",
   "execution_count": 1,
   "metadata": {},
   "outputs": [],
   "source": [
    "import easygui\n",
    "import os\n",
    "import datetime\n",
    "from matplotlib import pyplot as plt\n",
    "import cv2\n",
    "# from ffpyplayer.player import MediaPlayer\n",
    "# from vidgear.gears import VideoGear\n",
    "# from vidgear.gears import WriteGear\n",
    "from moviepy.editor import *\n",
    "\n",
    "# change_settings({\"FFMPEG_BINARY\": \"ffmpeg\"})"
   ]
  },
  {
   "cell_type": "code",
   "execution_count": 10,
   "metadata": {},
   "outputs": [
    {
     "name": "stdout",
     "output_type": "stream",
     "text": [
      "DIRECTORY  Imported: \n",
      "/media/user7/Double_Dragon/Videography/My_Archive/20231118_Σπίτι_Κεχριές\n"
     ]
    }
   ],
   "source": [
    "DIRECTORY :str = easygui.diropenbox(msg='Choose Folder with Video Files to Rotage90', default='/mnt/Double_Dragon/Videography/')\n",
    "print( 'DIRECTORY  Imported: \\n' +  DIRECTORY)"
   ]
  },
  {
   "cell_type": "code",
   "execution_count": 3,
   "metadata": {},
   "outputs": [],
   "source": [
    "def rename_clip_AddTimestamp(_filename):\n",
    "    timestamp = datetime.datetime.now()\n",
    "    t = str(timestamp.year), str(timestamp.month), str(timestamp.day), str(\n",
    "        timestamp.hour), str(timestamp.minute), str(timestamp.second)\n",
    "    return _filename.replace('.MP4', '_' + ''.join(t) + '.MP4')\n",
    "\n",
    "\n",
    "def rename_file_AddDate_bf_extension(_filename: str) -> str:\n",
    "    timestamp = datetime.datetime.now()\n",
    "    # , str(timestamp.hour), str(timestamp.minute), str(timestamp.second)\n",
    "    d = str(timestamp.year) + str(timestamp.month) + str(timestamp.day)\n",
    "\n",
    "    if _filename[-4] == '.':\n",
    "        f, extension = os.path.splitext(_filename)\n",
    "        return f'{_filename[:-4]}_{d}{extension}'\n",
    "    else:\n",
    "        print(f'4th last character in \"{_filename}\" is not a dot \".\"')\n",
    "        return f'{_filename}_{d}'\n",
    "\n",
    "\n",
    "def files_inside_dir_with_spec_extension(src_dir, extension='.mp4', recursive=True) -> list:\n",
    "    \"\"\"List all paths of files with the specific extension\n",
    "\n",
    "    Args:\n",
    "        _src_dir (str): full path of directory\n",
    "        extension (str, optional): files' extension (to search in directory. Defaults to '.mp4'.\n",
    "        recursive (bool, optional): True for recursive search. False for no tree generation. Defaults to True \n",
    "\n",
    "    Returns:\n",
    "        list: paths of files with the extension\n",
    "    \"\"\"\n",
    "\n",
    "    _extension: str = extension\n",
    "    _src_dir: str = src_dir\n",
    "    _recursive: bool = recursive\n",
    "\n",
    "    files_inside_dir_with_the_extension = []\n",
    "    if recursive:\n",
    "        for root, dirs, files in os.walk(_src_dir):\n",
    "            for f in files:\n",
    "                fn, ext = os.path.splitext(f)\n",
    "                if ext.upper() == _extension.upper():\n",
    "                    full_name = os.path.join(root, f)\n",
    "                    files_inside_dir_with_the_extension.append(full_name)\n",
    "                    print(full_name)\n",
    "    else:\n",
    "        for file in os.listdir(_src_dir):\n",
    "            fn, ext = os.path.splitext(file)\n",
    "            if ext.upper() == _extension.upper():\n",
    "                files_inside_dir_with_the_extension.append(file)\n",
    "                print(file)\n",
    "\n",
    "    files_inside_dir_with_the_extension.sort()\n",
    "    return files_inside_dir_with_the_extension"
   ]
  },
  {
   "cell_type": "code",
   "execution_count": 11,
   "metadata": {},
   "outputs": [
    {
     "name": "stdout",
     "output_type": "stream",
     "text": [
      "/media/user7/Double_Dragon/Videography/My_Archive/20231118_Σπίτι_Κεχριές/P1340434.MP4\n",
      "/media/user7/Double_Dragon/Videography/My_Archive/20231118_Σπίτι_Κεχριές/P1340435.MP4\n",
      "/media/user7/Double_Dragon/Videography/My_Archive/20231118_Σπίτι_Κεχριές/P1340438.MP4\n",
      "/media/user7/Double_Dragon/Videography/My_Archive/20231118_Σπίτι_Κεχριές/P1340439.MP4\n",
      "/media/user7/Double_Dragon/Videography/My_Archive/20231118_Σπίτι_Κεχριές/P1340440.MP4\n",
      "/media/user7/Double_Dragon/Videography/My_Archive/20231118_Σπίτι_Κεχριές/P1340441.MP4\n",
      "/media/user7/Double_Dragon/Videography/My_Archive/20231118_Σπίτι_Κεχριές/P1340442.MP4\n",
      "/media/user7/Double_Dragon/Videography/My_Archive/20231118_Σπίτι_Κεχριές/P1340443.MP4\n",
      "/media/user7/Double_Dragon/Videography/My_Archive/20231118_Σπίτι_Κεχριές/P1340445.MP4\n",
      "/media/user7/Double_Dragon/Videography/My_Archive/20231118_Σπίτι_Κεχριές/P1340446.MP4\n",
      "/media/user7/Double_Dragon/Videography/My_Archive/20231118_Σπίτι_Κεχριές/P1340482.MP4\n",
      "/media/user7/Double_Dragon/Videography/My_Archive/20231118_Σπίτι_Κεχριές/P1340436.MP4\n",
      "/media/user7/Double_Dragon/Videography/My_Archive/20231118_Σπίτι_Κεχριές/P1340493.MP4\n",
      "/media/user7/Double_Dragon/Videography/My_Archive/20231118_Σπίτι_Κεχριές/P1340494.MP4\n",
      "/media/user7/Double_Dragon/Videography/My_Archive/20231118_Σπίτι_Κεχριές/P1340496.MP4\n",
      "/media/user7/Double_Dragon/Videography/My_Archive/20231118_Σπίτι_Κεχριές/P1340497.MP4\n",
      "/media/user7/Double_Dragon/Videography/My_Archive/20231118_Σπίτι_Κεχριές/P1340498.MP4\n",
      "/media/user7/Double_Dragon/Videography/My_Archive/20231118_Σπίτι_Κεχριές/P1340502.MP4\n",
      "/media/user7/Double_Dragon/Videography/My_Archive/20231118_Σπίτι_Κεχριές/P1340503.MP4\n",
      "/media/user7/Double_Dragon/Videography/My_Archive/20231118_Σπίτι_Κεχριές/P1340506.MP4\n",
      "/media/user7/Double_Dragon/Videography/My_Archive/20231118_Σπίτι_Κεχριές/P1340624.MP4\n",
      "/media/user7/Double_Dragon/Videography/My_Archive/20231118_Σπίτι_Κεχριές/P1340625.MP4\n",
      "/media/user7/Double_Dragon/Videography/My_Archive/20231118_Σπίτι_Κεχριές/P1340626.MP4\n"
     ]
    }
   ],
   "source": [
    "videos =files_inside_dir_with_spec_extension(DIRECTORY, extension='.mp4')"
   ]
  },
  {
   "cell_type": "code",
   "execution_count": 12,
   "metadata": {},
   "outputs": [
    {
     "name": "stdout",
     "output_type": "stream",
     "text": [
      "Started: 1 of 23\t/media/user7/Double_Dragon/Videography/My_Archive/20231118_Σπίτι_Κεχριές/P1340434.MP4\n",
      "Moviepy - Building video /media/user7/Double_Dragon/Videography/My_Archive/20231118_Σπίτι_Κεχριές/P1340434_20231119.MP4.\n",
      "MoviePy - Writing audio in P1340434_20231119TEMP_MPY_wvf_snd.mp3\n"
     ]
    },
    {
     "name": "stderr",
     "output_type": "stream",
     "text": [
      "                                                                   \r"
     ]
    },
    {
     "name": "stdout",
     "output_type": "stream",
     "text": [
      "MoviePy - Done.\n",
      "Moviepy - Writing video /media/user7/Double_Dragon/Videography/My_Archive/20231118_Σπίτι_Κεχριές/P1340434_20231119.MP4\n",
      "\n"
     ]
    },
    {
     "name": "stderr",
     "output_type": "stream",
     "text": [
      "                                                              \r"
     ]
    },
    {
     "name": "stdout",
     "output_type": "stream",
     "text": [
      "Moviepy - Done !\n",
      "Moviepy - video ready /media/user7/Double_Dragon/Videography/My_Archive/20231118_Σπίτι_Κεχριές/P1340434_20231119.MP4\n",
      "Started: 2 of 23\t/media/user7/Double_Dragon/Videography/My_Archive/20231118_Σπίτι_Κεχριές/P1340435.MP4\n",
      "Moviepy - Building video /media/user7/Double_Dragon/Videography/My_Archive/20231118_Σπίτι_Κεχριές/P1340435_20231119.MP4.\n",
      "MoviePy - Writing audio in P1340435_20231119TEMP_MPY_wvf_snd.mp3\n"
     ]
    },
    {
     "name": "stderr",
     "output_type": "stream",
     "text": [
      "                                                                   \r"
     ]
    },
    {
     "name": "stdout",
     "output_type": "stream",
     "text": [
      "MoviePy - Done.\n",
      "Moviepy - Writing video /media/user7/Double_Dragon/Videography/My_Archive/20231118_Σπίτι_Κεχριές/P1340435_20231119.MP4\n",
      "\n"
     ]
    },
    {
     "name": "stderr",
     "output_type": "stream",
     "text": [
      "                                                              \r"
     ]
    },
    {
     "name": "stdout",
     "output_type": "stream",
     "text": [
      "Moviepy - Done !\n",
      "Moviepy - video ready /media/user7/Double_Dragon/Videography/My_Archive/20231118_Σπίτι_Κεχριές/P1340435_20231119.MP4\n",
      "Started: 3 of 23\t/media/user7/Double_Dragon/Videography/My_Archive/20231118_Σπίτι_Κεχριές/P1340436.MP4\n",
      "Moviepy - Building video /media/user7/Double_Dragon/Videography/My_Archive/20231118_Σπίτι_Κεχριές/P1340436_20231119.MP4.\n",
      "MoviePy - Writing audio in P1340436_20231119TEMP_MPY_wvf_snd.mp3\n"
     ]
    },
    {
     "name": "stderr",
     "output_type": "stream",
     "text": [
      "                                                                   \r"
     ]
    },
    {
     "name": "stdout",
     "output_type": "stream",
     "text": [
      "MoviePy - Done.\n",
      "Moviepy - Writing video /media/user7/Double_Dragon/Videography/My_Archive/20231118_Σπίτι_Κεχριές/P1340436_20231119.MP4\n",
      "\n"
     ]
    },
    {
     "name": "stderr",
     "output_type": "stream",
     "text": [
      "                                                              \r"
     ]
    },
    {
     "name": "stdout",
     "output_type": "stream",
     "text": [
      "Moviepy - Done !\n",
      "Moviepy - video ready /media/user7/Double_Dragon/Videography/My_Archive/20231118_Σπίτι_Κεχριές/P1340436_20231119.MP4\n",
      "Started: 4 of 23\t/media/user7/Double_Dragon/Videography/My_Archive/20231118_Σπίτι_Κεχριές/P1340438.MP4\n",
      "Moviepy - Building video /media/user7/Double_Dragon/Videography/My_Archive/20231118_Σπίτι_Κεχριές/P1340438_20231119.MP4.\n",
      "MoviePy - Writing audio in P1340438_20231119TEMP_MPY_wvf_snd.mp3\n"
     ]
    },
    {
     "name": "stderr",
     "output_type": "stream",
     "text": [
      "                                                       \r"
     ]
    },
    {
     "name": "stdout",
     "output_type": "stream",
     "text": [
      "MoviePy - Done.\n",
      "Moviepy - Writing video /media/user7/Double_Dragon/Videography/My_Archive/20231118_Σπίτι_Κεχριές/P1340438_20231119.MP4\n",
      "\n"
     ]
    },
    {
     "name": "stderr",
     "output_type": "stream",
     "text": [
      "                                                              \r"
     ]
    },
    {
     "name": "stdout",
     "output_type": "stream",
     "text": [
      "Moviepy - Done !\n",
      "Moviepy - video ready /media/user7/Double_Dragon/Videography/My_Archive/20231118_Σπίτι_Κεχριές/P1340438_20231119.MP4\n",
      "Started: 5 of 23\t/media/user7/Double_Dragon/Videography/My_Archive/20231118_Σπίτι_Κεχριές/P1340439.MP4\n",
      "Moviepy - Building video /media/user7/Double_Dragon/Videography/My_Archive/20231118_Σπίτι_Κεχριές/P1340439_20231119.MP4.\n",
      "MoviePy - Writing audio in P1340439_20231119TEMP_MPY_wvf_snd.mp3\n"
     ]
    },
    {
     "name": "stderr",
     "output_type": "stream",
     "text": [
      "                                                       \r"
     ]
    },
    {
     "name": "stdout",
     "output_type": "stream",
     "text": [
      "MoviePy - Done.\n",
      "Moviepy - Writing video /media/user7/Double_Dragon/Videography/My_Archive/20231118_Σπίτι_Κεχριές/P1340439_20231119.MP4\n",
      "\n"
     ]
    },
    {
     "name": "stderr",
     "output_type": "stream",
     "text": [
      "                                                              \r"
     ]
    },
    {
     "name": "stdout",
     "output_type": "stream",
     "text": [
      "Moviepy - Done !\n",
      "Moviepy - video ready /media/user7/Double_Dragon/Videography/My_Archive/20231118_Σπίτι_Κεχριές/P1340439_20231119.MP4\n",
      "Started: 6 of 23\t/media/user7/Double_Dragon/Videography/My_Archive/20231118_Σπίτι_Κεχριές/P1340440.MP4\n",
      "Moviepy - Building video /media/user7/Double_Dragon/Videography/My_Archive/20231118_Σπίτι_Κεχριές/P1340440_20231119.MP4.\n",
      "MoviePy - Writing audio in P1340440_20231119TEMP_MPY_wvf_snd.mp3\n"
     ]
    },
    {
     "name": "stderr",
     "output_type": "stream",
     "text": [
      "                                                       \r"
     ]
    },
    {
     "name": "stdout",
     "output_type": "stream",
     "text": [
      "MoviePy - Done.\n",
      "Moviepy - Writing video /media/user7/Double_Dragon/Videography/My_Archive/20231118_Σπίτι_Κεχριές/P1340440_20231119.MP4\n",
      "\n"
     ]
    },
    {
     "name": "stderr",
     "output_type": "stream",
     "text": [
      "                                                              \r"
     ]
    },
    {
     "name": "stdout",
     "output_type": "stream",
     "text": [
      "Moviepy - Done !\n",
      "Moviepy - video ready /media/user7/Double_Dragon/Videography/My_Archive/20231118_Σπίτι_Κεχριές/P1340440_20231119.MP4\n",
      "Started: 7 of 23\t/media/user7/Double_Dragon/Videography/My_Archive/20231118_Σπίτι_Κεχριές/P1340441.MP4\n",
      "Moviepy - Building video /media/user7/Double_Dragon/Videography/My_Archive/20231118_Σπίτι_Κεχριές/P1340441_20231119.MP4.\n",
      "MoviePy - Writing audio in P1340441_20231119TEMP_MPY_wvf_snd.mp3\n"
     ]
    },
    {
     "name": "stderr",
     "output_type": "stream",
     "text": [
      "                                                       \r"
     ]
    },
    {
     "name": "stdout",
     "output_type": "stream",
     "text": [
      "MoviePy - Done.\n",
      "Moviepy - Writing video /media/user7/Double_Dragon/Videography/My_Archive/20231118_Σπίτι_Κεχριές/P1340441_20231119.MP4\n",
      "\n"
     ]
    },
    {
     "name": "stderr",
     "output_type": "stream",
     "text": [
      "                                                              \r"
     ]
    },
    {
     "name": "stdout",
     "output_type": "stream",
     "text": [
      "Moviepy - Done !\n",
      "Moviepy - video ready /media/user7/Double_Dragon/Videography/My_Archive/20231118_Σπίτι_Κεχριές/P1340441_20231119.MP4\n",
      "Started: 8 of 23\t/media/user7/Double_Dragon/Videography/My_Archive/20231118_Σπίτι_Κεχριές/P1340442.MP4\n",
      "Moviepy - Building video /media/user7/Double_Dragon/Videography/My_Archive/20231118_Σπίτι_Κεχριές/P1340442_20231119.MP4.\n",
      "MoviePy - Writing audio in P1340442_20231119TEMP_MPY_wvf_snd.mp3\n"
     ]
    },
    {
     "name": "stderr",
     "output_type": "stream",
     "text": [
      "                                                                 \r"
     ]
    },
    {
     "name": "stdout",
     "output_type": "stream",
     "text": [
      "MoviePy - Done.\n",
      "Moviepy - Writing video /media/user7/Double_Dragon/Videography/My_Archive/20231118_Σπίτι_Κεχριές/P1340442_20231119.MP4\n",
      "\n"
     ]
    },
    {
     "name": "stderr",
     "output_type": "stream",
     "text": [
      "                                                              \r"
     ]
    },
    {
     "name": "stdout",
     "output_type": "stream",
     "text": [
      "Moviepy - Done !\n",
      "Moviepy - video ready /media/user7/Double_Dragon/Videography/My_Archive/20231118_Σπίτι_Κεχριές/P1340442_20231119.MP4\n",
      "Started: 9 of 23\t/media/user7/Double_Dragon/Videography/My_Archive/20231118_Σπίτι_Κεχριές/P1340443.MP4\n",
      "Moviepy - Building video /media/user7/Double_Dragon/Videography/My_Archive/20231118_Σπίτι_Κεχριές/P1340443_20231119.MP4.\n",
      "MoviePy - Writing audio in P1340443_20231119TEMP_MPY_wvf_snd.mp3\n"
     ]
    },
    {
     "name": "stderr",
     "output_type": "stream",
     "text": [
      "                                                                    \r"
     ]
    },
    {
     "name": "stdout",
     "output_type": "stream",
     "text": [
      "MoviePy - Done.\n",
      "Moviepy - Writing video /media/user7/Double_Dragon/Videography/My_Archive/20231118_Σπίτι_Κεχριές/P1340443_20231119.MP4\n",
      "\n"
     ]
    },
    {
     "name": "stderr",
     "output_type": "stream",
     "text": [
      "                                                              \r"
     ]
    },
    {
     "name": "stdout",
     "output_type": "stream",
     "text": [
      "Moviepy - Done !\n",
      "Moviepy - video ready /media/user7/Double_Dragon/Videography/My_Archive/20231118_Σπίτι_Κεχριές/P1340443_20231119.MP4\n",
      "Started: 10 of 23\t/media/user7/Double_Dragon/Videography/My_Archive/20231118_Σπίτι_Κεχριές/P1340445.MP4\n",
      "Moviepy - Building video /media/user7/Double_Dragon/Videography/My_Archive/20231118_Σπίτι_Κεχριές/P1340445_20231119.MP4.\n",
      "MoviePy - Writing audio in P1340445_20231119TEMP_MPY_wvf_snd.mp3\n"
     ]
    },
    {
     "name": "stderr",
     "output_type": "stream",
     "text": [
      "                                                                    \r"
     ]
    },
    {
     "name": "stdout",
     "output_type": "stream",
     "text": [
      "MoviePy - Done.\n",
      "Moviepy - Writing video /media/user7/Double_Dragon/Videography/My_Archive/20231118_Σπίτι_Κεχριές/P1340445_20231119.MP4\n",
      "\n"
     ]
    },
    {
     "name": "stderr",
     "output_type": "stream",
     "text": [
      "                                                              \r"
     ]
    },
    {
     "name": "stdout",
     "output_type": "stream",
     "text": [
      "Moviepy - Done !\n",
      "Moviepy - video ready /media/user7/Double_Dragon/Videography/My_Archive/20231118_Σπίτι_Κεχριές/P1340445_20231119.MP4\n",
      "Started: 11 of 23\t/media/user7/Double_Dragon/Videography/My_Archive/20231118_Σπίτι_Κεχριές/P1340446.MP4\n",
      "Moviepy - Building video /media/user7/Double_Dragon/Videography/My_Archive/20231118_Σπίτι_Κεχριές/P1340446_20231119.MP4.\n",
      "MoviePy - Writing audio in P1340446_20231119TEMP_MPY_wvf_snd.mp3\n"
     ]
    },
    {
     "name": "stderr",
     "output_type": "stream",
     "text": [
      "                                                                    \r"
     ]
    },
    {
     "name": "stdout",
     "output_type": "stream",
     "text": [
      "MoviePy - Done.\n",
      "Moviepy - Writing video /media/user7/Double_Dragon/Videography/My_Archive/20231118_Σπίτι_Κεχριές/P1340446_20231119.MP4\n",
      "\n"
     ]
    },
    {
     "name": "stderr",
     "output_type": "stream",
     "text": [
      "                                                              \r"
     ]
    },
    {
     "name": "stdout",
     "output_type": "stream",
     "text": [
      "Moviepy - Done !\n",
      "Moviepy - video ready /media/user7/Double_Dragon/Videography/My_Archive/20231118_Σπίτι_Κεχριές/P1340446_20231119.MP4\n",
      "Started: 12 of 23\t/media/user7/Double_Dragon/Videography/My_Archive/20231118_Σπίτι_Κεχριές/P1340482.MP4\n",
      "Moviepy - Building video /media/user7/Double_Dragon/Videography/My_Archive/20231118_Σπίτι_Κεχριές/P1340482_20231119.MP4.\n",
      "MoviePy - Writing audio in P1340482_20231119TEMP_MPY_wvf_snd.mp3\n"
     ]
    },
    {
     "name": "stderr",
     "output_type": "stream",
     "text": [
      "                                                                   \r"
     ]
    },
    {
     "name": "stdout",
     "output_type": "stream",
     "text": [
      "MoviePy - Done.\n",
      "Moviepy - Writing video /media/user7/Double_Dragon/Videography/My_Archive/20231118_Σπίτι_Κεχριές/P1340482_20231119.MP4\n",
      "\n"
     ]
    },
    {
     "name": "stderr",
     "output_type": "stream",
     "text": [
      "                                                              \r"
     ]
    },
    {
     "name": "stdout",
     "output_type": "stream",
     "text": [
      "Moviepy - Done !\n",
      "Moviepy - video ready /media/user7/Double_Dragon/Videography/My_Archive/20231118_Σπίτι_Κεχριές/P1340482_20231119.MP4\n",
      "Started: 13 of 23\t/media/user7/Double_Dragon/Videography/My_Archive/20231118_Σπίτι_Κεχριές/P1340493.MP4\n",
      "Moviepy - Building video /media/user7/Double_Dragon/Videography/My_Archive/20231118_Σπίτι_Κεχριές/P1340493_20231119.MP4.\n",
      "MoviePy - Writing audio in P1340493_20231119TEMP_MPY_wvf_snd.mp3\n"
     ]
    },
    {
     "name": "stderr",
     "output_type": "stream",
     "text": [
      "                                                                   \r"
     ]
    },
    {
     "name": "stdout",
     "output_type": "stream",
     "text": [
      "MoviePy - Done.\n",
      "Moviepy - Writing video /media/user7/Double_Dragon/Videography/My_Archive/20231118_Σπίτι_Κεχριές/P1340493_20231119.MP4\n",
      "\n"
     ]
    },
    {
     "name": "stderr",
     "output_type": "stream",
     "text": [
      "                                                              \r"
     ]
    },
    {
     "name": "stdout",
     "output_type": "stream",
     "text": [
      "Moviepy - Done !\n",
      "Moviepy - video ready /media/user7/Double_Dragon/Videography/My_Archive/20231118_Σπίτι_Κεχριές/P1340493_20231119.MP4\n",
      "Started: 14 of 23\t/media/user7/Double_Dragon/Videography/My_Archive/20231118_Σπίτι_Κεχριές/P1340494.MP4\n",
      "Moviepy - Building video /media/user7/Double_Dragon/Videography/My_Archive/20231118_Σπίτι_Κεχριές/P1340494_20231119.MP4.\n",
      "MoviePy - Writing audio in P1340494_20231119TEMP_MPY_wvf_snd.mp3\n"
     ]
    },
    {
     "name": "stderr",
     "output_type": "stream",
     "text": [
      "                                                                  \r"
     ]
    },
    {
     "name": "stdout",
     "output_type": "stream",
     "text": [
      "MoviePy - Done.\n",
      "Moviepy - Writing video /media/user7/Double_Dragon/Videography/My_Archive/20231118_Σπίτι_Κεχριές/P1340494_20231119.MP4\n",
      "\n"
     ]
    },
    {
     "name": "stderr",
     "output_type": "stream",
     "text": [
      "                                                              \r"
     ]
    },
    {
     "name": "stdout",
     "output_type": "stream",
     "text": [
      "Moviepy - Done !\n",
      "Moviepy - video ready /media/user7/Double_Dragon/Videography/My_Archive/20231118_Σπίτι_Κεχριές/P1340494_20231119.MP4\n",
      "Started: 15 of 23\t/media/user7/Double_Dragon/Videography/My_Archive/20231118_Σπίτι_Κεχριές/P1340496.MP4\n",
      "Moviepy - Building video /media/user7/Double_Dragon/Videography/My_Archive/20231118_Σπίτι_Κεχριές/P1340496_20231119.MP4.\n",
      "MoviePy - Writing audio in P1340496_20231119TEMP_MPY_wvf_snd.mp3\n"
     ]
    },
    {
     "name": "stderr",
     "output_type": "stream",
     "text": [
      "                                                                    \r"
     ]
    },
    {
     "name": "stdout",
     "output_type": "stream",
     "text": [
      "MoviePy - Done.\n",
      "Moviepy - Writing video /media/user7/Double_Dragon/Videography/My_Archive/20231118_Σπίτι_Κεχριές/P1340496_20231119.MP4\n",
      "\n"
     ]
    },
    {
     "name": "stderr",
     "output_type": "stream",
     "text": [
      "                                                              \r"
     ]
    },
    {
     "name": "stdout",
     "output_type": "stream",
     "text": [
      "Moviepy - Done !\n",
      "Moviepy - video ready /media/user7/Double_Dragon/Videography/My_Archive/20231118_Σπίτι_Κεχριές/P1340496_20231119.MP4\n",
      "Started: 16 of 23\t/media/user7/Double_Dragon/Videography/My_Archive/20231118_Σπίτι_Κεχριές/P1340497.MP4\n",
      "Moviepy - Building video /media/user7/Double_Dragon/Videography/My_Archive/20231118_Σπίτι_Κεχριές/P1340497_20231119.MP4.\n",
      "MoviePy - Writing audio in P1340497_20231119TEMP_MPY_wvf_snd.mp3\n"
     ]
    },
    {
     "name": "stderr",
     "output_type": "stream",
     "text": [
      "                                                                    \r"
     ]
    },
    {
     "name": "stdout",
     "output_type": "stream",
     "text": [
      "MoviePy - Done.\n",
      "Moviepy - Writing video /media/user7/Double_Dragon/Videography/My_Archive/20231118_Σπίτι_Κεχριές/P1340497_20231119.MP4\n",
      "\n"
     ]
    },
    {
     "name": "stderr",
     "output_type": "stream",
     "text": [
      "                                                              \r"
     ]
    },
    {
     "name": "stdout",
     "output_type": "stream",
     "text": [
      "Moviepy - Done !\n",
      "Moviepy - video ready /media/user7/Double_Dragon/Videography/My_Archive/20231118_Σπίτι_Κεχριές/P1340497_20231119.MP4\n",
      "Started: 17 of 23\t/media/user7/Double_Dragon/Videography/My_Archive/20231118_Σπίτι_Κεχριές/P1340498.MP4\n",
      "Moviepy - Building video /media/user7/Double_Dragon/Videography/My_Archive/20231118_Σπίτι_Κεχριές/P1340498_20231119.MP4.\n",
      "MoviePy - Writing audio in P1340498_20231119TEMP_MPY_wvf_snd.mp3\n"
     ]
    },
    {
     "name": "stderr",
     "output_type": "stream",
     "text": [
      "                                                                   \r"
     ]
    },
    {
     "name": "stdout",
     "output_type": "stream",
     "text": [
      "MoviePy - Done.\n",
      "Moviepy - Writing video /media/user7/Double_Dragon/Videography/My_Archive/20231118_Σπίτι_Κεχριές/P1340498_20231119.MP4\n",
      "\n"
     ]
    },
    {
     "name": "stderr",
     "output_type": "stream",
     "text": [
      "                                                              \r"
     ]
    },
    {
     "name": "stdout",
     "output_type": "stream",
     "text": [
      "Moviepy - Done !\n",
      "Moviepy - video ready /media/user7/Double_Dragon/Videography/My_Archive/20231118_Σπίτι_Κεχριές/P1340498_20231119.MP4\n",
      "Started: 18 of 23\t/media/user7/Double_Dragon/Videography/My_Archive/20231118_Σπίτι_Κεχριές/P1340502.MP4\n",
      "Moviepy - Building video /media/user7/Double_Dragon/Videography/My_Archive/20231118_Σπίτι_Κεχριές/P1340502_20231119.MP4.\n",
      "MoviePy - Writing audio in P1340502_20231119TEMP_MPY_wvf_snd.mp3\n"
     ]
    },
    {
     "name": "stderr",
     "output_type": "stream",
     "text": [
      "                                                                    \r"
     ]
    },
    {
     "name": "stdout",
     "output_type": "stream",
     "text": [
      "MoviePy - Done.\n",
      "Moviepy - Writing video /media/user7/Double_Dragon/Videography/My_Archive/20231118_Σπίτι_Κεχριές/P1340502_20231119.MP4\n",
      "\n"
     ]
    },
    {
     "name": "stderr",
     "output_type": "stream",
     "text": [
      "                                                              \r"
     ]
    },
    {
     "name": "stdout",
     "output_type": "stream",
     "text": [
      "Moviepy - Done !\n",
      "Moviepy - video ready /media/user7/Double_Dragon/Videography/My_Archive/20231118_Σπίτι_Κεχριές/P1340502_20231119.MP4\n",
      "Started: 19 of 23\t/media/user7/Double_Dragon/Videography/My_Archive/20231118_Σπίτι_Κεχριές/P1340503.MP4\n",
      "Moviepy - Building video /media/user7/Double_Dragon/Videography/My_Archive/20231118_Σπίτι_Κεχριές/P1340503_20231119.MP4.\n",
      "MoviePy - Writing audio in P1340503_20231119TEMP_MPY_wvf_snd.mp3\n"
     ]
    },
    {
     "name": "stderr",
     "output_type": "stream",
     "text": [
      "                                                                    \r"
     ]
    },
    {
     "name": "stdout",
     "output_type": "stream",
     "text": [
      "MoviePy - Done.\n",
      "Moviepy - Writing video /media/user7/Double_Dragon/Videography/My_Archive/20231118_Σπίτι_Κεχριές/P1340503_20231119.MP4\n",
      "\n"
     ]
    },
    {
     "name": "stderr",
     "output_type": "stream",
     "text": [
      "                                                              \r"
     ]
    },
    {
     "name": "stdout",
     "output_type": "stream",
     "text": [
      "Moviepy - Done !\n",
      "Moviepy - video ready /media/user7/Double_Dragon/Videography/My_Archive/20231118_Σπίτι_Κεχριές/P1340503_20231119.MP4\n",
      "Started: 20 of 23\t/media/user7/Double_Dragon/Videography/My_Archive/20231118_Σπίτι_Κεχριές/P1340506.MP4\n",
      "Moviepy - Building video /media/user7/Double_Dragon/Videography/My_Archive/20231118_Σπίτι_Κεχριές/P1340506_20231119.MP4.\n",
      "MoviePy - Writing audio in P1340506_20231119TEMP_MPY_wvf_snd.mp3\n"
     ]
    },
    {
     "name": "stderr",
     "output_type": "stream",
     "text": [
      "                                                       \r"
     ]
    },
    {
     "name": "stdout",
     "output_type": "stream",
     "text": [
      "MoviePy - Done.\n",
      "Moviepy - Writing video /media/user7/Double_Dragon/Videography/My_Archive/20231118_Σπίτι_Κεχριές/P1340506_20231119.MP4\n",
      "\n"
     ]
    },
    {
     "name": "stderr",
     "output_type": "stream",
     "text": [
      "                                                            \r"
     ]
    },
    {
     "name": "stdout",
     "output_type": "stream",
     "text": [
      "Moviepy - Done !\n",
      "Moviepy - video ready /media/user7/Double_Dragon/Videography/My_Archive/20231118_Σπίτι_Κεχριές/P1340506_20231119.MP4\n",
      "Started: 21 of 23\t/media/user7/Double_Dragon/Videography/My_Archive/20231118_Σπίτι_Κεχριές/P1340624.MP4\n",
      "Moviepy - Building video /media/user7/Double_Dragon/Videography/My_Archive/20231118_Σπίτι_Κεχριές/P1340624_20231119.MP4.\n",
      "MoviePy - Writing audio in P1340624_20231119TEMP_MPY_wvf_snd.mp3\n"
     ]
    },
    {
     "name": "stderr",
     "output_type": "stream",
     "text": [
      "                                                                   \r"
     ]
    },
    {
     "name": "stdout",
     "output_type": "stream",
     "text": [
      "MoviePy - Done.\n",
      "Moviepy - Writing video /media/user7/Double_Dragon/Videography/My_Archive/20231118_Σπίτι_Κεχριές/P1340624_20231119.MP4\n",
      "\n"
     ]
    },
    {
     "name": "stderr",
     "output_type": "stream",
     "text": [
      "                                                              \r"
     ]
    },
    {
     "name": "stdout",
     "output_type": "stream",
     "text": [
      "Moviepy - Done !\n",
      "Moviepy - video ready /media/user7/Double_Dragon/Videography/My_Archive/20231118_Σπίτι_Κεχριές/P1340624_20231119.MP4\n",
      "Started: 22 of 23\t/media/user7/Double_Dragon/Videography/My_Archive/20231118_Σπίτι_Κεχριές/P1340625.MP4\n",
      "Moviepy - Building video /media/user7/Double_Dragon/Videography/My_Archive/20231118_Σπίτι_Κεχριές/P1340625_20231119.MP4.\n",
      "MoviePy - Writing audio in P1340625_20231119TEMP_MPY_wvf_snd.mp3\n"
     ]
    },
    {
     "name": "stderr",
     "output_type": "stream",
     "text": [
      "                                                                    \r"
     ]
    },
    {
     "name": "stdout",
     "output_type": "stream",
     "text": [
      "MoviePy - Done.\n",
      "Moviepy - Writing video /media/user7/Double_Dragon/Videography/My_Archive/20231118_Σπίτι_Κεχριές/P1340625_20231119.MP4\n",
      "\n"
     ]
    },
    {
     "name": "stderr",
     "output_type": "stream",
     "text": [
      "                                                              \r"
     ]
    },
    {
     "name": "stdout",
     "output_type": "stream",
     "text": [
      "Moviepy - Done !\n",
      "Moviepy - video ready /media/user7/Double_Dragon/Videography/My_Archive/20231118_Σπίτι_Κεχριές/P1340625_20231119.MP4\n",
      "Started: 23 of 23\t/media/user7/Double_Dragon/Videography/My_Archive/20231118_Σπίτι_Κεχριές/P1340626.MP4\n",
      "Moviepy - Building video /media/user7/Double_Dragon/Videography/My_Archive/20231118_Σπίτι_Κεχριές/P1340626_20231119.MP4.\n",
      "MoviePy - Writing audio in P1340626_20231119TEMP_MPY_wvf_snd.mp3\n"
     ]
    },
    {
     "name": "stderr",
     "output_type": "stream",
     "text": [
      "                                                                    \r"
     ]
    },
    {
     "name": "stdout",
     "output_type": "stream",
     "text": [
      "MoviePy - Done.\n",
      "Moviepy - Writing video /media/user7/Double_Dragon/Videography/My_Archive/20231118_Σπίτι_Κεχριές/P1340626_20231119.MP4\n",
      "\n"
     ]
    },
    {
     "name": "stderr",
     "output_type": "stream",
     "text": [
      "                                                              \r"
     ]
    },
    {
     "name": "stdout",
     "output_type": "stream",
     "text": [
      "Moviepy - Done !\n",
      "Moviepy - video ready /media/user7/Double_Dragon/Videography/My_Archive/20231118_Σπίτι_Κεχριές/P1340626_20231119.MP4\n"
     ]
    }
   ],
   "source": [
    "for counter, _video_filename in enumerate(videos):\n",
    "    print(f'Started: {str(counter+1)} of {str(len(videos))}\\t{_video_filename}')\n",
    "    \n",
    "    vid = VideoFileClip(_video_filename)\n",
    "    vid = vid.rotate(-90)\n",
    "    vid.write_videofile(rename_file_AddDate_bf_extension(_video_filename))\n",
    "    vid.close\n",
    "    "
   ]
  },
  {
   "cell_type": "code",
   "execution_count": null,
   "metadata": {},
   "outputs": [],
   "source": []
  }
 ],
 "metadata": {
  "kernelspec": {
   "display_name": "Python 3 (ipykernel)",
   "language": "python",
   "name": "python3"
  },
  "language_info": {
   "codemirror_mode": {
    "name": "ipython",
    "version": 3
   },
   "file_extension": ".py",
   "mimetype": "text/x-python",
   "name": "python",
   "nbconvert_exporter": "python",
   "pygments_lexer": "ipython3",
   "version": "3.10.9"
  },
  "vscode": {
   "interpreter": {
    "hash": "6e3e0c74c42b6acea78eab02c67a051ccb44bb5ef781466f524e76292bc736f0"
   }
  }
 },
 "nbformat": 4,
 "nbformat_minor": 2
}
