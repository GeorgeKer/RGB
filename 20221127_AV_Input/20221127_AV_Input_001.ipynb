{
 "cells": [
  {
   "cell_type": "code",
   "execution_count": 3,
   "metadata": {},
   "outputs": [],
   "source": [
    "import datetime\n",
    "import easygui\n",
    "import cv2\n",
    "import librosa\n",
    "import numpy as np\n",
    "from  matplotlib import pyplot as plt\n",
    "# from vidgear.gears import VideoGear, WriteGear \n",
    "import math"
   ]
  },
  {
   "cell_type": "code",
   "execution_count": 3,
   "metadata": {},
   "outputs": [
    {
     "name": "stdout",
     "output_type": "stream",
     "text": [
      "INPUT_VIDEO: /mnt/Double_Dragon/Videography/Archive/20221127_Χαϊδάρι_Βράδυ_Πάρκο/P1150201_20221127181010_ROT90.MP4\n",
      "INPUT_AUDIO: /home/user7/Bitwig Studio/Projects/20221112_TimpArmy/20221114_TimpArmy_B 2022-11-28_0015_Bd.mp3\n"
     ]
    }
   ],
   "source": [
    "INPUT_VIDEO = easygui.fileopenbox(msg='Choose VIDEO for input', default='/mnt/Double_Dragon/Videography/', filetypes=['*.MP4', '*.mp4' ])\n",
    "INPUT_AUDIO = easygui.fileopenbox(msg='Choose AUDIO for input', default='/mnt/Double_Dragon/Videography/', filetypes=['*.MP3', '*.mp3', '*.aac' ])\n",
    "\n",
    "print ('INPUT_VIDEO: ' + INPUT_VIDEO) if INPUT_VIDEO else print('NO INPUT_VIDEO SELECTED')\n",
    "print('INPUT_AUDIO: ' + INPUT_AUDIO) if INPUT_AUDIO else print('NO INPUT_AUDIO SELECTED')"
   ]
  },
  {
   "cell_type": "code",
   "execution_count": 2,
   "metadata": {},
   "outputs": [],
   "source": [
    "def rename_clip_AddTimestamp (_filename):\n",
    "    timestamp = datetime.datetime.now()\n",
    "    t = str(timestamp.year), str(timestamp.month), str(timestamp.day), str(timestamp.hour), str(timestamp.minute), str(timestamp.second)\n",
    "    return _filename.replace('.MP4', '_' + ''.join(t) + '.MP4')"
   ]
  },
  {
   "cell_type": "code",
   "execution_count": 38,
   "metadata": {},
   "outputs": [],
   "source": [
    "INPUT_VIDEO =  '/mnt/Double_Dragon/Videography/Archive/20221119_Χαϊδάρι_Νίκαια/P1150137_20221121203748_ROT90.MP4'\n",
    "INPUT_AUDIO_01 = '/home/user7/Bitwig Studio/Projects/20220926_RandomOrgan_Glitch/20221201_RandomOrgan_DroneGlitch_BEAT.mp3'\n",
    "INPUT_AUDIO_02 = '/home/user7/Bitwig Studio/Projects/20220926_RandomOrgan_Glitch/20221201_RandomOrgan_DroneGlitch_ALL.mp3'"
   ]
  },
  {
   "cell_type": "code",
   "execution_count": 39,
   "metadata": {},
   "outputs": [
    {
     "name": "stderr",
     "output_type": "stream",
     "text": [
      "/home/user7/anaconda3/envs/AV_20210619/lib/python3.8/site-packages/librosa/util/decorators.py:88: UserWarning: PySoundFile failed. Trying audioread instead.\n",
      "  return f(*args, **kwargs)\n"
     ]
    }
   ],
   "source": [
    "_video = VideoGear(source=INPUT_VIDEO).start()\n",
    "_video_CV = cv2.VideoCapture(INPUT_VIDEO)\n",
    "amp01, samplerate01= librosa.load(path=INPUT_AUDIO_01, mono= True)\n",
    "amp01 = np.abs(amp01)\n",
    "\n",
    "output_params = {\"-input_framerate\": _video.framerate}\n",
    "\n",
    "new_video_filename = rename_clip_AddTimestamp(INPUT_VIDEO)\n",
    "writer = WriteGear(output_filename=\"output_video.MP4\", **output_params)\n",
    "\n",
    "audioframe_num = 0\n",
    "while True:\n",
    "    # frame= _video.read()\n",
    "    fr_exists, frame_CV = _video_CV.read()\n",
    "    if fr_exists:\n",
    "            frame_timestamp = _video_CV.get(cv2.CAP_PROP_POS_MSEC) \n",
    "    else: \n",
    "        break\n",
    "    \n",
    "    # modify frame\n",
    "    frame_amp = math.floor( amp01[audioframe_num]*150)\n",
    "    if frame_amp > 1 :\n",
    "        new_frame = cv2.blur(frame_CV,  (frame_amp, frame_amp))\n",
    "    else:\n",
    "        new_frame = frame_CV\n",
    "    # print (str(frame_timestamp) + '\\t\\t\\t\\t' + str(amp01[audioframe_num])+ '\\t\\t\\t\\t' + str(audioframe_num))\n",
    "    writer.write(new_frame)\n",
    "\n",
    "    audioframe_num = librosa.time_to_samples(times=frame_timestamp*0.001, sr=samplerate01) \n",
    "\n",
    "_video.stop()\n",
    "_video_CV.release\n",
    "writer.close()\n",
    "\n",
    "####################################################################################\n",
    "# add output_audio.aac\n",
    "ffmpeg_command = [\n",
    "\"-y\",\n",
    "\"-i\",\n",
    "\"output_video.MP4\",\n",
    "\"-i\",\n",
    "INPUT_AUDIO_02,\n",
    "\"-c:v\",\n",
    "\"copy\",\n",
    "\"-c:a\",\n",
    "\"copy\",\n",
    "\"-map\",\n",
    "\"0:v:0\",\n",
    "\"-map\",\n",
    "\"1:a:0\",\n",
    "\"-shortest\",\n",
    "\"output_video_AV.MP4\"\n",
    "]\n",
    "writer.execute_ffmpeg_cmd(ffmpeg_command)"
   ]
  },
  {
   "cell_type": "code",
   "execution_count": 15,
   "metadata": {},
   "outputs": [],
   "source": [
    "import cv2\n",
    "import numpy as np\n",
    "\n",
    "img = cv2.imread('mpv-shot0001.jpg')\n",
    "rect = (50,50, img.shape[1]-50, img.shape[0]-50)\n",
    "mask = np.zeros(img.shape[:2],np.uint8)\n",
    "bgdModel = np.zeros((1,65),np.float64)\n",
    "fgdModel = np.zeros((1,65),np.float64)\n",
    "cv2.grabCut(img,mask,rect,bgdModel,fgdModel,5,cv2.GC_INIT_WITH_RECT)\n",
    "mask2 = np.where((mask==2)|(mask==0),0,1).astype('uint8')\n",
    "img2 = img*mask2[:,:,np.newaxis]\n",
    "cv2.imshow('test', img2)\n",
    "\n",
    "# cv2.imshow('Glitched2', cv2.grabCut(img,mask,rect,bgdModel,fgdModel,5,cv2.GC_INIT_WITH_RECT))\n",
    "# img_canny = cv2.Canny(img, 20, 20)\n",
    "cv2.imshow('Original', img)\n",
    "# cv2.imshow('Glitched', img_canny)\n",
    "# cv2.imshow('Blurred 5', cv2.blur(img, (1, 1)))\n",
    "# cv2.imshow('Blurred 15', cv2.blur(img, (15, 15)))\n",
    "# cv2.imshow('Blurred 25', cv2.blur(img, (25, 25)))\n",
    "# cv2.imshow('Blurred 35', cv2.blur(img, (35, 35)))\n",
    "\n",
    "cv2.waitKey(0) \n",
    "cv2.destroyAllWindows()"
   ]
  },
  {
   "cell_type": "code",
   "execution_count": null,
   "metadata": {},
   "outputs": [],
   "source": []
  }
 ],
 "metadata": {
  "kernelspec": {
   "display_name": "base",
   "language": "python",
   "name": "python3"
  },
  "language_info": {
   "codemirror_mode": {
    "name": "ipython",
    "version": 3
   },
   "file_extension": ".py",
   "mimetype": "text/x-python",
   "name": "python",
   "nbconvert_exporter": "python",
   "pygments_lexer": "ipython3",
   "version": "3.10.9"
  },
  "orig_nbformat": 4,
  "vscode": {
   "interpreter": {
    "hash": "6e3e0c74c42b6acea78eab02c67a051ccb44bb5ef781466f524e76292bc736f0"
   }
  }
 },
 "nbformat": 4,
 "nbformat_minor": 2
}
