{
 "cells": [
  {
   "cell_type": "code",
   "execution_count": 1,
   "metadata": {},
   "outputs": [],
   "source": [
    "import easygui\n",
    "from  moviepy.editor import *\n",
    "import os\n",
    "import icecream as ic\n",
    "from moviepy.config import change_settings\n",
    "import datetime\n",
    "# import imageio.v2 as iio\n",
    "from matplotlib import pyplot as plt\n",
    "import cv2\n",
    "# change_settings({\"FFMPEG_BINARY\": \"ffmpeg\"})"
   ]
  },
  {
   "cell_type": "code",
   "execution_count": 2,
   "metadata": {},
   "outputs": [
    {
     "name": "stdout",
     "output_type": "stream",
     "text": [
      "Video Imported: \n",
      "/mnt/Double_Dragon/Videography/Python_Projects/20221002_FrameEffects/P1130140_rot90.MP4\n"
     ]
    }
   ],
   "source": [
    "# directory = easygui.diropenbox(msg='Choose Folder with Video Files to Rotage90', default='/mnt/Double_Dragon/')\n",
    "init_vid = easygui.fileopenbox(msg='Choose Video FIle to open:', default='./')\n",
    "init_vid_path = os.path.realpath(init_vid) \n",
    "print( 'Video Imported: \\n' +  init_vid_path)"
   ]
  },
  {
   "cell_type": "code",
   "execution_count": 15,
   "metadata": {},
   "outputs": [
    {
     "name": "stdout",
     "output_type": "stream",
     "text": [
      "frames per second = 23.98\n",
      "frame id = 95\n",
      "True\n"
     ]
    }
   ],
   "source": [
    "video = cv2.VideoCapture(init_vid_path)\n",
    "fps = video.get(cv2.CAP_PROP_FPS)\n",
    "print('frames per second =',fps)\n",
    "\n",
    "minutes = 0\n",
    "seconds = 4\n",
    "frame_id = int(fps*(minutes*60 + seconds))\n",
    "print('frame id =',frame_id)\n",
    "\n",
    "video.set(cv2.CAP_PROP_POS_FRAMES, frame_id)\n",
    "ret, frame = video.read()\n",
    "print(ret)\n",
    "\n",
    "cv2.imshow('frame', frame); cv2.waitKey(0)"
   ]
  },
  {
   "cell_type": "code",
   "execution_count": 5,
   "metadata": {},
   "outputs": [
    {
     "data": {
      "text/plain": [
       "True"
      ]
     },
     "execution_count": 5,
     "metadata": {},
     "output_type": "execute_result"
    }
   ],
   "source": [
    "video.isOpened()"
   ]
  },
  {
   "cell_type": "code",
   "execution_count": null,
   "metadata": {},
   "outputs": [],
   "source": [
    "# def write_clip (clip) :\n",
    "#     clip.write_videofile(rename_clip_AddTimestamp(clip.filename), \n",
    "#                                             preset='veryslow', \n",
    "#                                             audio_fps=48000,\n",
    "#                                             # audio_codec='libfdk_aac',\n",
    "#                                             codec='mpeg4',\n",
    "#                                             bitrate='50000k',\n",
    "#                                             threads=7)\n",
    "#     return\n",
    "\n",
    "# def rename_clip_AddTimestamp (filename):\n",
    "#     timestamp = datetime.datetime.now()\n",
    "#     t = str(timestamp.year), str(timestamp.month), str(timestamp.day), str(timestamp.hour), str(timestamp.minute), str(timestamp.second)\n",
    "#     return filename.replace('.MP4', '_' + ''.join(t) + '.MP4')\n",
    "\n",
    "#        def image_filter(im):\n",
    "#         im = 1.0 * im  # float conversion\n",
    "#         corrected = im + lum + contrast * (im - float(contrast_threshold))\n",
    "#         corrected[corrected < 0] = 0\n",
    "#         corrected[corrected > 255] = 255\n",
    "#         return corrected.astype(\"uint8\")\n",
    "\n",
    "# myclip = VideoFileClip(init_vid).fx(vfx.colorx, 1).fx(vfx.lum_contrast, 0, 2, 12)\n",
    "# # write_clip(myclip)"
   ]
  },
  {
   "cell_type": "code",
   "execution_count": null,
   "metadata": {},
   "outputs": [],
   "source": [
    "myvid = iio.get_reader(init_vid_path)\n",
    "myimg = myvid.get_data(0)\n",
    "\n",
    "plt.figure(figsize=(1.5*12, 1.5*9))\n",
    "plt.imshow(frame)\n",
    "# plt.imshow(frame, interpolation ='nearest')"
   ]
  },
  {
   "cell_type": "code",
   "execution_count": null,
   "metadata": {},
   "outputs": [],
   "source": []
  }
 ],
 "metadata": {
  "kernelspec": {
   "display_name": "Python 3.8.10 ('AV_20210619')",
   "language": "python",
   "name": "python3"
  },
  "language_info": {
   "codemirror_mode": {
    "name": "ipython",
    "version": 3
   },
   "file_extension": ".py",
   "mimetype": "text/x-python",
   "name": "python",
   "nbconvert_exporter": "python",
   "pygments_lexer": "ipython3",
   "version": "3.8.10"
  },
  "orig_nbformat": 4,
  "vscode": {
   "interpreter": {
    "hash": "d58c107ef9c844447595edfcbea94b436b4ec96a01c38f5998ee33f2beea4a5e"
   }
  }
 },
 "nbformat": 4,
 "nbformat_minor": 2
}
